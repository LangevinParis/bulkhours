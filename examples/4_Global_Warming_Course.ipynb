{
  "nbformat": 4,
  "nbformat_minor": 0,
  "metadata": {
    "colab": {
      "provenance": [],
      "toc_visible": true
    },
    "kernelspec": {
      "name": "python3",
      "display_name": "Python 3"
    },
    "gpuClass": "standard"
  },
  "cells": [
    {
      "cell_type": "markdown",
      "source": [
        "# Install the package\n",
        "\n",
        "First, you need to install the package from github and import it:"
      ],
      "metadata": {
        "id": "cxb4MUu_VnLD"
      }
    },
    {
      "cell_type": "code",
      "source": [
        "# Install the bulkhours package\n",
        "!rm -rf bulkhours && git clone https://github.com/guydegnol/bulkhours.git\n",
        "\n",
        "# import the bulkhours package\n",
        "import bulkhours\n",
        "\n",
        "# Generate header links\n",
        "bulkhours.generate_header_links(\"examples/1_Simple_Exercice_Automation.ipynb\")"
      ],
      "metadata": {
        "id": "rSpNjxbXy0TB",
        "colab": {
          "base_uri": "https://localhost:8080/",
          "height": 175
        },
        "outputId": "ab604d7b-4a45-427b-8125-c5504b9ef307"
      },
      "execution_count": null,
      "outputs": [
        {
          "output_type": "stream",
          "name": "stdout",
          "text": [
            "Cloning into 'bulkhours'...\n",
            "remote: Enumerating objects: 5159, done.\u001b[K\n",
            "remote: Counting objects: 100% (758/758), done.\u001b[K\n",
            "remote: Compressing objects: 100% (368/368), done.\u001b[K\n",
            "remote: Total 5159 (delta 474), reused 642 (delta 361), pack-reused 4401\u001b[K\n",
            "Receiving objects: 100% (5159/5159), 40.86 MiB | 10.84 MiB/s, done.\n",
            "Resolving deltas: 100% (3311/3311), done.\n"
          ]
        },
        {
          "output_type": "display_data",
          "data": {
            "text/plain": [
              "<IPython.core.display.Markdown object>"
            ],
            "text/markdown": "\n[![Open In Colab](https://colab.research.google.com/assets/colab-badge.svg)](https://colab.research.google.com/github/guydegnol/bulkhours/blob/main/examples/1_Simple_Exercice_Automation.ipynb) [![Open In Kaggle](https://kaggle.com/static/images/open-in-kaggle.svg)](https://kaggle.com/kernels/welcome?src=https://github.com/guydegnol/bulkhours/blob/main/examples/1_Simple_Exercice_Automation.ipynb) [![GitHub](https://badgen.net/badge/icon/Open%20in%20Github?icon=github&label)](https://github.com/guydegnol/bulkhours/blob/main/examples/1_Simple_Exercice_Automation.ipynb) [![Visual Studio](https://badgen.net/badge/icon/Open%20in%20Visual%20Studio?icon=visualstudio&label)](https://vscode.dev/github/guydegnol/bulkhours/blob/main/examples/1_Simple_Exercice_Automation.ipynb) [![CC-0 license](https://img.shields.io/badge/License-CC--0-blue.svg)](https://creativecommons.org/licenses/by-nd/4.0)\n                            "
          },
          "metadata": {}
        }
      ]
    },
    {
      "cell_type": "code",
      "source": [
        "# Calcul des effets de serre des planetes telluriques\n",
        "from bulkhours import constants as bkc\n",
        "\n",
        "planetes = bkc.DataFrame(index=[\"mercure\", \"venus\", \"terre\", \"mars\"], columns=[\"Albedo\", \"d_ua\", \"T_C\"])\n",
        "bkc.print(r\"Equilibre thermique: $(1-A)\\frac{ L_\\odot R^2}{4 d^2} \\equiv (1-S) 4 \\pi R^2 \\sigma T^4$\", size=\"+1\")\n",
        "planetes[\"T_C/no atmo.\"] = (((1-planetes.Albedo) * bkc.L_soleil / (16 * np.pi * (planetes.d_ua * bkc.d_terresoleil)**2 * bkc.sigma))**0.25-bkc.c2k).round()\n",
        "planetes[\"Effet de serre\"] = (1-( (1 - planetes.Albedo) * bkc.L_soleil / (planetes.T_C + bkc.c2k)**4 / (16 * bkc.pi * (planetes.d_ua * bkc.d_terresoleil)**2 * bkc.sigma))).round(3)\n",
        "\n",
        "bkc.print(r\"Forcage radiatif: $F = S\\cdot \\sigma \\cdot T^4$\", size=\"+1\")\n",
        "planetes[\"Forcage radiatif (W/m2)\"] = (planetes[\"Effet de serre\"] * bkc.sigma * (planetes.T_C + bkc.c2k)**4).round(3)\n",
        "display(planetes)\n",
        "\n",
        "# Affichage des propriétés de la terre (pour cc(CO2)=280ppm)\n",
        "\n",
        "# Affichage de quelques scenarios\n",
        "fig, ax = plt.subplots(1, ncols=2, figsize=(12, 4))\n",
        "def calculate_T(ppm):\n",
        "    F = bkc.sigma * bkc.S_terre *(bkc.T_terre + bkc.c2k)**4\n",
        "    F_prime = F * np.log(ppm) / np.log(280)\n",
        "    T_prime = ( (1-bkc.S_terre) * (bkc.T_terre + bkc.c2k)**4 + F_prime / bkc.sigma)**0.25 - bkc.c2k\n",
        "    return T_prime-15\n",
        "\n",
        "co2 = bulkhours.get_data(\"co2.concentrations\", index=\"year\").loc[1900:].ffill()[\"CO2 concentrations\"]\n",
        "co2.plot(legend=True, ax=ax[0])\n",
        "calculate_T(co2).plot(legend=True, ax=ax[1], label=\"Anomalie de Temperature °C (Holocène)\")\n",
        "def scenario(label, damping_trend):\n",
        "    with ipywidgets.Output():\n",
        "        y_pred = smtsa.ExponentialSmoothing(co2, initialization_method='legacy-heuristic', damped_trend=True,\n",
        "                                            trend=\"mul\").fit(smoothing_trend=30, damping_trend=damping_trend).forecast(77); y_pred.index += 1900\n",
        "    y_pred.plot(legend=True, ax=ax[0], label=label)\n",
        "    calculate_T(y_pred).plot(legend=True, ax=ax[1], label=label)\n",
        "\n",
        "scenario(\"Scenario 1\", 0.987)\n",
        "scenario(\"Scenario 2\", 0.97)\n",
        "scenario(\"Scenario 3\", 0.95)"
      ],
      "metadata": {
        "id": "77Q1SsluC-Y-"
      },
      "execution_count": null,
      "outputs": []
    },
    {
      "cell_type": "code",
      "source": [],
      "metadata": {
        "id": "99fs378NZ7Yq"
      },
      "execution_count": null,
      "outputs": []
    }
  ]
}