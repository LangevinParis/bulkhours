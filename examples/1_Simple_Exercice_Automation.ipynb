{
  "cells": [
    {
      "cell_type": "markdown",
      "metadata": {
        "id": "cxb4MUu_VnLD"
      },
      "source": [
        "# Install the package\n",
        "\n",
        "First, you need to install the package from github and import it:"
      ]
    },
    {
      "cell_type": "code",
      "execution_count": 1,
      "metadata": {
        "colab": {
          "base_uri": "https://localhost:8080/",
          "height": 175
        },
        "id": "rSpNjxbXy0TB",
        "outputId": "719fb135-c8b7-4ccf-84db-ca7fdf1d805d"
      },
      "outputs": [
        {
          "name": "stdout",
          "output_type": "stream",
          "text": [
            "Cloning into 'bulkhours'...\n",
            "remote: Enumerating objects: 5500, done.\u001b[K\n",
            "remote: Counting objects: 100% (1099/1099), done.\u001b[K\n",
            "remote: Compressing objects: 100% (425/425), done.\u001b[K\n",
            "remote: Total 5500 (delta 722), reused 996 (delta 635), pack-reused 4401\u001b[K\n",
            "Receiving objects: 100% (5500/5500), 41.70 MiB | 23.16 MiB/s, done.\n",
            "Resolving deltas: 100% (3559/3559), done.\n"
          ]
        },
        {
          "data": {
            "text/markdown": [
              "[![Open In Colab](https://colab.research.google.com/assets/colab-badge.svg)](https://colab.research.google.com/github/guydegnol/bulkhours/blob/main/examples/1_Simple_Exercice_Automation.ipynb) [![Open In Kaggle](https://kaggle.com/static/images/open-in-kaggle.svg)](https://kaggle.com/kernels/welcome?src=https://github.com/guydegnol/bulkhours/blob/main/examples/1_Simple_Exercice_Automation.ipynb) [![GitHub](https://badgen.net/badge/icon/Open%20in%20Github?icon=github&label)](https://github.com/guydegnol/bulkhours/blob/main/examples/1_Simple_Exercice_Automation.ipynb) [![Open in Visual Studio Code](https://img.shields.io/static/v1?logo=visualstudiocode&label=&message=Open%20in%20Visual%20Studio&labelColor=2c2c32&color=007acc&logoColor=007acc)](https://vscode.dev/github/guydegnol/bulkhours/blob/main/examples/1_Simple_Exercice_Automation.ipynb) [![CC-by-nc-sa license](https://badgen.net/badge/icon/CC%20by-nc-sa?label=Licence)](https://creativecommons.org/licenses/by-nc-sa/4.0)\n"
            ],
            "text/plain": [
              "<IPython.core.display.Markdown object>"
            ]
          },
          "metadata": {},
          "output_type": "display_data"
        }
      ],
      "source": [
        "# Install the bulkhours package\n",
        "!rm -rf bulkhours && git clone https://github.com/guydegnol/bulkhours.git\n",
        "\n",
        "# import the bulkhours package\n",
        "import bulkhours\n",
        "\n",
        "# Generate header links\n",
        "bulkhours.generate_header_links(\"examples/1_Simple_Exercice_Automation.ipynb\")"
      ]
    },
    {
      "cell_type": "markdown",
      "metadata": {
        "id": "WAWZ3hSUC_ju"
      },
      "source": [
        "# Create my first exercice\n",
        "\n",
        "\n",
        "**Exercise**: Using `numpy.exp`, implement the $\\sigma(z) = \\frac{1}{1 + e^{-z}}$ to make predictions. The expected solution is in the following cell:\n"
      ]
    },
    {
      "cell_type": "code",
      "execution_count": 2,
      "metadata": {
        "id": "77Q1SsluC-Y-"
      },
      "outputs": [],
      "source": [
        "import numpy as np\n",
        "\n",
        "def sigmoid(z):\n",
        "  s = 1 / (1 + np.exp(-z))\n",
        "  return s"
      ]
    },
    {
      "cell_type": "markdown",
      "metadata": {
        "id": "CIrOZMQ-DrRC"
      },
      "source": [
        "# Set a unique id for the exercice\n",
        "\n",
        "To identify an exercice, we need to define an id for each cell. Here the id of the exercice is ```my_first_exercice```:"
      ]
    },
    {
      "cell_type": "code",
      "execution_count": 3,
      "metadata": {
        "colab": {
          "base_uri": "https://localhost:8080/"
        },
        "id": "xyPNN-G5Uv7v",
        "outputId": "745aed74-2886-4d14-86b0-b1c254b603bb"
      },
      "outputs": [
        {
          "name": "stdout",
          "output_type": "stream",
          "text": [
            "# To be able to use your the evaluation tools, you need to identify yourself with the following command:\n",
            "bulkhours.init_env(\u001b[1memail\u001b[0m=\"name@institute.ac\")  # To be run in an initisalization cell\n",
            "\n",
            "# You can also use the following command to get more information:\n",
            "\u001b[1mhelp(bulkhours.init_env)\u001b[0m\n",
            "    \n"
          ]
        }
      ],
      "source": [
        "%%evaluation_cell_id -i my_first_exercice\n",
        "\n",
        "def sigmoid(z):\n",
        "  s = 1 / (1 + np.exp(-z))\n",
        "  return s\n",
        "\n",
        "for z in [1, 3, 7]:\n",
        "  print(f\"sigmoid({z})={sigmoid(z)}\")"
      ]
    },
    {
      "cell_type": "markdown",
      "metadata": {
        "id": "-DBpDhtJEK7e"
      },
      "source": [
        "The execution of the previous cell should have failed. **You need to identify yourself first** :\n",
        "\n"
      ]
    },
    {
      "cell_type": "code",
      "execution_count": 5,
      "metadata": {
        "colab": {
          "base_uri": "https://localhost:8080/"
        },
        "id": "psOl-fFwCr8n",
        "outputId": "e467cdcc-9bb4-41e1-dd32-9f477d4b4913"
      },
      "outputs": [
        {
          "name": "stdout",
          "output_type": "stream",
          "text": [
            "Import BULK Helper cOURSe (\u001b[0m\u001b[36mversion='5.2.24'\u001b[0m🚀'):⚠️\u001b[31mDatabase is local (security_level=0). Export your config file if you need persistency.\u001b[0m⚠️\n",
            "(db, subject, virtual_room, nb_id, user) = (free1.json, '', room1, '', obiwan.kenobi@jedi.com✅)\n"
          ]
        }
      ],
      "source": [
        "bulkhours.init_env(email=\"obiwan.kenobi@jedi.com\")"
      ]
    },
    {
      "cell_type": "markdown",
      "metadata": {
        "id": "Nwmyi3XvZTvl"
      },
      "source": [
        "💡**In practice, you should use secured a access with identification checking to avoid security issues**. For example, this is a typical identification used in course:\n",
        "```\n",
        "# A secured access to the database for the teacher\n",
        "bulkhours.init_env(email=\"dave.gahan@bulkhours.org\", database=\"bkloud@prems/teacher::eNqlVtmSo8gV_ZV-cd...\")\n",
        "\n",
        "# A secured access to a virtual class database for students\n",
        "bulkhours.init_env(email=\"dave.gahan@bulkhours.org\", database= \"bkloud@prems/winterfell_student::eNqVVtmyo8gV_JV-cfRMaLpB7...\")\n",
        "```\n",
        "\n"
      ]
    },
    {
      "cell_type": "markdown",
      "metadata": {
        "id": "KZhMIN2pxfjo"
      },
      "source": [
        "# Get the answer from another notebook\n",
        "\n",
        "Normaly, all the following code should be runned in a teacher notebook."
      ]
    },
    {
      "cell_type": "markdown",
      "metadata": {
        "id": "ylhoreJQb1I7"
      },
      "source": [
        "In demo mode, you can simply switch to the teacher mode calling the\n",
        "```bulkhours.init_env``` with the ```is_admin=True``` argument/\n"
      ]
    },
    {
      "cell_type": "code",
      "execution_count": 6,
      "metadata": {
        "colab": {
          "base_uri": "https://localhost:8080/"
        },
        "id": "ITm3ZI9ZE8f5",
        "outputId": "55a9250e-21ef-4e7f-f09e-b163076b5687"
      },
      "outputs": [
        {
          "name": "stdout",
          "output_type": "stream",
          "text": [
            "Import BULK Helper cOURSe (\u001b[0m\u001b[36mversion='5.2.24'\u001b[0m🚀', ⚠️\u001b[31m\u001b[41m\u001b[37m in admin/teacher🎓 mode\u001b[0m⚠️):⚠️\u001b[31mDatabase is local (security_level=0). Export your config file if you need persistency.\u001b[0m⚠️\n",
            "(db, subject, virtual_room, nb_id, user) = (free1.json, '', room1, '', yoda@jedi.com🎓)\n"
          ]
        }
      ],
      "source": [
        "bulkhours.init_env(email=\"yoda@jedi.com\", is_admin=True)"
      ]
    },
    {
      "cell_type": "markdown",
      "metadata": {
        "id": "wHkOSnlmyWkP"
      },
      "source": [
        "\n",
        "In real life, this code should be runned from the teacher notebook only"
      ]
    },
    {
      "cell_type": "code",
      "execution_count": 8,
      "metadata": {
        "colab": {
          "base_uri": "https://localhost:8080/",
          "height": 68,
          "referenced_widgets": [
            "2ae7bd3ba0bc49c8bcea870c9902a1af",
            "df5b0a045ff345778171f68f3608b724",
            "fa7970c73ab9400b943dcc8ab5ef8914"
          ]
        },
        "id": "TP_1tQGQx1ST",
        "outputId": "f24af74a-9cdd-47f3-9236-80cd52c8b17c"
      },
      "outputs": [
        {
          "name": "stdout",
          "output_type": "stream",
          "text": [
            "\n"
          ]
        },
        {
          "data": {
            "application/vnd.jupyter.widget-view+json": {
              "model_id": "2ae7bd3ba0bc49c8bcea870c9902a1af",
              "version_major": 2,
              "version_minor": 0
            },
            "text/plain": [
              "HTML(value=\"<b><font face='FiraCode Nerd Font' size=4 color='black'>Pas de réponse disponible pour obiwan.keno…"
            ]
          },
          "metadata": {},
          "output_type": "display_data"
        }
      ],
      "source": [
        "bulkhours.admin.evaluate(\"my_first_exercice\", user=\"obiwan.kenobi@jedi.com\", show_correction=False)"
      ]
    },
    {
      "cell_type": "markdown",
      "metadata": {
        "id": "OBb4Vr4bE0OJ"
      },
      "source": [
        "# Automation of the grade\n"
      ]
    },
    {
      "cell_type": "markdown",
      "metadata": {
        "id": "W6Fe9ZVUUqg3"
      },
      "source": [
        "Now we can build a correction for this exercice"
      ]
    },
    {
      "cell_type": "code",
      "execution_count": 9,
      "metadata": {
        "colab": {
          "base_uri": "https://localhost:8080/",
          "height": 101,
          "referenced_widgets": [
            "225b5b3740be4ce18afaf208a85a6078",
            "260e76eea70048a19a774bc19681ba2a",
            "ffd3f5a728e9453e9154d2b777ee1a99",
            "dde217fd63134321aea7b864dcebedf1",
            "48bff03bbe0c4f71b545e6dccb97e0e2",
            "459f4e7625394dd5852ac9df5dec725d",
            "c11f12512df144069714e0e75552d74d",
            "a1b3c55677af41b1ac5d2785e5885507",
            "71078363fdfd4d7e8e821e3ea8229a54",
            "38156aae2f9147929cbfb24a3efb2cb7",
            "fb6b91929a14434ea163c578b5a1cb8d",
            "b08d898665cc4bf7bfe93ba5c1ba6b19",
            "e077b5ecb1cf4b19b98187d529428392",
            "0535672a695544fca85132abf989061e",
            "d0124bc29d7b4a369f50ead73accc2f4",
            "2235c23074c34f4985a26080a515975d"
          ]
        },
        "id": "83iMiWRuTWJk",
        "outputId": "4a883f22-5fc3-47dc-92b3-5d0665b44e0b"
      },
      "outputs": [
        {
          "data": {
            "application/vnd.jupyter.widget-view+json": {
              "model_id": "225b5b3740be4ce18afaf208a85a6078",
              "version_major": 2,
              "version_minor": 0
            },
            "text/plain": [
              "HBox(children=(Button(button_style='primary', description='Envoyer au correcteur', layout=Layout(width='150px'…"
            ]
          },
          "metadata": {},
          "output_type": "display_data"
        },
        {
          "data": {
            "application/vnd.jupyter.widget-view+json": {
              "model_id": "d0124bc29d7b4a369f50ead73accc2f4",
              "version_major": 2,
              "version_minor": 0
            },
            "text/plain": [
              "Output()"
            ]
          },
          "metadata": {},
          "output_type": "display_data"
        }
      ],
      "source": [
        "%%evaluation_cell_id -i my_first_exercice\n",
        "import numpy as np\n",
        "\n",
        "def sigmoid(z):\n",
        "  s = 1 / (1 + np.exp(-z))\n",
        "  return s\n",
        "\n",
        "\n",
        "for z in [1, 3, 7]:\n",
        "  print(f\"sigmoid({z})={sigmoid(z)}\")\n",
        "\n",
        "def student_evaluation_function():\n",
        "    score = 0\n",
        "    score += bulkhours.is_equal(sigmoid(np.array([1, 3, 7])), max_score=5)\n",
        "    score += bulkhours.is_equal(sigmoid(3), teacher.sigmoid(3), max_score=2.5)\n",
        "    score += bulkhours.is_equal(student.sigmoid(4), teacher.sigmoid(4), max_score=2.5)\n",
        "    return score"
      ]
    },
    {
      "cell_type": "code",
      "execution_count": null,
      "metadata": {
        "id": "99fs378NZ7Yq"
      },
      "outputs": [],
      "source": []
    }
  ],
  "metadata": {
    "colab": {
      "provenance": [],
      "toc_visible": true
    },
    "gpuClass": "standard",
    "kernelspec": {
      "display_name": "bulkhours_py3.10",
      "language": "python",
      "name": "bulkhours_py3.10"
    },
    "language_info": {
      "name": "python",
      "version": "3.10.9"
    },
    "widgets": {
      "application/vnd.jupyter.widget-state+json": {
        "0535672a695544fca85132abf989061e": {
          "model_module": "@jupyter-widgets/controls",
          "model_module_version": "1.5.0",
          "model_name": "ButtonStyleModel",
          "state": {
            "_model_module": "@jupyter-widgets/controls",
            "_model_module_version": "1.5.0",
            "_model_name": "ButtonStyleModel",
            "_view_count": null,
            "_view_module": "@jupyter-widgets/base",
            "_view_module_version": "1.2.0",
            "_view_name": "StyleView",
            "button_color": null,
            "font_weight": ""
          }
        },
        "2235c23074c34f4985a26080a515975d": {
          "model_module": "@jupyter-widgets/base",
          "model_module_version": "1.2.0",
          "model_name": "LayoutModel",
          "state": {
            "_model_module": "@jupyter-widgets/base",
            "_model_module_version": "1.2.0",
            "_model_name": "LayoutModel",
            "_view_count": null,
            "_view_module": "@jupyter-widgets/base",
            "_view_module_version": "1.2.0",
            "_view_name": "LayoutView",
            "align_content": null,
            "align_items": null,
            "align_self": null,
            "border": null,
            "bottom": null,
            "display": null,
            "flex": null,
            "flex_flow": null,
            "grid_area": null,
            "grid_auto_columns": null,
            "grid_auto_flow": null,
            "grid_auto_rows": null,
            "grid_column": null,
            "grid_gap": null,
            "grid_row": null,
            "grid_template_areas": null,
            "grid_template_columns": null,
            "grid_template_rows": null,
            "height": null,
            "justify_content": null,
            "justify_items": null,
            "left": null,
            "margin": null,
            "max_height": null,
            "max_width": null,
            "min_height": null,
            "min_width": null,
            "object_fit": null,
            "object_position": null,
            "order": null,
            "overflow": null,
            "overflow_x": null,
            "overflow_y": null,
            "padding": null,
            "right": null,
            "top": null,
            "visibility": null,
            "width": null
          }
        },
        "225b5b3740be4ce18afaf208a85a6078": {
          "model_module": "@jupyter-widgets/controls",
          "model_module_version": "1.5.0",
          "model_name": "HBoxModel",
          "state": {
            "_dom_classes": [],
            "_model_module": "@jupyter-widgets/controls",
            "_model_module_version": "1.5.0",
            "_model_name": "HBoxModel",
            "_view_count": null,
            "_view_module": "@jupyter-widgets/controls",
            "_view_module_version": "1.5.0",
            "_view_name": "HBoxView",
            "box_style": "",
            "children": [
              "IPY_MODEL_260e76eea70048a19a774bc19681ba2a",
              "IPY_MODEL_ffd3f5a728e9453e9154d2b777ee1a99",
              "IPY_MODEL_dde217fd63134321aea7b864dcebedf1",
              "IPY_MODEL_48bff03bbe0c4f71b545e6dccb97e0e2"
            ],
            "layout": "IPY_MODEL_459f4e7625394dd5852ac9df5dec725d"
          }
        },
        "260e76eea70048a19a774bc19681ba2a": {
          "model_module": "@jupyter-widgets/controls",
          "model_module_version": "1.5.0",
          "model_name": "ButtonModel",
          "state": {
            "_dom_classes": [],
            "_model_module": "@jupyter-widgets/controls",
            "_model_module_version": "1.5.0",
            "_model_name": "ButtonModel",
            "_view_count": null,
            "_view_module": "@jupyter-widgets/controls",
            "_view_module_version": "1.5.0",
            "_view_name": "ButtonView",
            "button_style": "primary",
            "description": "Envoyer au correcteur",
            "disabled": false,
            "icon": "",
            "layout": "IPY_MODEL_c11f12512df144069714e0e75552d74d",
            "style": "IPY_MODEL_a1b3c55677af41b1ac5d2785e5885507",
            "tooltip": "Envoi de la réponse (contenu de la cellule actuelle) au correcteur.\nLa réponse pourra être utilisée pour évaluation\n"
          }
        },
        "2ae7bd3ba0bc49c8bcea870c9902a1af": {
          "model_module": "@jupyter-widgets/controls",
          "model_module_version": "1.5.0",
          "model_name": "HTMLModel",
          "state": {
            "_dom_classes": [],
            "_model_module": "@jupyter-widgets/controls",
            "_model_module_version": "1.5.0",
            "_model_name": "HTMLModel",
            "_view_count": null,
            "_view_module": "@jupyter-widgets/controls",
            "_view_module_version": "1.5.0",
            "_view_name": "HTMLView",
            "description": "",
            "description_tooltip": null,
            "layout": "IPY_MODEL_df5b0a045ff345778171f68f3608b724",
            "placeholder": "​",
            "style": "IPY_MODEL_fa7970c73ab9400b943dcc8ab5ef8914",
            "value": "<b><font face='FiraCode Nerd Font' size=4 color='black'>Pas de réponse disponible pour obiwan.kenobi@jedi.com<font></b>"
          }
        },
        "38156aae2f9147929cbfb24a3efb2cb7": {
          "model_module": "@jupyter-widgets/controls",
          "model_module_version": "1.5.0",
          "model_name": "ButtonStyleModel",
          "state": {
            "_model_module": "@jupyter-widgets/controls",
            "_model_module_version": "1.5.0",
            "_model_name": "ButtonStyleModel",
            "_view_count": null,
            "_view_module": "@jupyter-widgets/base",
            "_view_module_version": "1.2.0",
            "_view_name": "StyleView",
            "button_color": null,
            "font_weight": ""
          }
        },
        "459f4e7625394dd5852ac9df5dec725d": {
          "model_module": "@jupyter-widgets/base",
          "model_module_version": "1.2.0",
          "model_name": "LayoutModel",
          "state": {
            "_model_module": "@jupyter-widgets/base",
            "_model_module_version": "1.2.0",
            "_model_name": "LayoutModel",
            "_view_count": null,
            "_view_module": "@jupyter-widgets/base",
            "_view_module_version": "1.2.0",
            "_view_name": "LayoutView",
            "align_content": null,
            "align_items": null,
            "align_self": null,
            "border": null,
            "bottom": null,
            "display": null,
            "flex": null,
            "flex_flow": null,
            "grid_area": null,
            "grid_auto_columns": null,
            "grid_auto_flow": null,
            "grid_auto_rows": null,
            "grid_column": null,
            "grid_gap": null,
            "grid_row": null,
            "grid_template_areas": null,
            "grid_template_columns": null,
            "grid_template_rows": null,
            "height": null,
            "justify_content": null,
            "justify_items": null,
            "left": null,
            "margin": null,
            "max_height": null,
            "max_width": null,
            "min_height": null,
            "min_width": null,
            "object_fit": null,
            "object_position": null,
            "order": null,
            "overflow": null,
            "overflow_x": null,
            "overflow_y": null,
            "padding": null,
            "right": null,
            "top": null,
            "visibility": null,
            "width": null
          }
        },
        "48bff03bbe0c4f71b545e6dccb97e0e2": {
          "model_module": "@jupyter-widgets/controls",
          "model_module_version": "1.5.0",
          "model_name": "ButtonModel",
          "state": {
            "_dom_classes": [],
            "_model_module": "@jupyter-widgets/controls",
            "_model_module_version": "1.5.0",
            "_model_name": "ButtonModel",
            "_view_count": null,
            "_view_module": "@jupyter-widgets/controls",
            "_view_module_version": "1.5.0",
            "_view_name": "ButtonView",
            "button_style": "danger",
            "description": "Corriger les étudiants ",
            "disabled": false,
            "icon": "",
            "layout": "IPY_MODEL_e077b5ecb1cf4b19b98187d529428392",
            "style": "IPY_MODEL_0535672a695544fca85132abf989061e",
            "tooltip": "⚠️Seulement disponible à l'évaluateur⚠️.\nUtilise le code de la fonction 'student_evaluation_function' pour évaluer tous les étudiants de la classe virtuelle.\n"
          }
        },
        "71078363fdfd4d7e8e821e3ea8229a54": {
          "model_module": "@jupyter-widgets/base",
          "model_module_version": "1.2.0",
          "model_name": "LayoutModel",
          "state": {
            "_model_module": "@jupyter-widgets/base",
            "_model_module_version": "1.2.0",
            "_model_name": "LayoutModel",
            "_view_count": null,
            "_view_module": "@jupyter-widgets/base",
            "_view_module_version": "1.2.0",
            "_view_name": "LayoutView",
            "align_content": null,
            "align_items": null,
            "align_self": null,
            "border": null,
            "bottom": null,
            "display": null,
            "flex": null,
            "flex_flow": null,
            "grid_area": null,
            "grid_auto_columns": null,
            "grid_auto_flow": null,
            "grid_auto_rows": null,
            "grid_column": null,
            "grid_gap": null,
            "grid_row": null,
            "grid_template_areas": null,
            "grid_template_columns": null,
            "grid_template_rows": null,
            "height": null,
            "justify_content": null,
            "justify_items": null,
            "left": null,
            "margin": null,
            "max_height": null,
            "max_width": null,
            "min_height": null,
            "min_width": null,
            "object_fit": null,
            "object_position": null,
            "order": null,
            "overflow": null,
            "overflow_x": null,
            "overflow_y": null,
            "padding": null,
            "right": null,
            "top": null,
            "visibility": null,
            "width": "150px"
          }
        },
        "a1b3c55677af41b1ac5d2785e5885507": {
          "model_module": "@jupyter-widgets/controls",
          "model_module_version": "1.5.0",
          "model_name": "ButtonStyleModel",
          "state": {
            "_model_module": "@jupyter-widgets/controls",
            "_model_module_version": "1.5.0",
            "_model_name": "ButtonStyleModel",
            "_view_count": null,
            "_view_module": "@jupyter-widgets/base",
            "_view_module_version": "1.2.0",
            "_view_name": "StyleView",
            "button_color": null,
            "font_weight": ""
          }
        },
        "b08d898665cc4bf7bfe93ba5c1ba6b19": {
          "model_module": "@jupyter-widgets/controls",
          "model_module_version": "1.5.0",
          "model_name": "ButtonStyleModel",
          "state": {
            "_model_module": "@jupyter-widgets/controls",
            "_model_module_version": "1.5.0",
            "_model_name": "ButtonStyleModel",
            "_view_count": null,
            "_view_module": "@jupyter-widgets/base",
            "_view_module_version": "1.2.0",
            "_view_name": "StyleView",
            "button_color": null,
            "font_weight": ""
          }
        },
        "c11f12512df144069714e0e75552d74d": {
          "model_module": "@jupyter-widgets/base",
          "model_module_version": "1.2.0",
          "model_name": "LayoutModel",
          "state": {
            "_model_module": "@jupyter-widgets/base",
            "_model_module_version": "1.2.0",
            "_model_name": "LayoutModel",
            "_view_count": null,
            "_view_module": "@jupyter-widgets/base",
            "_view_module_version": "1.2.0",
            "_view_name": "LayoutView",
            "align_content": null,
            "align_items": null,
            "align_self": null,
            "border": null,
            "bottom": null,
            "display": null,
            "flex": null,
            "flex_flow": null,
            "grid_area": null,
            "grid_auto_columns": null,
            "grid_auto_flow": null,
            "grid_auto_rows": null,
            "grid_column": null,
            "grid_gap": null,
            "grid_row": null,
            "grid_template_areas": null,
            "grid_template_columns": null,
            "grid_template_rows": null,
            "height": null,
            "justify_content": null,
            "justify_items": null,
            "left": null,
            "margin": null,
            "max_height": null,
            "max_width": null,
            "min_height": null,
            "min_width": null,
            "object_fit": null,
            "object_position": null,
            "order": null,
            "overflow": null,
            "overflow_x": null,
            "overflow_y": null,
            "padding": null,
            "right": null,
            "top": null,
            "visibility": null,
            "width": "150px"
          }
        },
        "d0124bc29d7b4a369f50ead73accc2f4": {
          "model_module": "@jupyter-widgets/output",
          "model_module_version": "1.0.0",
          "model_name": "OutputModel",
          "state": {
            "_dom_classes": [],
            "_model_module": "@jupyter-widgets/output",
            "_model_module_version": "1.0.0",
            "_model_name": "OutputModel",
            "_view_count": null,
            "_view_module": "@jupyter-widgets/output",
            "_view_module_version": "1.0.0",
            "_view_name": "OutputView",
            "layout": "IPY_MODEL_2235c23074c34f4985a26080a515975d",
            "msg_id": "",
            "outputs": [
              {
                "name": "stdout",
                "output_type": "stream",
                "text": [
                  "sigmoid(1)=0.7310585786300049\n",
                  "sigmoid(3)=0.9525741268224334\n",
                  "sigmoid(7)=0.9990889488055994\n"
                ]
              }
            ]
          }
        },
        "dde217fd63134321aea7b864dcebedf1": {
          "model_module": "@jupyter-widgets/controls",
          "model_module_version": "1.5.0",
          "model_name": "ButtonModel",
          "state": {
            "_dom_classes": [],
            "_model_module": "@jupyter-widgets/controls",
            "_model_module_version": "1.5.0",
            "_model_name": "ButtonModel",
            "_view_count": null,
            "_view_module": "@jupyter-widgets/controls",
            "_view_module_version": "1.5.0",
            "_view_name": "ButtonView",
            "button_style": "warning",
            "description": "Publier la solution ",
            "disabled": false,
            "icon": "",
            "layout": "IPY_MODEL_fb6b91929a14434ea163c578b5a1cb8d",
            "style": "IPY_MODEL_b08d898665cc4bf7bfe93ba5c1ba6b19",
            "tooltip": "⚠️Seulement disponible à l'évaluateur⚠️.\nEnvoi de la réponse (contenu de la cellule actuelle) comme solution officielle.\nSi la fonction 'student_evaluation_function' est diponible, elle pourra être utilisée pour évaluer les étudiants.\n"
          }
        },
        "df5b0a045ff345778171f68f3608b724": {
          "model_module": "@jupyter-widgets/base",
          "model_module_version": "1.2.0",
          "model_name": "LayoutModel",
          "state": {
            "_model_module": "@jupyter-widgets/base",
            "_model_module_version": "1.2.0",
            "_model_name": "LayoutModel",
            "_view_count": null,
            "_view_module": "@jupyter-widgets/base",
            "_view_module_version": "1.2.0",
            "_view_name": "LayoutView",
            "align_content": null,
            "align_items": null,
            "align_self": null,
            "border": null,
            "bottom": null,
            "display": null,
            "flex": null,
            "flex_flow": null,
            "grid_area": null,
            "grid_auto_columns": null,
            "grid_auto_flow": null,
            "grid_auto_rows": null,
            "grid_column": null,
            "grid_gap": null,
            "grid_row": null,
            "grid_template_areas": null,
            "grid_template_columns": null,
            "grid_template_rows": null,
            "height": "auto",
            "justify_content": null,
            "justify_items": null,
            "left": null,
            "margin": null,
            "max_height": null,
            "max_width": null,
            "min_height": null,
            "min_width": null,
            "object_fit": null,
            "object_position": null,
            "order": null,
            "overflow": null,
            "overflow_x": null,
            "overflow_y": null,
            "padding": null,
            "right": null,
            "top": null,
            "visibility": null,
            "width": "auto"
          }
        },
        "e077b5ecb1cf4b19b98187d529428392": {
          "model_module": "@jupyter-widgets/base",
          "model_module_version": "1.2.0",
          "model_name": "LayoutModel",
          "state": {
            "_model_module": "@jupyter-widgets/base",
            "_model_module_version": "1.2.0",
            "_model_name": "LayoutModel",
            "_view_count": null,
            "_view_module": "@jupyter-widgets/base",
            "_view_module_version": "1.2.0",
            "_view_name": "LayoutView",
            "align_content": null,
            "align_items": null,
            "align_self": null,
            "border": null,
            "bottom": null,
            "display": null,
            "flex": null,
            "flex_flow": null,
            "grid_area": null,
            "grid_auto_columns": null,
            "grid_auto_flow": null,
            "grid_auto_rows": null,
            "grid_column": null,
            "grid_gap": null,
            "grid_row": null,
            "grid_template_areas": null,
            "grid_template_columns": null,
            "grid_template_rows": null,
            "height": null,
            "justify_content": null,
            "justify_items": null,
            "left": null,
            "margin": null,
            "max_height": null,
            "max_width": null,
            "min_height": null,
            "min_width": null,
            "object_fit": null,
            "object_position": null,
            "order": null,
            "overflow": null,
            "overflow_x": null,
            "overflow_y": null,
            "padding": null,
            "right": null,
            "top": null,
            "visibility": null,
            "width": "150px"
          }
        },
        "fa7970c73ab9400b943dcc8ab5ef8914": {
          "model_module": "@jupyter-widgets/controls",
          "model_module_version": "1.5.0",
          "model_name": "DescriptionStyleModel",
          "state": {
            "_model_module": "@jupyter-widgets/controls",
            "_model_module_version": "1.5.0",
            "_model_name": "DescriptionStyleModel",
            "_view_count": null,
            "_view_module": "@jupyter-widgets/base",
            "_view_module_version": "1.2.0",
            "_view_name": "StyleView",
            "description_width": ""
          }
        },
        "fb6b91929a14434ea163c578b5a1cb8d": {
          "model_module": "@jupyter-widgets/base",
          "model_module_version": "1.2.0",
          "model_name": "LayoutModel",
          "state": {
            "_model_module": "@jupyter-widgets/base",
            "_model_module_version": "1.2.0",
            "_model_name": "LayoutModel",
            "_view_count": null,
            "_view_module": "@jupyter-widgets/base",
            "_view_module_version": "1.2.0",
            "_view_name": "LayoutView",
            "align_content": null,
            "align_items": null,
            "align_self": null,
            "border": null,
            "bottom": null,
            "display": null,
            "flex": null,
            "flex_flow": null,
            "grid_area": null,
            "grid_auto_columns": null,
            "grid_auto_flow": null,
            "grid_auto_rows": null,
            "grid_column": null,
            "grid_gap": null,
            "grid_row": null,
            "grid_template_areas": null,
            "grid_template_columns": null,
            "grid_template_rows": null,
            "height": null,
            "justify_content": null,
            "justify_items": null,
            "left": null,
            "margin": null,
            "max_height": null,
            "max_width": null,
            "min_height": null,
            "min_width": null,
            "object_fit": null,
            "object_position": null,
            "order": null,
            "overflow": null,
            "overflow_x": null,
            "overflow_y": null,
            "padding": null,
            "right": null,
            "top": null,
            "visibility": null,
            "width": "150px"
          }
        },
        "ffd3f5a728e9453e9154d2b777ee1a99": {
          "model_module": "@jupyter-widgets/controls",
          "model_module_version": "1.5.0",
          "model_name": "ButtonModel",
          "state": {
            "_dom_classes": [],
            "_model_module": "@jupyter-widgets/controls",
            "_model_module_version": "1.5.0",
            "_model_name": "ButtonModel",
            "_view_count": null,
            "_view_module": "@jupyter-widgets/controls",
            "_view_module_version": "1.5.0",
            "_view_name": "ButtonView",
            "button_style": "primary",
            "description": "Voir la correction",
            "disabled": false,
            "icon": "",
            "layout": "IPY_MODEL_71078363fdfd4d7e8e821e3ea8229a54",
            "style": "IPY_MODEL_38156aae2f9147929cbfb24a3efb2cb7",
            "tooltip": "Récupération de la solution du correcteur. Si la solution est disponible, \n- Elle est affichée  \n- Elle peut-etre comparée avec le code de la cellule actuelle\n"
          }
        }
      }
    }
  },
  "nbformat": 4,
  "nbformat_minor": 0
}
