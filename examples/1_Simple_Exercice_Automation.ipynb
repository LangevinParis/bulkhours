{
  "cells": [
    {
      "attachments": {},
      "cell_type": "markdown",
      "metadata": {
        "id": "cxb4MUu_VnLD"
      },
      "source": [
        "# Install the package\n",
        "\n",
        "[![Open In Colab](https://colab.research.google.com/assets/colab-badge.svg)](https://colab.research.google.com/github/guydegnol/bulkhours/blob/main/examples/1_Simple_Exercice_Automation.ipynb) [![Open In Kaggle](https://kaggle.com/static/images/open-in-kaggle.svg)](https://kaggle.com/kernels/welcome?src=https://github.com/guydegnol/bulkhours/blob/main/examples/1_Simple_Exercice_Automation.ipynb)\n"
      ]
    },
    {
      "cell_type": "code",
      "execution_count": 1,
      "metadata": {
        "colab": {
          "base_uri": "https://localhost:8080/"
        },
        "id": "rSpNjxbXy0TB",
        "outputId": "10e799ad-0d48-4883-e912-87f8fc2a85d2"
      },
      "outputs": [],
      "source": [
        "# Install the bulkhours package\n",
        "!rm -rf bulkhours && git clone https://github.com/guydegnol/bulkhours.git\n",
        "\n",
        "# import the bulkhours package\n",
        "import bulkhours"
      ]
    },
    {
      "attachments": {},
      "cell_type": "markdown",
      "metadata": {
        "id": "WAWZ3hSUC_ju"
      },
      "source": [
        "# Create my first exercice\n",
        "\n",
        "Here, we ask one student to write the square function. We expect the student to write something like:"
      ]
    },
    {
      "cell_type": "code",
      "execution_count": 4,
      "metadata": {
        "id": "77Q1SsluC-Y-"
      },
      "outputs": [],
      "source": [
        "def square(x):\n",
        "    return x*x"
      ]
    },
    {
      "attachments": {},
      "cell_type": "markdown",
      "metadata": {
        "id": "CIrOZMQ-DrRC"
      },
      "source": [
        "# Set a unique id for the exercice\n",
        "\n",
        "To identify an exercice, we need to define an id for each cell. Here the id of the exercice is ```my_first_exercice```:"
      ]
    },
    {
      "cell_type": "code",
      "execution_count": 7,
      "metadata": {
        "colab": {
          "base_uri": "https://localhost:8080/",
          "height": 101,
          "referenced_widgets": [
            "ac9f1559947c41108eef6735616480b6",
            "218e94c740d846458867f924ba315cbf",
            "4c22deba195946b1b91042ba1e28084d",
            "3e7fd37b0a3944c19ec354fdcb9dc840",
            "a38397b1586240a5aab8144bbd42ada0",
            "427ef4334b074624b129bbdb0c2bb15c",
            "ecc717fd05c44acdb5a6013fcbeb179f",
            "2735a5253ad34e3b9a34a68cb288cded",
            "506ca70a05de49b0abf938d211b9f65f",
            "ae4bdc06b7d043e18d1a18a71d5f9609"
          ]
        },
        "id": "xyPNN-G5Uv7v",
        "outputId": "d1d3556f-e1d2-4848-9fca-999fdc3b5d90"
      },
      "outputs": [
        {
          "data": {
            "application/vnd.jupyter.widget-view+json": {
              "model_id": "76f416ffdba2414e9422f94b857a500a",
              "version_major": 2,
              "version_minor": 0
            },
            "text/plain": [
              "HBox(children=(Button(button_style='primary', description='Envoyer au correcteur', layout=Layout(width='150px'…"
            ]
          },
          "metadata": {},
          "output_type": "display_data"
        },
        {
          "data": {
            "application/vnd.jupyter.widget-view+json": {
              "model_id": "3c3634ae1d0f4406a80fff60b184b313",
              "version_major": 2,
              "version_minor": 0
            },
            "text/plain": [
              "Output()"
            ]
          },
          "metadata": {},
          "output_type": "display_data"
        }
      ],
      "source": [
        "%%evaluation_cell_id -i my_first_exercice\n",
        "\n",
        "def square(x):\n",
        "    return x*x\n",
        "\n",
        "for x in [1, 3, 7]:\n",
        "  print(f\"square({x})={square(x)}\")"
      ]
    },
    {
      "attachments": {},
      "cell_type": "markdown",
      "metadata": {
        "id": "-DBpDhtJEK7e"
      },
      "source": [
        "The execution of the previous cell should have failed. **You need to identify yourself first** :\n",
        "\n"
      ]
    },
    {
      "cell_type": "code",
      "execution_count": 6,
      "metadata": {
        "colab": {
          "base_uri": "https://localhost:8080/"
        },
        "id": "psOl-fFwCr8n",
        "outputId": "b8066c24-d55a-4909-dbc7-f24dc270518a"
      },
      "outputs": [
        {
          "name": "stdout",
          "output_type": "stream",
          "text": [
            "Import BULK Helper cOURSe (\u001b[0m\u001b[36mversion='5.2.14'\u001b[0m🚀', ⚠️\u001b[31m\u001b[41m\u001b[37m in admin/teacher🎓 mode\u001b[0m⚠️):⚠️\u001b[31mDatabase is local (security_level=0). Export your config file if you need persistency.\u001b[0m⚠️\n",
            "(db, subject, virtual_room, nb_id, user) = (free1.json, '', room1, '', dave.gahan@bulkhours.org🎓)\n"
          ]
        }
      ],
      "source": [
        "bulkhours.init_env(email=\"dave.gahan@bulkhours.org\")"
      ]
    },
    {
      "attachments": {},
      "cell_type": "markdown",
      "metadata": {
        "id": "Nwmyi3XvZTvl"
      },
      "source": [
        "💡**In practice, you should use secured a access with identification checking to avoid security issues**. For example, this is a typical identification used in course:\n",
        "```\n",
        "# A secured access to the database for the teacher\n",
        "bulkhours.init_env(email=\"dave.gahan@bulkhours.org\", database=\"bkloud@prems/teacher::eNqlVtmSo8gV_ZV-cd...\")\n",
        "\n",
        "# A secured access to a virtual class database for students\n",
        "bulkhours.init_env(email=\"dave.gahan@bulkhours.org\", database= \"bkloud@prems/winterfell_student::eNqVVtmyo8gV_JV-cfRMaLpB7...\")\n",
        "```\n",
        "\n"
      ]
    },
    {
      "attachments": {},
      "cell_type": "markdown",
      "metadata": {
        "id": "KZhMIN2pxfjo"
      },
      "source": [
        "# Get the answer from another notebook"
      ]
    },
    {
      "attachments": {},
      "cell_type": "markdown",
      "metadata": {
        "id": "ylhoreJQb1I7"
      },
      "source": [
        "In demo mode, you can simply switch to the teacher mode calling the\n",
        "```bulkhours.init_env``` with the ```is_admin=True``` argument/\n"
      ]
    },
    {
      "cell_type": "code",
      "execution_count": 8,
      "metadata": {
        "colab": {
          "base_uri": "https://localhost:8080/"
        },
        "id": "ITm3ZI9ZE8f5",
        "outputId": "23357666-9a37-4ce7-86a5-0d99745ea8d9"
      },
      "outputs": [
        {
          "name": "stdout",
          "output_type": "stream",
          "text": [
            "Import BULK Helper cOURSe (\u001b[0m\u001b[36mversion='5.2.14'\u001b[0m🚀', ⚠️\u001b[31m\u001b[41m\u001b[37m in admin/teacher🎓 mode\u001b[0m⚠️):⚠️\u001b[31mDatabase is local (security_level=0). Export your config file if you need persistency.\u001b[0m⚠️\n",
            "(db, subject, virtual_room, nb_id, user) = (free1.json, '', room1, '', johnny.cash@bulkhours.org🎓)\n"
          ]
        }
      ],
      "source": [
        "bulkhours.init_env(email=\"johnny.cash@bulkhours.org\", is_admin=True)"
      ]
    },
    {
      "attachments": {},
      "cell_type": "markdown",
      "metadata": {
        "id": "wHkOSnlmyWkP"
      },
      "source": [
        "\n",
        "In real life, this code should be runned from the teacher notebook only"
      ]
    },
    {
      "attachments": {},
      "cell_type": "markdown",
      "metadata": {
        "id": "xBdKgquRyLy-"
      },
      "source": [
        "Now, you can"
      ]
    },
    {
      "cell_type": "code",
      "execution_count": 9,
      "metadata": {
        "colab": {
          "base_uri": "https://localhost:8080/",
          "height": 311
        },
        "id": "TP_1tQGQx1ST",
        "outputId": "df8d3326-fdf9-4512-928b-3cb7bd62f267"
      },
      "outputs": [
        {
          "name": "stdout",
          "output_type": "stream",
          "text": [
            "'\u001b[41mL'étudiant dave.gahan@bulkhours.org est inconnu. Ajouter le depuis le menu dashboard:\n",
            "bulkhours.admin.dashboard()\u001b[0m\n",
            "\u001b[32m\u001b[1mCache file (/home/guydegnol/projects/bulkhours/data/cache/room1/admin__my_first_exercice.json) of my_first_exercice à 2023-06-30 04:40:47 pour /room1. Mise à jour locale\u001b[m\n",
            "\n"
          ]
        },
        {
          "data": {
            "application/vnd.jupyter.widget-view+json": {
              "model_id": "12b70627d80442e1a11e16fca2280f79",
              "version_major": 2,
              "version_minor": 0
            },
            "text/plain": [
              "HTML(value=\"<b><font face='FiraCode Nerd Font' size=4 color='red'>Code (Dave.g)📚<font></b>\", layout=Layout(hei…"
            ]
          },
          "metadata": {},
          "output_type": "display_data"
        },
        {
          "name": "stdout",
          "output_type": "stream",
          "text": [
            "\n",
            "\n",
            "def square(x):\n",
            "    return x*x\n",
            "\n",
            "for x in [1, 3, 7]:\n",
            "  print(f\"square({x})={square(x)}\")\n",
            "\n",
            "\n"
          ]
        },
        {
          "data": {
            "application/vnd.jupyter.widget-view+json": {
              "model_id": "ed68493101194dc89fb20f96d5e9b8d0",
              "version_major": 2,
              "version_minor": 0
            },
            "text/plain": [
              "HTML(value=\"<b><font face='FiraCode Nerd Font' size=4 color='red'>Execution (Dave.g)💻<font></b>\", layout=Layou…"
            ]
          },
          "metadata": {},
          "output_type": "display_data"
        },
        {
          "name": "stdout",
          "output_type": "stream",
          "text": [
            "square(1)=1\n",
            "square(3)=9\n",
            "square(7)=49\n"
          ]
        },
        {
          "data": {
            "application/vnd.jupyter.widget-view+json": {
              "model_id": "5a8254c1a1d04bff8d93bdf187e78873",
              "version_major": 2,
              "version_minor": 0
            },
            "text/plain": [
              "HBox(children=(HTML(value=\"<b><font face='FiraCode Nerd Font' size=6 color='#4F4F4F'>Dave.g<font></b>\", layout…"
            ]
          },
          "metadata": {},
          "output_type": "display_data"
        },
        {
          "data": {
            "application/vnd.jupyter.widget-view+json": {
              "model_id": "228d3d9c749f43699d0087198beffd69",
              "version_major": 2,
              "version_minor": 0
            },
            "text/plain": [
              "Output()"
            ]
          },
          "metadata": {},
          "output_type": "display_data"
        }
      ],
      "source": [
        "bulkhours.admin.evaluate(\"my_first_exercice\", user=\"dave.gahan@bulkhours.org\")#, show_correction=False)"
      ]
    },
    {
      "attachments": {},
      "cell_type": "markdown",
      "metadata": {
        "id": "OBb4Vr4bE0OJ"
      },
      "source": [
        "# Automation of the grade\n"
      ]
    },
    {
      "attachments": {},
      "cell_type": "markdown",
      "metadata": {
        "id": "W6Fe9ZVUUqg3"
      },
      "source": [
        "Now we can build a correction for this exercice"
      ]
    },
    {
      "cell_type": "code",
      "execution_count": null,
      "metadata": {
        "colab": {
          "base_uri": "https://localhost:8080/",
          "height": 70,
          "referenced_widgets": [
            "c5e64beca5a74424aba2f7d3200df2d2",
            "e991a9df4b594b0f9da1cfa299e7341e",
            "4645a23fe6c6473da12127efead70cb6",
            "439c2a2be8dc4db1bf849835837cb71c",
            "ff80c8011bd0486e8bef937ca43b4190",
            "3aa18e3543e049149bf217672fc8ed4e",
            "5fb5828b319b43808718e5916089bc16",
            "70cacb485f9146148fe893c12007ae88",
            "4552c002a28c43979a7621073fb1442b",
            "69fa0f1658bb469f9c63b63294d8234b",
            "fb135ad5948d4537bfa8d27ce7f70420",
            "771eabb650f64ac788e265ac27e75e4a",
            "7f30dd969b5f46c587f30fa6049d970c",
            "177664b1123e48caab3a9e15eadfe0cb",
            "3f7bf46932e74fd590115a2e36594052",
            "59e9312a2d814b469b4853b50d66b532",
            "a153c84a7117415ab8c784b0be4801d6",
            "2793419c7ee740b7b36010645cdf68e2",
            "42393949b4e34c0d9deeafcc3648aab5"
          ]
        },
        "id": "83iMiWRuTWJk",
        "outputId": "b09de36d-7d4f-4ac3-9c40-3683d110d194"
      },
      "outputs": [
        {
          "data": {
            "application/vnd.jupyter.widget-view+json": {
              "model_id": "8b7b4f6d4a8346318d4d3c0cea830fdc",
              "version_major": 2,
              "version_minor": 0
            },
            "text/plain": [
              "HBox(children=(Button(button_style='primary', description='Envoyer au correcteur', layout=Layout(width='150px'…"
            ]
          },
          "metadata": {},
          "output_type": "display_data"
        },
        {
          "data": {
            "application/vnd.jupyter.widget-view+json": {
              "model_id": "0bd511cd3d6e43c09db6b98a7412131f",
              "version_major": 2,
              "version_minor": 0
            },
            "text/plain": [
              "Output()"
            ]
          },
          "metadata": {},
          "output_type": "display_data"
        }
      ],
      "source": [
        "%%evaluation_cell_id -i my_first_exercice\n",
        "import numpy as np\n",
        "\n",
        "def square(x):\n",
        "    return x*x\n",
        "\n",
        "for x in [1, 3, 7]:\n",
        "  print(f\"square({x})={square(x)}\")\n",
        "\n",
        "def student_evaluation_function():\n",
        "\n",
        "    score = 0\n",
        "    score += bulkhours.is_equal(square(np.array([1, 3, 7])), max_score=5)\n",
        "    score += bulkhours.is_equal(square(3), teacher.square(3), max_score=5)\n",
        "    return score\n"
      ]
    },
    {
      "cell_type": "code",
      "execution_count": 11,
      "metadata": {
        "colab": {
          "base_uri": "https://localhost:8080/"
        },
        "id": "zS2KfbkwWBPb",
        "outputId": "60c38023-e909-429b-f664-64be47f5a019"
      },
      "outputs": [
        {
          "name": "stdout",
          "output_type": "stream",
          "text": [
            "{'cinfo': Namespace(notebook_id='', subject='', virtual_room='room1', cell_id='my_first_exercice', icell_id='_my_first_exercice'), 'cell_source': 'import numpy as np\\n\\ndef square(x):\\n    return x*x\\n\\nfor x in [1, 3, 7]:\\n  print(f\"square({x})={square(x)}\")\\n\\n\\ndef student_evaluation_function():\\n\\n    score = 0\\n    score += bulkhours.is_equal(data_test=square(np.array([1,3,7])), max_score=5.0, data_ref=square(np.array([1,3,7])), min_score=0)\\n\\n    score += bulkhours.is_equal(data_test=square(3), data_ref=teacher.square(3), max_score=5.0, min_score=0)\\n\\n    return score  \\n  \\n\\n', 'user': 'solution', 'source': '', 'main_execution': {'code': 'import numpy as np\\n\\ndef square(x):\\n    return x*x\\n\\nfor x in [1, 3, 7]:\\n  print(f\"square({x})={square(x)}\")\\n\\n\\n'}, 'evaluation': {'data_test': '', 'visible': True, 'emp_max_score': 10.0, 'code': 'def student_evaluation_function():\\n\\n    score = 0\\n    score += bulkhours.is_equal(data_test=square(np.array([1,3,7])), max_score=5.0, data_ref=square(np.array([1,3,7])), min_score=0.0)\\n\\n\\n    score += bulkhours.is_equal(data_test=square(3), data_ref=teacher.square(3), max_score=5.0, min_score=0.0)\\n\\n\\n    return score  \\n  \\n\\n', 'equals': [{'data_test': 'square(np.array([1,3,7]))', 'max_score': 5.0, 'data_ref': 'square(np.array([1,3,7]))', 'min_score': 0.0}, {'data_test': 'square(3)', 'data_ref': 'teacher.square(3)', 'max_score': 5.0, 'min_score': 0.0}]}, 'answer': 'import numpy as np\\n\\ndef square(x):\\n    return x*x\\n\\nfor x in [1, 3, 7]:\\n  print(f\"square({x})={square(x)}\")\\n\\n\\n'}\n"
          ]
        },
        {
          "data": {
            "text/plain": [
              "{'_info': {'global': {'admins': '',\n",
              "   'chatgpt': False,\n",
              "   'language': 'fr',\n",
              "   'norm20': False,\n",
              "   'restricted': False,\n",
              "   'virtual_rooms': 'room1',\n",
              "   'room1': ''},\n",
              "  '': {'exercices': '', 'evaluation': '', 'page': ''}},\n",
              " '_room1__my_first_exercice': {'dave.gahan@bulkhours.org': {'main_execution': '\\ndef square(x):\\n    return x*x\\n\\nfor x in [1, 3, 7]:\\n  print(f\"square({x})={square(x)}\")\\n',\n",
              "   'answer': '\\ndef square(x):\\n    return x*x\\n\\nfor x in [1, 3, 7]:\\n  print(f\"square({x})={square(x)}\")\\n',\n",
              "   'atype': 'bkcode',\n",
              "   'user': 'dave.gahan@bulkhours.org',\n",
              "   'update_time': '2023-06-29 20:45:18'},\n",
              "  'johnny.cash@bulkhours.org': {'main_execution': 'import numpy as np\\n\\ndef square(x):\\n    return x*x\\n\\nfor x in [1, 3, 7]:\\n  print(f\"square({x})={square(x)}\")\\n\\n',\n",
              "   'answer': 'import numpy as np\\n\\ndef square(x):\\n    return x*x\\n\\nfor x in [1, 3, 7]:\\n  print(f\"square({x})={square(x)}\")\\n\\n',\n",
              "   'atype': 'bkcode',\n",
              "   'user': 'johnny.cash@bulkhours.org',\n",
              "   'update_time': '2023-06-29 20:45:39'},\n",
              "  'solution': {'main_execution': 'import numpy as np\\n\\ndef square(x):\\n    return x*x\\n\\nfor x in [1, 3, 7]:\\n  print(f\"square({x})={square(x)}\")\\n\\n',\n",
              "   'explanation': '',\n",
              "   'evaluation': 'def student_evaluation_function():\\n\\n    score = 0\\n    score += bulkhours.is_equal(data_test=square(np.array([1,3,7])), max_score=5.0, data_ref=square(np.array([1,3,7])), min_score=0)\\n\\n    score += bulkhours.is_equal(data_test=square(3), data_ref=teacher.square(3), max_score=5.0, min_score=0)\\n\\n    return score  \\n  \\n',\n",
              "   'answer': 'import numpy as np\\n\\ndef square(x):\\n    return x*x\\n\\nfor x in [1, 3, 7]:\\n  print(f\"square({x})={square(x)}\")\\n\\n',\n",
              "   'atype': 'bkcode',\n",
              "   'visible': True,\n",
              "   'user': 'solution',\n",
              "   'update_time': '2023-06-29 20:46:20',\n",
              "   'note': 10}}}"
            ]
          },
          "execution_count": 11,
          "metadata": {},
          "output_type": "execute_result"
        }
      ],
      "source": [
        "#!cat bulkhours/data/cache/free1.json\n",
        "\n",
        "from argparse import Namespace\n",
        "cinfo = Namespace(**{\"notebook_id\": \"\", \"subject\": \"\", \"virtual_room\": \"room1\", \"cell_id\": \"my_first_exercice\", \"icell_id\": \"_my_first_exercice\"})\n",
        "cp = bulkhours.core.cell_parser.CellParser.crunch_data(cinfo, user=\"solution\")\n",
        "print(cp.minfo)\n",
        "\n",
        "bulkhours.core.firebase.get_solution_from_corrector(cinfo.icell_id, corrector=\"solution\", cinfo=cinfo)\n",
        "bulkhours.core.firebase.get_document(cinfo.icell_id, \"solution\", cinfo=cinfo).get().to_dict()\n",
        "\n",
        "bulkhours.core.firebase.get_collection(cinfo.icell_id, prefix=True, cinfo=cinfo).document(\"solution\").get().to_dict()\n",
        "bulkhours.core.firebase.DbDocument.data_base_cache\n",
        "bulkhours.core.firebase.DbDocument.read_cache_data()\n",
        "bulkhours.core.firebase.DbDocument.data_base_cache\n"
      ]
    },
    {
      "cell_type": "code",
      "execution_count": null,
      "metadata": {
        "colab": {
          "base_uri": "https://localhost:8080/"
        },
        "id": "770J_2ArW4YN",
        "outputId": "811f0f58-8ab7-430d-cd05-a522cfb2eaaf"
      },
      "outputs": [
        {
          "name": "stdout",
          "output_type": "stream",
          "text": [
            "{\n",
            "    \"_info\": {\n",
            "        \"global\": {\n",
            "            \"admins\": \"\",\n",
            "            \"chatgpt\": false,\n",
            "            \"language\": \"fr\",\n",
            "            \"norm20\": false,\n",
            "            \"restricted\": false,\n",
            "            \"virtual_rooms\": \"room1\",\n",
            "            \"room1\": \"\"\n",
            "        },\n",
            "        \"\": {\n",
            "            \"exercices\": \"\",\n",
            "            \"evaluation\": \"\",\n",
            "            \"page\": \"\"\n",
            "        }\n",
            "    },\n",
            "    \"_room1__my_first_exercice\": {\n",
            "        \"johnny.cash@bulkhours.org\": {\n",
            "            \"main_execution\": \"import numpy as np\\n\\ndef square(x):\\n    return x*x\\n\\nfor x in [1, 3, 7]:\\n  print(f\\\"square({x})={square(x)}\\\")\\n\\n\",\n",
            "            \"answer\": \"import numpy as np\\n\\ndef square(x):\\n    return x*x\\n\\nfor x in [1, 3, 7]:\\n  print(f\\\"square({x})={square(x)}\\\")\\n\\n\",\n",
            "            \"atype\": \"bkcode\",\n",
            "            \"user\": \"johnny.cash@bulkhours.org\",\n",
            "            \"update_time\": \"2023-06-29 20:34:39\"\n",
            "        },\n",
            "        \"solution\": {\n",
            "            \"main_execution\": \"import numpy as np\\n\\ndef square(x):\\n    return x*x\\n\\nfor x in [1, 3, 7]:\\n  print(f\\\"square({x})={square(x)}\\\")\\n\\n\",\n",
            "            \"explanation\": \"\",\n",
            "            \"evaluation\": \"def student_evaluation_function():\\n    score = 0\\n    score += bulkhours.is_equal(data_test=square([1,3,7]), max_score=5.0, data_ref=square([1,3,7]), min_score=0)\\n\\n    score += bulkhours.is_equal(data_test=square(3), data_ref=teacher.square(3), max_score=5.0, min_score=0)\\n\\n    return score  \\n  \\n\",\n",
            "            \"answer\": \"import numpy as np\\n\\ndef square(x):\\n    return x*x\\n\\nfor x in [1, 3, 7]:\\n  print(f\\\"square({x})={square(x)}\\\")\\n\\n\",\n",
            "            \"atype\": \"bkcode\",\n",
            "            \"visible\": true,\n",
            "            \"user\": \"solution\",\n",
            "            \"update_time\": \"2023-06-29 20:34:43\",\n",
            "            \"note\": 10\n",
            "        }\n",
            "    }\n",
            "}"
          ]
        }
      ],
      "source": [
        "!cat bulkhours/data/cache/free1.json"
      ]
    },
    {
      "cell_type": "code",
      "execution_count": null,
      "metadata": {
        "id": "99fs378NZ7Yq"
      },
      "outputs": [],
      "source": []
    }
  ],
  "metadata": {
    "colab": {
      "provenance": [],
      "toc_visible": true
    },
    "gpuClass": "standard",
    "kernelspec": {
      "display_name": "bulkhours_py3.10",
      "language": "python",
      "name": "bulkhours_py3.10"
    },
    "language_info": {
      "codemirror_mode": {
        "name": "ipython",
        "version": 3
      },
      "file_extension": ".py",
      "mimetype": "text/x-python",
      "name": "python",
      "nbconvert_exporter": "python",
      "pygments_lexer": "ipython3",
      "version": "3.10.9"
    },
    "widgets": {
      "application/vnd.jupyter.widget-state+json": {
        "177664b1123e48caab3a9e15eadfe0cb": {
          "model_module": "@jupyter-widgets/controls",
          "model_module_version": "1.5.0",
          "model_name": "ButtonStyleModel",
          "state": {
            "_model_module": "@jupyter-widgets/controls",
            "_model_module_version": "1.5.0",
            "_model_name": "ButtonStyleModel",
            "_view_count": null,
            "_view_module": "@jupyter-widgets/base",
            "_view_module_version": "1.2.0",
            "_view_name": "StyleView",
            "button_color": null,
            "font_weight": ""
          }
        },
        "218e94c740d846458867f924ba315cbf": {
          "model_module": "@jupyter-widgets/controls",
          "model_module_version": "1.5.0",
          "model_name": "ButtonModel",
          "state": {
            "_dom_classes": [],
            "_model_module": "@jupyter-widgets/controls",
            "_model_module_version": "1.5.0",
            "_model_name": "ButtonModel",
            "_view_count": null,
            "_view_module": "@jupyter-widgets/controls",
            "_view_module_version": "1.5.0",
            "_view_name": "ButtonView",
            "button_style": "primary",
            "description": "Envoyer au correcteur",
            "disabled": false,
            "icon": "",
            "layout": "IPY_MODEL_a38397b1586240a5aab8144bbd42ada0",
            "style": "IPY_MODEL_427ef4334b074624b129bbdb0c2bb15c",
            "tooltip": "Envoi de la réponse (contenu de la cellule actuelle) au correcteur.\nLa réponse pourra être utilisée pour évaluation\n"
          }
        },
        "2735a5253ad34e3b9a34a68cb288cded": {
          "model_module": "@jupyter-widgets/controls",
          "model_module_version": "1.5.0",
          "model_name": "ButtonStyleModel",
          "state": {
            "_model_module": "@jupyter-widgets/controls",
            "_model_module_version": "1.5.0",
            "_model_name": "ButtonStyleModel",
            "_view_count": null,
            "_view_module": "@jupyter-widgets/base",
            "_view_module_version": "1.2.0",
            "_view_name": "StyleView",
            "button_color": null,
            "font_weight": ""
          }
        },
        "2793419c7ee740b7b36010645cdf68e2": {
          "model_module": "@jupyter-widgets/base",
          "model_module_version": "1.2.0",
          "model_name": "LayoutModel",
          "state": {
            "_model_module": "@jupyter-widgets/base",
            "_model_module_version": "1.2.0",
            "_model_name": "LayoutModel",
            "_view_count": null,
            "_view_module": "@jupyter-widgets/base",
            "_view_module_version": "1.2.0",
            "_view_name": "LayoutView",
            "align_content": null,
            "align_items": null,
            "align_self": null,
            "border": null,
            "bottom": null,
            "display": null,
            "flex": null,
            "flex_flow": null,
            "grid_area": null,
            "grid_auto_columns": null,
            "grid_auto_flow": null,
            "grid_auto_rows": null,
            "grid_column": null,
            "grid_gap": null,
            "grid_row": null,
            "grid_template_areas": null,
            "grid_template_columns": null,
            "grid_template_rows": null,
            "height": null,
            "justify_content": null,
            "justify_items": null,
            "left": null,
            "margin": null,
            "max_height": null,
            "max_width": null,
            "min_height": null,
            "min_width": null,
            "object_fit": null,
            "object_position": null,
            "order": null,
            "overflow": null,
            "overflow_x": null,
            "overflow_y": null,
            "padding": null,
            "right": null,
            "top": null,
            "visibility": null,
            "width": null
          }
        },
        "3aa18e3543e049149bf217672fc8ed4e": {
          "model_module": "@jupyter-widgets/base",
          "model_module_version": "1.2.0",
          "model_name": "LayoutModel",
          "state": {
            "_model_module": "@jupyter-widgets/base",
            "_model_module_version": "1.2.0",
            "_model_name": "LayoutModel",
            "_view_count": null,
            "_view_module": "@jupyter-widgets/base",
            "_view_module_version": "1.2.0",
            "_view_name": "LayoutView",
            "align_content": null,
            "align_items": null,
            "align_self": null,
            "border": null,
            "bottom": null,
            "display": null,
            "flex": null,
            "flex_flow": null,
            "grid_area": null,
            "grid_auto_columns": null,
            "grid_auto_flow": null,
            "grid_auto_rows": null,
            "grid_column": null,
            "grid_gap": null,
            "grid_row": null,
            "grid_template_areas": null,
            "grid_template_columns": null,
            "grid_template_rows": null,
            "height": null,
            "justify_content": null,
            "justify_items": null,
            "left": null,
            "margin": null,
            "max_height": null,
            "max_width": null,
            "min_height": null,
            "min_width": null,
            "object_fit": null,
            "object_position": null,
            "order": null,
            "overflow": null,
            "overflow_x": null,
            "overflow_y": null,
            "padding": null,
            "right": null,
            "top": null,
            "visibility": null,
            "width": null
          }
        },
        "3e7fd37b0a3944c19ec354fdcb9dc840": {
          "model_module": "@jupyter-widgets/base",
          "model_module_version": "1.2.0",
          "model_name": "LayoutModel",
          "state": {
            "_model_module": "@jupyter-widgets/base",
            "_model_module_version": "1.2.0",
            "_model_name": "LayoutModel",
            "_view_count": null,
            "_view_module": "@jupyter-widgets/base",
            "_view_module_version": "1.2.0",
            "_view_name": "LayoutView",
            "align_content": null,
            "align_items": null,
            "align_self": null,
            "border": null,
            "bottom": null,
            "display": null,
            "flex": null,
            "flex_flow": null,
            "grid_area": null,
            "grid_auto_columns": null,
            "grid_auto_flow": null,
            "grid_auto_rows": null,
            "grid_column": null,
            "grid_gap": null,
            "grid_row": null,
            "grid_template_areas": null,
            "grid_template_columns": null,
            "grid_template_rows": null,
            "height": null,
            "justify_content": null,
            "justify_items": null,
            "left": null,
            "margin": null,
            "max_height": null,
            "max_width": null,
            "min_height": null,
            "min_width": null,
            "object_fit": null,
            "object_position": null,
            "order": null,
            "overflow": null,
            "overflow_x": null,
            "overflow_y": null,
            "padding": null,
            "right": null,
            "top": null,
            "visibility": null,
            "width": null
          }
        },
        "3f7bf46932e74fd590115a2e36594052": {
          "model_module": "@jupyter-widgets/output",
          "model_module_version": "1.0.0",
          "model_name": "OutputModel",
          "state": {
            "_dom_classes": [
              "<style>\n            .sol_background {background-color:#f7d1d1}\n            .cell_background {background-color:#F7F7F7}\n            .cell_border {background-color:#CFCFCF}\n\nbuttonb {\n   border: none;\n   color: red;\n   font-weight: bolder;\n   padding: 20px;\n   font-size: 18px;\n   cursor: pointer;\n   border-radius: 6px;\n}\n.button3 {background-color:#eaeaea}\n.button1 {background-color:#eaeaea ; color:red ; font-size:100% ; border: 1px solid #eaeaea}\n.button2 {background-color:#eaeaea ; color:red}\n        </style>\n    "
            ],
            "_model_module": "@jupyter-widgets/output",
            "_model_module_version": "1.0.0",
            "_model_name": "OutputModel",
            "_view_count": null,
            "_view_module": "@jupyter-widgets/output",
            "_view_module_version": "1.0.0",
            "_view_name": "OutputView",
            "layout": "IPY_MODEL_59e9312a2d814b469b4853b50d66b532",
            "msg_id": "",
            "outputs": [
              {
                "data": {
                  "application/vnd.jupyter.widget-view+json": {
                    "model_id": "a153c84a7117415ab8c784b0be4801d6",
                    "version_major": 2,
                    "version_minor": 0
                  },
                  "text/plain": "HTML(value='<style>\\n            .sol_background {background-color:#f7d1d1}\\n            .cell_background {bac…"
                },
                "metadata": {},
                "output_type": "display_data"
              },
              {
                "name": "stdout",
                "output_type": "stream",
                "text": [
                  "<bulkhours.bulkhours.core.cell_parser.CellParser object at 0x7f91cee2a380>"
                ]
              },
              {
                "name": "stdout",
                "output_type": "stream",
                "text": [
                  "\n"
                ]
              },
              {
                "name": "stdout",
                "output_type": "stream",
                "text": [
                  "'\u001b[41mL'étudiant dave.gahan@bulkhours.org est inconnu. Ajouter le depuis le menu dashboard:\n",
                  "bulkhours.admin.dashboard()\u001b[0m"
                ]
              },
              {
                "name": "stdout",
                "output_type": "stream",
                "text": [
                  "\n"
                ]
              },
              {
                "name": "stdout",
                "output_type": "stream",
                "text": [
                  "\u001b[35m\u001b[1mPour my_first_exercice/dave.gahan@bulkhours.org, mise à jour de la note de 0 à 10.0 (2023-06-29 18:46:24)\u001b[m"
                ]
              },
              {
                "name": "stdout",
                "output_type": "stream",
                "text": [
                  "\n"
                ]
              },
              {
                "name": "stderr",
                "output_type": "stream",
                "text": [
                  "Process Process-6:\n"
                ]
              },
              {
                "name": "stderr",
                "output_type": "stream",
                "text": [
                  "Traceback (most recent call last):\n"
                ]
              },
              {
                "name": "stderr",
                "output_type": "stream",
                "text": [
                  "  File \"/usr/lib/python3.10/multiprocessing/process.py\", line 314, in _bootstrap\n",
                  "    self.run()\n"
                ]
              },
              {
                "name": "stderr",
                "output_type": "stream",
                "text": [
                  "  File \"/usr/lib/python3.10/multiprocessing/process.py\", line 108, in run\n",
                  "    self._target(*self._args, **self._kwargs)\n"
                ]
              },
              {
                "name": "stderr",
                "output_type": "stream",
                "text": [
                  "  File \"/content/bulkhours/bulkhours/core/widget_base.py\", line 78, in autocorrect\n",
                  "    admin.answers.update_note(self.cinfo.cell_id, user, score)\n"
                ]
              },
              {
                "name": "stderr",
                "output_type": "stream",
                "text": [
                  "  File \"/content/bulkhours/bulkhours/admin/answers.py\", line 102, in update_note\n",
                  "    return core.firebase.get_document(cell_id, user, cinfo=cinfo).update({\"note\": note})\n"
                ]
              },
              {
                "name": "stderr",
                "output_type": "stream",
                "text": [
                  "  File \"/content/bulkhours/bulkhours/core/firebase.py\", line 100, in update\n",
                  "    DbDocument.data_base_cache[self.question][self.user].update(data)\n"
                ]
              },
              {
                "name": "stderr",
                "output_type": "stream",
                "text": [
                  "KeyError: '_room1_my_first_exercice'\n"
                ]
              }
            ]
          }
        },
        "42393949b4e34c0d9deeafcc3648aab5": {
          "model_module": "@jupyter-widgets/controls",
          "model_module_version": "1.5.0",
          "model_name": "DescriptionStyleModel",
          "state": {
            "_model_module": "@jupyter-widgets/controls",
            "_model_module_version": "1.5.0",
            "_model_name": "DescriptionStyleModel",
            "_view_count": null,
            "_view_module": "@jupyter-widgets/base",
            "_view_module_version": "1.2.0",
            "_view_name": "StyleView",
            "description_width": ""
          }
        },
        "427ef4334b074624b129bbdb0c2bb15c": {
          "model_module": "@jupyter-widgets/controls",
          "model_module_version": "1.5.0",
          "model_name": "ButtonStyleModel",
          "state": {
            "_model_module": "@jupyter-widgets/controls",
            "_model_module_version": "1.5.0",
            "_model_name": "ButtonStyleModel",
            "_view_count": null,
            "_view_module": "@jupyter-widgets/base",
            "_view_module_version": "1.2.0",
            "_view_name": "StyleView",
            "button_color": null,
            "font_weight": ""
          }
        },
        "439c2a2be8dc4db1bf849835837cb71c": {
          "model_module": "@jupyter-widgets/controls",
          "model_module_version": "1.5.0",
          "model_name": "ButtonModel",
          "state": {
            "_dom_classes": [],
            "_model_module": "@jupyter-widgets/controls",
            "_model_module_version": "1.5.0",
            "_model_name": "ButtonModel",
            "_view_count": null,
            "_view_module": "@jupyter-widgets/controls",
            "_view_module_version": "1.5.0",
            "_view_name": "ButtonView",
            "button_style": "warning",
            "description": "Publier la solution ",
            "disabled": false,
            "icon": "",
            "layout": "IPY_MODEL_fb135ad5948d4537bfa8d27ce7f70420",
            "style": "IPY_MODEL_771eabb650f64ac788e265ac27e75e4a",
            "tooltip": "⚠️Seulement disponible à l'évaluateur⚠️.\nEnvoi de la réponse (contenu de la cellule actuelle) comme solution officielle.\nSi la fonction 'student_evaluation_function' est diponible, elle pourra être utilisée pour évaluer les étudiants.\n"
          }
        },
        "4552c002a28c43979a7621073fb1442b": {
          "model_module": "@jupyter-widgets/base",
          "model_module_version": "1.2.0",
          "model_name": "LayoutModel",
          "state": {
            "_model_module": "@jupyter-widgets/base",
            "_model_module_version": "1.2.0",
            "_model_name": "LayoutModel",
            "_view_count": null,
            "_view_module": "@jupyter-widgets/base",
            "_view_module_version": "1.2.0",
            "_view_name": "LayoutView",
            "align_content": null,
            "align_items": null,
            "align_self": null,
            "border": null,
            "bottom": null,
            "display": null,
            "flex": null,
            "flex_flow": null,
            "grid_area": null,
            "grid_auto_columns": null,
            "grid_auto_flow": null,
            "grid_auto_rows": null,
            "grid_column": null,
            "grid_gap": null,
            "grid_row": null,
            "grid_template_areas": null,
            "grid_template_columns": null,
            "grid_template_rows": null,
            "height": null,
            "justify_content": null,
            "justify_items": null,
            "left": null,
            "margin": null,
            "max_height": null,
            "max_width": null,
            "min_height": null,
            "min_width": null,
            "object_fit": null,
            "object_position": null,
            "order": null,
            "overflow": null,
            "overflow_x": null,
            "overflow_y": null,
            "padding": null,
            "right": null,
            "top": null,
            "visibility": null,
            "width": "150px"
          }
        },
        "4645a23fe6c6473da12127efead70cb6": {
          "model_module": "@jupyter-widgets/controls",
          "model_module_version": "1.5.0",
          "model_name": "ButtonModel",
          "state": {
            "_dom_classes": [],
            "_model_module": "@jupyter-widgets/controls",
            "_model_module_version": "1.5.0",
            "_model_name": "ButtonModel",
            "_view_count": null,
            "_view_module": "@jupyter-widgets/controls",
            "_view_module_version": "1.5.0",
            "_view_name": "ButtonView",
            "button_style": "primary",
            "description": "Voir la correction",
            "disabled": false,
            "icon": "",
            "layout": "IPY_MODEL_4552c002a28c43979a7621073fb1442b",
            "style": "IPY_MODEL_69fa0f1658bb469f9c63b63294d8234b",
            "tooltip": "Récupération de la solution du correcteur. Si la solution est disponible, \n- Elle est affichée  \n- Elle peut-etre comparée avec le code de la cellule actuelle\n"
          }
        },
        "4c22deba195946b1b91042ba1e28084d": {
          "model_module": "@jupyter-widgets/controls",
          "model_module_version": "1.5.0",
          "model_name": "ButtonModel",
          "state": {
            "_dom_classes": [],
            "_model_module": "@jupyter-widgets/controls",
            "_model_module_version": "1.5.0",
            "_model_name": "ButtonModel",
            "_view_count": null,
            "_view_module": "@jupyter-widgets/controls",
            "_view_module_version": "1.5.0",
            "_view_name": "ButtonView",
            "button_style": "primary",
            "description": "Voir la correction",
            "disabled": false,
            "icon": "",
            "layout": "IPY_MODEL_ecc717fd05c44acdb5a6013fcbeb179f",
            "style": "IPY_MODEL_2735a5253ad34e3b9a34a68cb288cded",
            "tooltip": "Récupération de la solution du correcteur. Si la solution est disponible, \n- Elle est affichée  \n- Elle peut-etre comparée avec le code de la cellule actuelle\n"
          }
        },
        "506ca70a05de49b0abf938d211b9f65f": {
          "model_module": "@jupyter-widgets/output",
          "model_module_version": "1.0.0",
          "model_name": "OutputModel",
          "state": {
            "_dom_classes": [],
            "_model_module": "@jupyter-widgets/output",
            "_model_module_version": "1.0.0",
            "_model_name": "OutputModel",
            "_view_count": null,
            "_view_module": "@jupyter-widgets/output",
            "_view_module_version": "1.0.0",
            "_view_name": "OutputView",
            "layout": "IPY_MODEL_ae4bdc06b7d043e18d1a18a71d5f9609",
            "msg_id": "",
            "outputs": [
              {
                "name": "stdout",
                "output_type": "stream",
                "text": [
                  "square(1)=1\n",
                  "square(3)=9\n",
                  "square(7)=49\n"
                ]
              }
            ]
          }
        },
        "59e9312a2d814b469b4853b50d66b532": {
          "model_module": "@jupyter-widgets/base",
          "model_module_version": "1.2.0",
          "model_name": "LayoutModel",
          "state": {
            "_model_module": "@jupyter-widgets/base",
            "_model_module_version": "1.2.0",
            "_model_name": "LayoutModel",
            "_view_count": null,
            "_view_module": "@jupyter-widgets/base",
            "_view_module_version": "1.2.0",
            "_view_name": "LayoutView",
            "align_content": null,
            "align_items": null,
            "align_self": null,
            "border": null,
            "bottom": null,
            "display": null,
            "flex": null,
            "flex_flow": null,
            "grid_area": null,
            "grid_auto_columns": null,
            "grid_auto_flow": null,
            "grid_auto_rows": null,
            "grid_column": null,
            "grid_gap": null,
            "grid_row": null,
            "grid_template_areas": null,
            "grid_template_columns": null,
            "grid_template_rows": null,
            "height": null,
            "justify_content": null,
            "justify_items": null,
            "left": null,
            "margin": null,
            "max_height": null,
            "max_width": null,
            "min_height": null,
            "min_width": null,
            "object_fit": null,
            "object_position": null,
            "order": null,
            "overflow": null,
            "overflow_x": null,
            "overflow_y": null,
            "padding": null,
            "right": null,
            "top": null,
            "visibility": null,
            "width": null
          }
        },
        "5fb5828b319b43808718e5916089bc16": {
          "model_module": "@jupyter-widgets/base",
          "model_module_version": "1.2.0",
          "model_name": "LayoutModel",
          "state": {
            "_model_module": "@jupyter-widgets/base",
            "_model_module_version": "1.2.0",
            "_model_name": "LayoutModel",
            "_view_count": null,
            "_view_module": "@jupyter-widgets/base",
            "_view_module_version": "1.2.0",
            "_view_name": "LayoutView",
            "align_content": null,
            "align_items": null,
            "align_self": null,
            "border": null,
            "bottom": null,
            "display": null,
            "flex": null,
            "flex_flow": null,
            "grid_area": null,
            "grid_auto_columns": null,
            "grid_auto_flow": null,
            "grid_auto_rows": null,
            "grid_column": null,
            "grid_gap": null,
            "grid_row": null,
            "grid_template_areas": null,
            "grid_template_columns": null,
            "grid_template_rows": null,
            "height": null,
            "justify_content": null,
            "justify_items": null,
            "left": null,
            "margin": null,
            "max_height": null,
            "max_width": null,
            "min_height": null,
            "min_width": null,
            "object_fit": null,
            "object_position": null,
            "order": null,
            "overflow": null,
            "overflow_x": null,
            "overflow_y": null,
            "padding": null,
            "right": null,
            "top": null,
            "visibility": null,
            "width": "150px"
          }
        },
        "69fa0f1658bb469f9c63b63294d8234b": {
          "model_module": "@jupyter-widgets/controls",
          "model_module_version": "1.5.0",
          "model_name": "ButtonStyleModel",
          "state": {
            "_model_module": "@jupyter-widgets/controls",
            "_model_module_version": "1.5.0",
            "_model_name": "ButtonStyleModel",
            "_view_count": null,
            "_view_module": "@jupyter-widgets/base",
            "_view_module_version": "1.2.0",
            "_view_name": "StyleView",
            "button_color": null,
            "font_weight": ""
          }
        },
        "70cacb485f9146148fe893c12007ae88": {
          "model_module": "@jupyter-widgets/controls",
          "model_module_version": "1.5.0",
          "model_name": "ButtonStyleModel",
          "state": {
            "_model_module": "@jupyter-widgets/controls",
            "_model_module_version": "1.5.0",
            "_model_name": "ButtonStyleModel",
            "_view_count": null,
            "_view_module": "@jupyter-widgets/base",
            "_view_module_version": "1.2.0",
            "_view_name": "StyleView",
            "button_color": null,
            "font_weight": ""
          }
        },
        "771eabb650f64ac788e265ac27e75e4a": {
          "model_module": "@jupyter-widgets/controls",
          "model_module_version": "1.5.0",
          "model_name": "ButtonStyleModel",
          "state": {
            "_model_module": "@jupyter-widgets/controls",
            "_model_module_version": "1.5.0",
            "_model_name": "ButtonStyleModel",
            "_view_count": null,
            "_view_module": "@jupyter-widgets/base",
            "_view_module_version": "1.2.0",
            "_view_name": "StyleView",
            "button_color": null,
            "font_weight": ""
          }
        },
        "7f30dd969b5f46c587f30fa6049d970c": {
          "model_module": "@jupyter-widgets/base",
          "model_module_version": "1.2.0",
          "model_name": "LayoutModel",
          "state": {
            "_model_module": "@jupyter-widgets/base",
            "_model_module_version": "1.2.0",
            "_model_name": "LayoutModel",
            "_view_count": null,
            "_view_module": "@jupyter-widgets/base",
            "_view_module_version": "1.2.0",
            "_view_name": "LayoutView",
            "align_content": null,
            "align_items": null,
            "align_self": null,
            "border": null,
            "bottom": null,
            "display": null,
            "flex": null,
            "flex_flow": null,
            "grid_area": null,
            "grid_auto_columns": null,
            "grid_auto_flow": null,
            "grid_auto_rows": null,
            "grid_column": null,
            "grid_gap": null,
            "grid_row": null,
            "grid_template_areas": null,
            "grid_template_columns": null,
            "grid_template_rows": null,
            "height": null,
            "justify_content": null,
            "justify_items": null,
            "left": null,
            "margin": null,
            "max_height": null,
            "max_width": null,
            "min_height": null,
            "min_width": null,
            "object_fit": null,
            "object_position": null,
            "order": null,
            "overflow": null,
            "overflow_x": null,
            "overflow_y": null,
            "padding": null,
            "right": null,
            "top": null,
            "visibility": null,
            "width": "150px"
          }
        },
        "a153c84a7117415ab8c784b0be4801d6": {
          "model_module": "@jupyter-widgets/controls",
          "model_module_version": "1.5.0",
          "model_name": "HTMLModel",
          "state": {
            "_dom_classes": [],
            "_model_module": "@jupyter-widgets/controls",
            "_model_module_version": "1.5.0",
            "_model_name": "HTMLModel",
            "_view_count": null,
            "_view_module": "@jupyter-widgets/controls",
            "_view_module_version": "1.5.0",
            "_view_name": "HTMLView",
            "description": "",
            "description_tooltip": null,
            "layout": "IPY_MODEL_2793419c7ee740b7b36010645cdf68e2",
            "placeholder": "​",
            "style": "IPY_MODEL_42393949b4e34c0d9deeafcc3648aab5",
            "value": "<style>\n            .sol_background {background-color:#f7d1d1}\n            .cell_background {background-color:#F7F7F7}\n            .cell_border {background-color:#CFCFCF}\n\nbuttonb {\n   border: none;\n   color: red;\n   font-weight: bolder;\n   padding: 20px;\n   font-size: 18px;\n   cursor: pointer;\n   border-radius: 6px;\n}\n.button3 {background-color:#eaeaea}\n.button1 {background-color:#eaeaea ; color:red ; font-size:100% ; border: 1px solid #eaeaea}\n.button2 {background-color:#eaeaea ; color:red}\n        </style>\n    "
          }
        },
        "a38397b1586240a5aab8144bbd42ada0": {
          "model_module": "@jupyter-widgets/base",
          "model_module_version": "1.2.0",
          "model_name": "LayoutModel",
          "state": {
            "_model_module": "@jupyter-widgets/base",
            "_model_module_version": "1.2.0",
            "_model_name": "LayoutModel",
            "_view_count": null,
            "_view_module": "@jupyter-widgets/base",
            "_view_module_version": "1.2.0",
            "_view_name": "LayoutView",
            "align_content": null,
            "align_items": null,
            "align_self": null,
            "border": null,
            "bottom": null,
            "display": null,
            "flex": null,
            "flex_flow": null,
            "grid_area": null,
            "grid_auto_columns": null,
            "grid_auto_flow": null,
            "grid_auto_rows": null,
            "grid_column": null,
            "grid_gap": null,
            "grid_row": null,
            "grid_template_areas": null,
            "grid_template_columns": null,
            "grid_template_rows": null,
            "height": null,
            "justify_content": null,
            "justify_items": null,
            "left": null,
            "margin": null,
            "max_height": null,
            "max_width": null,
            "min_height": null,
            "min_width": null,
            "object_fit": null,
            "object_position": null,
            "order": null,
            "overflow": null,
            "overflow_x": null,
            "overflow_y": null,
            "padding": null,
            "right": null,
            "top": null,
            "visibility": null,
            "width": "150px"
          }
        },
        "ac9f1559947c41108eef6735616480b6": {
          "model_module": "@jupyter-widgets/controls",
          "model_module_version": "1.5.0",
          "model_name": "HBoxModel",
          "state": {
            "_dom_classes": [],
            "_model_module": "@jupyter-widgets/controls",
            "_model_module_version": "1.5.0",
            "_model_name": "HBoxModel",
            "_view_count": null,
            "_view_module": "@jupyter-widgets/controls",
            "_view_module_version": "1.5.0",
            "_view_name": "HBoxView",
            "box_style": "",
            "children": [
              "IPY_MODEL_218e94c740d846458867f924ba315cbf",
              "IPY_MODEL_4c22deba195946b1b91042ba1e28084d"
            ],
            "layout": "IPY_MODEL_3e7fd37b0a3944c19ec354fdcb9dc840"
          }
        },
        "ae4bdc06b7d043e18d1a18a71d5f9609": {
          "model_module": "@jupyter-widgets/base",
          "model_module_version": "1.2.0",
          "model_name": "LayoutModel",
          "state": {
            "_model_module": "@jupyter-widgets/base",
            "_model_module_version": "1.2.0",
            "_model_name": "LayoutModel",
            "_view_count": null,
            "_view_module": "@jupyter-widgets/base",
            "_view_module_version": "1.2.0",
            "_view_name": "LayoutView",
            "align_content": null,
            "align_items": null,
            "align_self": null,
            "border": null,
            "bottom": null,
            "display": null,
            "flex": null,
            "flex_flow": null,
            "grid_area": null,
            "grid_auto_columns": null,
            "grid_auto_flow": null,
            "grid_auto_rows": null,
            "grid_column": null,
            "grid_gap": null,
            "grid_row": null,
            "grid_template_areas": null,
            "grid_template_columns": null,
            "grid_template_rows": null,
            "height": null,
            "justify_content": null,
            "justify_items": null,
            "left": null,
            "margin": null,
            "max_height": null,
            "max_width": null,
            "min_height": null,
            "min_width": null,
            "object_fit": null,
            "object_position": null,
            "order": null,
            "overflow": null,
            "overflow_x": null,
            "overflow_y": null,
            "padding": null,
            "right": null,
            "top": null,
            "visibility": null,
            "width": null
          }
        },
        "c5e64beca5a74424aba2f7d3200df2d2": {
          "model_module": "@jupyter-widgets/controls",
          "model_module_version": "1.5.0",
          "model_name": "HBoxModel",
          "state": {
            "_dom_classes": [],
            "_model_module": "@jupyter-widgets/controls",
            "_model_module_version": "1.5.0",
            "_model_name": "HBoxModel",
            "_view_count": null,
            "_view_module": "@jupyter-widgets/controls",
            "_view_module_version": "1.5.0",
            "_view_name": "HBoxView",
            "box_style": "",
            "children": [
              "IPY_MODEL_e991a9df4b594b0f9da1cfa299e7341e",
              "IPY_MODEL_4645a23fe6c6473da12127efead70cb6",
              "IPY_MODEL_439c2a2be8dc4db1bf849835837cb71c",
              "IPY_MODEL_ff80c8011bd0486e8bef937ca43b4190"
            ],
            "layout": "IPY_MODEL_3aa18e3543e049149bf217672fc8ed4e"
          }
        },
        "e991a9df4b594b0f9da1cfa299e7341e": {
          "model_module": "@jupyter-widgets/controls",
          "model_module_version": "1.5.0",
          "model_name": "ButtonModel",
          "state": {
            "_dom_classes": [],
            "_model_module": "@jupyter-widgets/controls",
            "_model_module_version": "1.5.0",
            "_model_name": "ButtonModel",
            "_view_count": null,
            "_view_module": "@jupyter-widgets/controls",
            "_view_module_version": "1.5.0",
            "_view_name": "ButtonView",
            "button_style": "primary",
            "description": "Envoyer au correcteur",
            "disabled": false,
            "icon": "",
            "layout": "IPY_MODEL_5fb5828b319b43808718e5916089bc16",
            "style": "IPY_MODEL_70cacb485f9146148fe893c12007ae88",
            "tooltip": "Envoi de la réponse (contenu de la cellule actuelle) au correcteur.\nLa réponse pourra être utilisée pour évaluation\n"
          }
        },
        "ecc717fd05c44acdb5a6013fcbeb179f": {
          "model_module": "@jupyter-widgets/base",
          "model_module_version": "1.2.0",
          "model_name": "LayoutModel",
          "state": {
            "_model_module": "@jupyter-widgets/base",
            "_model_module_version": "1.2.0",
            "_model_name": "LayoutModel",
            "_view_count": null,
            "_view_module": "@jupyter-widgets/base",
            "_view_module_version": "1.2.0",
            "_view_name": "LayoutView",
            "align_content": null,
            "align_items": null,
            "align_self": null,
            "border": null,
            "bottom": null,
            "display": null,
            "flex": null,
            "flex_flow": null,
            "grid_area": null,
            "grid_auto_columns": null,
            "grid_auto_flow": null,
            "grid_auto_rows": null,
            "grid_column": null,
            "grid_gap": null,
            "grid_row": null,
            "grid_template_areas": null,
            "grid_template_columns": null,
            "grid_template_rows": null,
            "height": null,
            "justify_content": null,
            "justify_items": null,
            "left": null,
            "margin": null,
            "max_height": null,
            "max_width": null,
            "min_height": null,
            "min_width": null,
            "object_fit": null,
            "object_position": null,
            "order": null,
            "overflow": null,
            "overflow_x": null,
            "overflow_y": null,
            "padding": null,
            "right": null,
            "top": null,
            "visibility": null,
            "width": "150px"
          }
        },
        "fb135ad5948d4537bfa8d27ce7f70420": {
          "model_module": "@jupyter-widgets/base",
          "model_module_version": "1.2.0",
          "model_name": "LayoutModel",
          "state": {
            "_model_module": "@jupyter-widgets/base",
            "_model_module_version": "1.2.0",
            "_model_name": "LayoutModel",
            "_view_count": null,
            "_view_module": "@jupyter-widgets/base",
            "_view_module_version": "1.2.0",
            "_view_name": "LayoutView",
            "align_content": null,
            "align_items": null,
            "align_self": null,
            "border": null,
            "bottom": null,
            "display": null,
            "flex": null,
            "flex_flow": null,
            "grid_area": null,
            "grid_auto_columns": null,
            "grid_auto_flow": null,
            "grid_auto_rows": null,
            "grid_column": null,
            "grid_gap": null,
            "grid_row": null,
            "grid_template_areas": null,
            "grid_template_columns": null,
            "grid_template_rows": null,
            "height": null,
            "justify_content": null,
            "justify_items": null,
            "left": null,
            "margin": null,
            "max_height": null,
            "max_width": null,
            "min_height": null,
            "min_width": null,
            "object_fit": null,
            "object_position": null,
            "order": null,
            "overflow": null,
            "overflow_x": null,
            "overflow_y": null,
            "padding": null,
            "right": null,
            "top": null,
            "visibility": null,
            "width": "150px"
          }
        },
        "ff80c8011bd0486e8bef937ca43b4190": {
          "model_module": "@jupyter-widgets/controls",
          "model_module_version": "1.5.0",
          "model_name": "ButtonModel",
          "state": {
            "_dom_classes": [],
            "_model_module": "@jupyter-widgets/controls",
            "_model_module_version": "1.5.0",
            "_model_name": "ButtonModel",
            "_view_count": null,
            "_view_module": "@jupyter-widgets/controls",
            "_view_module_version": "1.5.0",
            "_view_name": "ButtonView",
            "button_style": "danger",
            "description": "Corriger les étudiants ",
            "disabled": false,
            "icon": "",
            "layout": "IPY_MODEL_7f30dd969b5f46c587f30fa6049d970c",
            "style": "IPY_MODEL_177664b1123e48caab3a9e15eadfe0cb",
            "tooltip": "⚠️Seulement disponible à l'évaluateur⚠️.\nUtilise le code de la fonction 'student_evaluation_function' pour évaluer tous les étudiants de la classe virtuelle.\n"
          }
        }
      }
    }
  },
  "nbformat": 4,
  "nbformat_minor": 0
}
