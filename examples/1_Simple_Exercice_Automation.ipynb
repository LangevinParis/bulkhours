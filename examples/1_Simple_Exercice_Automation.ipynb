{
  "cells": [
    {
      "cell_type": "markdown",
      "metadata": {
        "id": "4ZQuN02JnkDZ"
      },
      "source": [
        "# Initialization of the notebook"
      ]
    },
    {
      "cell_type": "markdown",
      "metadata": {
        "id": "cxb4MUu_VnLD"
      },
      "source": [
        "## Install the package\n",
        "\n",
        "First, you need to install the package from github and import it:"
      ]
    },
    {
      "cell_type": "code",
      "execution_count": 1,
      "metadata": {
        "colab": {
          "base_uri": "https://localhost:8080/",
          "height": 175
        },
        "id": "rSpNjxbXy0TB",
        "outputId": "6c806ff1-d9ca-4fd7-857c-3be447f2b2ea"
      },
      "outputs": [
        {
          "output_type": "stream",
          "name": "stdout",
          "text": [
            "Cloning into 'bulkhours'...\n",
            "remote: Enumerating objects: 5664, done.\u001b[K\n",
            "remote: Counting objects: 100% (1263/1263), done.\u001b[K\n",
            "remote: Compressing objects: 100% (392/392), done.\u001b[K\n",
            "remote: Total 5664 (delta 862), reused 1227 (delta 830), pack-reused 4401\u001b[K\n",
            "Receiving objects: 100% (5664/5664), 42.46 MiB | 23.45 MiB/s, done.\n",
            "Resolving deltas: 100% (3699/3699), done.\n"
          ]
        },
        {
          "output_type": "display_data",
          "data": {
            "text/plain": [
              "<IPython.core.display.Markdown object>"
            ],
            "text/markdown": "[![Open In Colab](https://colab.research.google.com/assets/colab-badge.svg)](https://colab.research.google.com/github/guydegnol/bulkhours/blob/main/examples/1_Simple_Exercice_Automation.ipynb) [![Open In Kaggle](https://kaggle.com/static/images/open-in-kaggle.svg)](https://kaggle.com/kernels/welcome?src=https://github.com/guydegnol/bulkhours/blob/main/examples/1_Simple_Exercice_Automation.ipynb) [![GitHub](https://badgen.net/badge/icon/Open%20in%20Github?icon=github&label)](https://github.com/guydegnol/bulkhours/blob/main/examples/1_Simple_Exercice_Automation.ipynb) [![Open in Visual Studio Code](https://img.shields.io/static/v1?logo=visualstudiocode&label=&message=Open%20in%20Visual%20Studio&labelColor=2c2c32&color=007acc&logoColor=007acc)](https://vscode.dev/github/guydegnol/bulkhours/blob/main/examples/1_Simple_Exercice_Automation.ipynb) [![CC-by-nc-sa license](https://badgen.net/badge/icon/CC%20by-nc-sa?label=Licence)](https://creativecommons.org/licenses/by-nc-sa/4.0)\n"
          },
          "metadata": {}
        }
      ],
      "source": [
        "# Install the bulkhours package\n",
        "!rm -rf bulkhours && git clone https://github.com/guydegnol/bulkhours.git\n",
        "\n",
        "# Import the bulkhours package\n",
        "import bulkhours\n",
        "\n",
        "# Import needed libraries\n",
        "import numpy as np\n",
        "\n",
        "# Generate header links (only for the demo)\n",
        "bulkhours.generate_header_links(\"examples/1_Simple_Exercice_Automation.ipynb\")"
      ]
    },
    {
      "cell_type": "markdown",
      "metadata": {
        "id": "eKq60wOFhp4I"
      },
      "source": [
        "## Connection to the evaluation database\n",
        "\n",
        "To activate the evaluation tools, you need to identify yourself on the database server.\n"
      ]
    },
    {
      "cell_type": "code",
      "execution_count": 2,
      "metadata": {
        "colab": {
          "base_uri": "https://localhost:8080/"
        },
        "id": "acIlYk26hYoB",
        "outputId": "dba20a50-d058-4309-c0e5-c78e59c79bf9"
      },
      "outputs": [
        {
          "output_type": "stream",
          "name": "stdout",
          "text": [
            "Import BULK Helper cOURSe (\u001b[0m\u001b[36mversion='5.2.25'\u001b[0m🚀'):⚠️\u001b[31mDatabase is local (security_level=0). Export your config file if you need persistency.\u001b[0m⚠️\n",
            "(db, subject, virtual_room, nb_id, user) = (starwars.json, s, light_side, n, luke.skywalker@jedi.com✅)\n"
          ]
        }
      ],
      "source": [
        "# You need to identify yourself first to activate the evaluation tools\n",
        "bulkhours.init_env(email=\"luke.skywalker@jedi.com\", database=None)"
      ]
    },
    {
      "cell_type": "markdown",
      "metadata": {
        "id": "FKiX55TGjCP5"
      },
      "source": [
        "* If the database `argument` is not set up, it will simply be the following local file:\n",
        "```python\n",
        "# This file will be loaded from the bulkhours package directory\n",
        "database =\"data/cache/starwars.json\"\n",
        "```\n",
        "\n",
        "* You can configure it with your own server:\n",
        "```python\n",
        "# This file will be loaded from the server absolute path\n",
        "database =\"/content/mydatabase.json\"\n",
        "```\n",
        "\n",
        "* It can also be a database config information:\n",
        "```python\n",
        "# This config file is only compatible with a google firestore server for now.\n",
        "database = {\n",
        "    \"type\": \"service_account\",\n",
        "    ...,\n",
        "    \"universe_domain\": \"googleapis.com\"\n",
        "    }\n",
        "```\n",
        "\n",
        "* Another solution is to ask a token to bulkhours@guydegnol.net . With this token, you should have access to a secured database (with id check and separated rights between students and admins), api to openai, huggingface, etc...\n",
        "```python\n",
        "database = \"bkloud@SUBJECT/teacher::eNq-XXXXXXXXXXXHXXXXX-L29tB\"\n",
        "database = \"bkloud@SUBJECT/CLASSROOM_student::eNq-XXXXXXXXXXXHXXXXX-9tB\"\n",
        "```\n",
        "\n",
        "\n",
        ">[💡Documentation: 📱**`bulkhours.init_env`**](https://github.com/guydegnol/bulkhours/wiki/init_env)\n",
        "\n"
      ]
    },
    {
      "cell_type": "markdown",
      "metadata": {
        "id": "WAWZ3hSUC_ju"
      },
      "source": [
        "# Create an exercice with automatic evaluation\n",
        "\n",
        "Here is the exercice I want to give to my students:\n",
        "\n",
        "> **Exercise**: Using `numpy.exp`, implement the $\\sigma(z) = \\frac{1}{1 + e^{-z}}$ to make predictions.\n",
        "\n",
        "The expected solution is the following:\n",
        "\n",
        "```python\n",
        "def sigmoid(z):\n",
        "  s = 1 / (1 + np.exp(-z))\n",
        "  return s\n",
        "```"
      ]
    },
    {
      "cell_type": "markdown",
      "metadata": {
        "id": "CIrOZMQ-DrRC"
      },
      "source": [
        "## Define an exercice id\n",
        "\n",
        "To identify an exercice, we need to define an id for each cell (aka `cell_id`). We can do it by using the `%%evaluation_cell_id` magic method.\n",
        "\n",
        "For instance, here is the content of a cell that a student might see:"
      ]
    },
    {
      "cell_type": "code",
      "execution_count": 4,
      "metadata": {
        "colab": {
          "base_uri": "https://localhost:8080/",
          "height": 101,
          "referenced_widgets": [
            "e488e69403b5495d9adae56b352681e4",
            "2b0c19b83cf14e6696b97c2ff7e2a531",
            "c859a2dc765343a390de27578a25ba09",
            "7e39ad0a2cc741ee9e7deca202a20196",
            "5d543f3a10b047859fd2cfd616356387",
            "57ae6226543c4d7fac3b6997bb809a38",
            "d9e705842d954e058de169390af291cb",
            "7a55c0d03afc407a9ba4d746e1931404",
            "228567a65d2749409d967f9dce4b5ac0",
            "4e864aa4ef7049ec9d29538ea7ff9d61"
          ]
        },
        "id": "xyPNN-G5Uv7v",
        "outputId": "46694249-5c73-43bc-8682-c605009e3a4a"
      },
      "outputs": [
        {
          "output_type": "display_data",
          "data": {
            "text/plain": [
              "HBox(children=(Button(button_style='primary', description='Envoyer au correcteur', layout=Layout(width='150px'…"
            ],
            "application/vnd.jupyter.widget-view+json": {
              "version_major": 2,
              "version_minor": 0,
              "model_id": "e488e69403b5495d9adae56b352681e4"
            }
          },
          "metadata": {}
        },
        {
          "output_type": "display_data",
          "data": {
            "text/plain": [
              "Output()"
            ],
            "application/vnd.jupyter.widget-view+json": {
              "version_major": 2,
              "version_minor": 0,
              "model_id": "228567a65d2749409d967f9dce4b5ac0"
            }
          },
          "metadata": {}
        }
      ],
      "source": [
        "%%evaluation_cell_id -i my_first_exercice\n",
        "\n",
        "def sigmoid(z):\n",
        "  # Implement the sigmoid function\n",
        "  s = z # ...\n",
        "  return s\n",
        "\n",
        "for z in [1, 3, 7]:\n",
        "  print(f\"sigmoid({z})={sigmoid(z)}\")"
      ]
    },
    {
      "cell_type": "markdown",
      "metadata": {
        "id": "-DBpDhtJEK7e"
      },
      "source": [
        "The id of the exercice has been chosen as `my_first_exercice`.\n",
        "With this identification, we should ne able to exchange information from one notebook to another.\n",
        "\n",
        "**As a student, you have by defaults 2 available buttons:**\n",
        "* One to submit the cell content as an answer,\n",
        "* Another one to get the solution when it is available.\n",
        "\n",
        ">[💡Documentation: 🔗**`evaluation_cell_id`**](https://github.com/guydegnol/bulkhours/wiki/evaluation_cell_id)"
      ]
    },
    {
      "cell_type": "markdown",
      "metadata": {
        "id": "GJr4KCvMuiWY"
      },
      "source": [
        "## Teacher mode versus student mode"
      ]
    },
    {
      "cell_type": "markdown",
      "metadata": {
        "id": "ylhoreJQb1I7"
      },
      "source": [
        "Normaly, all the following code should be runned in a teacher notebook.\n",
        "In demo mode, you can simply switch to the teacher mode calling the\n",
        "```bulkhours.init_env``` with the ```is_admin=True``` argument.\n"
      ]
    },
    {
      "cell_type": "code",
      "execution_count": 5,
      "metadata": {
        "colab": {
          "base_uri": "https://localhost:8080/"
        },
        "id": "ITm3ZI9ZE8f5",
        "outputId": "09fd0011-a4b5-44ba-9104-aa41b69be564"
      },
      "outputs": [
        {
          "output_type": "stream",
          "name": "stdout",
          "text": [
            "Import BULK Helper cOURSe (\u001b[0m\u001b[36mversion='5.2.25'\u001b[0m🚀', ⚠️\u001b[31m\u001b[41m\u001b[37m in admin/teacher🎓 mode\u001b[0m⚠️):⚠️\u001b[31mDatabase is local (security_level=0). Export your config file if you need persistency.\u001b[0m⚠️\n",
            "(db, subject, virtual_room, nb_id, user) = (starwars.json, s, light_side, n, yoda@jedi.com🎓)\n"
          ]
        }
      ],
      "source": [
        "bulkhours.init_env(email=\"yoda@jedi.com\", is_admin=True)"
      ]
    },
    {
      "cell_type": "markdown",
      "metadata": {
        "id": "KZhMIN2pxfjo"
      },
      "source": [
        "## Accessing someone else notebook cell\n"
      ]
    },
    {
      "cell_type": "markdown",
      "metadata": {
        "id": "wHkOSnlmyWkP"
      },
      "source": [
        "As an admin of the project, you can access the cell content of another user like that:"
      ]
    },
    {
      "cell_type": "code",
      "execution_count": null,
      "metadata": {
        "colab": {
          "base_uri": "https://localhost:8080/",
          "height": 352,
          "referenced_widgets": [
            "c844ae88d56f4fe38599bf2b26863f0f",
            "0f835c9875874a58b7eadb652f09438b",
            "c87621be71ee4a35863038ff1cca325e",
            "c14424129790473ea621910ea6e9c33a",
            "1bb4e6c8d6ec45949bd7e8d6dcf106e4",
            "6a58a4d9588a454996c388dbff79d79d",
            "8c841ad633a74348bfd808a6ed88fbe5",
            "511f52746d044c88862ca0f8312f809f",
            "af2b12b069ec46d99d8702ba303fd222",
            "5ba14035d61646098185986fa1d1b0a4",
            "195bbb08129c47fe8d5821e327ada9af",
            "f97fad6813904263a7ba8ed7c6a8de4c",
            "c4209f76d08c4806a7c54a7533024704",
            "b4149b2303d645959d5275186e001b85",
            "cad47516cb354ffc8a714db077e0f0be",
            "afc18ad5ba90412c92c9fe97052723c2",
            "b73bf27c0ef84eb7946d80e1e6b85662",
            "3b8742099fdf41c3b88436159ae36944",
            "a16eb1f9c3f0475bb5bff225460e467c"
          ]
        },
        "id": "TP_1tQGQx1ST",
        "outputId": "44b8e751-cf9b-44e8-d063-8f64bcd6a662"
      },
      "outputs": [
        {
          "name": "stdout",
          "output_type": "stream",
          "text": [
            "\n"
          ]
        },
        {
          "data": {
            "application/vnd.jupyter.widget-view+json": {
              "model_id": "c844ae88d56f4fe38599bf2b26863f0f",
              "version_major": 2,
              "version_minor": 0
            },
            "text/plain": [
              "HTML(value=\"<b><font face='FiraCode Nerd Font' size=4 color='red'>Code (Luke.s)📚<font></b>\", layout=Layout(hei…"
            ]
          },
          "metadata": {},
          "output_type": "display_data"
        },
        {
          "name": "stdout",
          "output_type": "stream",
          "text": [
            "\n"
          ]
        },
        {
          "data": {
            "text/html": [
              "<style>pre { line-height: 125%; }\n",
              "td.linenos .normal { color: inherit; background-color: transparent; padding-left: 5px; padding-right: 5px; }\n",
              "span.linenos { color: inherit; background-color: transparent; padding-left: 5px; padding-right: 5px; }\n",
              "td.linenos .special { color: #000000; background-color: #ffffc0; padding-left: 5px; padding-right: 5px; }\n",
              "span.linenos.special { color: #000000; background-color: #ffffc0; padding-left: 5px; padding-right: 5px; }\n",
              ".output_html .hll { background-color: #ffffcc }\n",
              ".output_html { background: #f8f8f8; }\n",
              ".output_html .c { color: #3D7B7B; font-style: italic } /* Comment */\n",
              ".output_html .err { border: 1px solid #FF0000 } /* Error */\n",
              ".output_html .k { color: #008000; font-weight: bold } /* Keyword */\n",
              ".output_html .o { color: #666666 } /* Operator */\n",
              ".output_html .ch { color: #3D7B7B; font-style: italic } /* Comment.Hashbang */\n",
              ".output_html .cm { color: #3D7B7B; font-style: italic } /* Comment.Multiline */\n",
              ".output_html .cp { color: #9C6500 } /* Comment.Preproc */\n",
              ".output_html .cpf { color: #3D7B7B; font-style: italic } /* Comment.PreprocFile */\n",
              ".output_html .c1 { color: #3D7B7B; font-style: italic } /* Comment.Single */\n",
              ".output_html .cs { color: #3D7B7B; font-style: italic } /* Comment.Special */\n",
              ".output_html .gd { color: #A00000 } /* Generic.Deleted */\n",
              ".output_html .ge { font-style: italic } /* Generic.Emph */\n",
              ".output_html .gr { color: #E40000 } /* Generic.Error */\n",
              ".output_html .gh { color: #000080; font-weight: bold } /* Generic.Heading */\n",
              ".output_html .gi { color: #008400 } /* Generic.Inserted */\n",
              ".output_html .go { color: #717171 } /* Generic.Output */\n",
              ".output_html .gp { color: #000080; font-weight: bold } /* Generic.Prompt */\n",
              ".output_html .gs { font-weight: bold } /* Generic.Strong */\n",
              ".output_html .gu { color: #800080; font-weight: bold } /* Generic.Subheading */\n",
              ".output_html .gt { color: #0044DD } /* Generic.Traceback */\n",
              ".output_html .kc { color: #008000; font-weight: bold } /* Keyword.Constant */\n",
              ".output_html .kd { color: #008000; font-weight: bold } /* Keyword.Declaration */\n",
              ".output_html .kn { color: #008000; font-weight: bold } /* Keyword.Namespace */\n",
              ".output_html .kp { color: #008000 } /* Keyword.Pseudo */\n",
              ".output_html .kr { color: #008000; font-weight: bold } /* Keyword.Reserved */\n",
              ".output_html .kt { color: #B00040 } /* Keyword.Type */\n",
              ".output_html .m { color: #666666 } /* Literal.Number */\n",
              ".output_html .s { color: #BA2121 } /* Literal.String */\n",
              ".output_html .na { color: #687822 } /* Name.Attribute */\n",
              ".output_html .nb { color: #008000 } /* Name.Builtin */\n",
              ".output_html .nc { color: #0000FF; font-weight: bold } /* Name.Class */\n",
              ".output_html .no { color: #880000 } /* Name.Constant */\n",
              ".output_html .nd { color: #AA22FF } /* Name.Decorator */\n",
              ".output_html .ni { color: #717171; font-weight: bold } /* Name.Entity */\n",
              ".output_html .ne { color: #CB3F38; font-weight: bold } /* Name.Exception */\n",
              ".output_html .nf { color: #0000FF } /* Name.Function */\n",
              ".output_html .nl { color: #767600 } /* Name.Label */\n",
              ".output_html .nn { color: #0000FF; font-weight: bold } /* Name.Namespace */\n",
              ".output_html .nt { color: #008000; font-weight: bold } /* Name.Tag */\n",
              ".output_html .nv { color: #19177C } /* Name.Variable */\n",
              ".output_html .ow { color: #AA22FF; font-weight: bold } /* Operator.Word */\n",
              ".output_html .w { color: #bbbbbb } /* Text.Whitespace */\n",
              ".output_html .mb { color: #666666 } /* Literal.Number.Bin */\n",
              ".output_html .mf { color: #666666 } /* Literal.Number.Float */\n",
              ".output_html .mh { color: #666666 } /* Literal.Number.Hex */\n",
              ".output_html .mi { color: #666666 } /* Literal.Number.Integer */\n",
              ".output_html .mo { color: #666666 } /* Literal.Number.Oct */\n",
              ".output_html .sa { color: #BA2121 } /* Literal.String.Affix */\n",
              ".output_html .sb { color: #BA2121 } /* Literal.String.Backtick */\n",
              ".output_html .sc { color: #BA2121 } /* Literal.String.Char */\n",
              ".output_html .dl { color: #BA2121 } /* Literal.String.Delimiter */\n",
              ".output_html .sd { color: #BA2121; font-style: italic } /* Literal.String.Doc */\n",
              ".output_html .s2 { color: #BA2121 } /* Literal.String.Double */\n",
              ".output_html .se { color: #AA5D1F; font-weight: bold } /* Literal.String.Escape */\n",
              ".output_html .sh { color: #BA2121 } /* Literal.String.Heredoc */\n",
              ".output_html .si { color: #A45A77; font-weight: bold } /* Literal.String.Interpol */\n",
              ".output_html .sx { color: #008000 } /* Literal.String.Other */\n",
              ".output_html .sr { color: #A45A77 } /* Literal.String.Regex */\n",
              ".output_html .s1 { color: #BA2121 } /* Literal.String.Single */\n",
              ".output_html .ss { color: #19177C } /* Literal.String.Symbol */\n",
              ".output_html .bp { color: #008000 } /* Name.Builtin.Pseudo */\n",
              ".output_html .fm { color: #0000FF } /* Name.Function.Magic */\n",
              ".output_html .vc { color: #19177C } /* Name.Variable.Class */\n",
              ".output_html .vg { color: #19177C } /* Name.Variable.Global */\n",
              ".output_html .vi { color: #19177C } /* Name.Variable.Instance */\n",
              ".output_html .vm { color: #19177C } /* Name.Variable.Magic */\n",
              ".output_html .il { color: #666666 } /* Literal.Number.Integer.Long */</style><div class=\"highlight\"><pre><span></span><span class=\"k\">def</span> <span class=\"nf\">sigmoid</span><span class=\"p\">(</span><span class=\"n\">z</span><span class=\"p\">):</span>\n",
              "  <span class=\"c1\"># Implement the sigmoid function</span>\n",
              "  <span class=\"n\">s</span> <span class=\"o\">=</span> <span class=\"n\">z</span> <span class=\"c1\"># ...</span>\n",
              "  <span class=\"k\">return</span> <span class=\"n\">s</span>\n",
              "\n",
              "<span class=\"k\">for</span> <span class=\"n\">z</span> <span class=\"ow\">in</span> <span class=\"p\">[</span><span class=\"mi\">1</span><span class=\"p\">,</span> <span class=\"mi\">3</span><span class=\"p\">,</span> <span class=\"mi\">7</span><span class=\"p\">]:</span>\n",
              "  <span class=\"nb\">print</span><span class=\"p\">(</span><span class=\"sa\">f</span><span class=\"s2\">&quot;sigmoid(</span><span class=\"si\">{</span><span class=\"n\">z</span><span class=\"si\">}</span><span class=\"s2\">)=</span><span class=\"si\">{</span><span class=\"n\">sigmoid</span><span class=\"p\">(</span><span class=\"n\">z</span><span class=\"p\">)</span><span class=\"si\">}</span><span class=\"s2\">&quot;</span><span class=\"p\">)</span>\n",
              "</pre></div>\n"
            ],
            "text/latex": [
              "\\begin{Verbatim}[commandchars=\\\\\\{\\}]\n",
              "\\PY{k}{def} \\PY{n+nf}{sigmoid}\\PY{p}{(}\\PY{n}{z}\\PY{p}{)}\\PY{p}{:}\n",
              "  \\PY{c+c1}{\\PYZsh{} Implement the sigmoid function}\n",
              "  \\PY{n}{s} \\PY{o}{=} \\PY{n}{z} \\PY{c+c1}{\\PYZsh{} ...}\n",
              "  \\PY{k}{return} \\PY{n}{s}\n",
              "\n",
              "\\PY{k}{for} \\PY{n}{z} \\PY{o+ow}{in} \\PY{p}{[}\\PY{l+m+mi}{1}\\PY{p}{,} \\PY{l+m+mi}{3}\\PY{p}{,} \\PY{l+m+mi}{7}\\PY{p}{]}\\PY{p}{:}\n",
              "  \\PY{n+nb}{print}\\PY{p}{(}\\PY{l+s+sa}{f}\\PY{l+s+s2}{\\PYZdq{}}\\PY{l+s+s2}{sigmoid(}\\PY{l+s+si}{\\PYZob{}}\\PY{n}{z}\\PY{l+s+si}{\\PYZcb{}}\\PY{l+s+s2}{)=}\\PY{l+s+si}{\\PYZob{}}\\PY{n}{sigmoid}\\PY{p}{(}\\PY{n}{z}\\PY{p}{)}\\PY{l+s+si}{\\PYZcb{}}\\PY{l+s+s2}{\\PYZdq{}}\\PY{p}{)}\n",
              "\\end{Verbatim}\n"
            ],
            "text/plain": [
              "\n",
              "def sigmoid(z):\n",
              "  # Implement the sigmoid function\n",
              "  s = z # ...\n",
              "  return s\n",
              "\n",
              "for z in [1, 3, 7]:\n",
              "  print(f\"sigmoid({z})={sigmoid(z)}\")"
            ]
          },
          "metadata": {},
          "output_type": "display_data"
        },
        {
          "name": "stdout",
          "output_type": "stream",
          "text": [
            "\n"
          ]
        },
        {
          "data": {
            "application/vnd.jupyter.widget-view+json": {
              "model_id": "c14424129790473ea621910ea6e9c33a",
              "version_major": 2,
              "version_minor": 0
            },
            "text/plain": [
              "HTML(value=\"<b><font face='FiraCode Nerd Font' size=4 color='red'>Execution (Luke.s)💻<font></b>\", layout=Layou…"
            ]
          },
          "metadata": {},
          "output_type": "display_data"
        },
        {
          "name": "stdout",
          "output_type": "stream",
          "text": [
            "sigmoid(1)=1\n",
            "sigmoid(3)=3\n",
            "sigmoid(7)=7\n"
          ]
        },
        {
          "data": {
            "application/vnd.jupyter.widget-view+json": {
              "model_id": "8c841ad633a74348bfd808a6ed88fbe5",
              "version_major": 2,
              "version_minor": 0
            },
            "text/plain": [
              "HBox(children=(HTML(value=\"<b><font face='FiraCode Nerd Font' size=6 color='#4F4F4F'>Luke.s<font></b>\", layout…"
            ]
          },
          "metadata": {},
          "output_type": "display_data"
        },
        {
          "data": {
            "application/vnd.jupyter.widget-view+json": {
              "model_id": "3b8742099fdf41c3b88436159ae36944",
              "version_major": 2,
              "version_minor": 0
            },
            "text/plain": [
              "Output()"
            ]
          },
          "metadata": {},
          "output_type": "display_data"
        }
      ],
      "source": [
        "bulkhours.admin.evaluate(\"my_first_exercice\", user=\"luke.skywalker@jedi.com\")"
      ]
    },
    {
      "cell_type": "markdown",
      "metadata": {
        "id": "7NxwwMMAu9Xt"
      },
      "source": [
        "You also have the possibility to directly evaluate the work of a student.\n",
        "\n",
        ">[💡Documentation: ✏️**`bulkhours.admin.evaluate`**](https://github.com/guydegnol/bulkhours/wiki/evaluate)\n"
      ]
    },
    {
      "cell_type": "markdown",
      "metadata": {
        "id": "OBb4Vr4bE0OJ"
      },
      "source": [
        "## Definition of a criterion for automatic correction\n"
      ]
    },
    {
      "cell_type": "markdown",
      "metadata": {
        "id": "W6Fe9ZVUUqg3"
      },
      "source": [
        "Now, we want to have an automatic way of evaluate one student, for several data points. You can dot it like this:\n"
      ]
    },
    {
      "cell_type": "code",
      "execution_count": 6,
      "metadata": {
        "colab": {
          "base_uri": "https://localhost:8080/",
          "height": 315,
          "referenced_widgets": [
            "e8a1b78c75a74c39a1b0d3b89d5b9d58",
            "ada80186c34746c5b8c71431ed209cd4",
            "279d4ae5fadc49ceba554e9717ae84de",
            "a09ba1eaefb14743843280eebcc4aa13",
            "1ba90101989a46b8ac39a8f6f8e23c95",
            "e27ea7bda66c4a859173909f6ffd3606",
            "f77de02b1d5b492b9ab13b7bdb5c0494",
            "183d488846e54153bd5d823193d3632f",
            "ce56d4d56ceb49e8bd850d2bdc7b31d4",
            "75aad14a5acf4a739861e998d4e8ed4e",
            "f6f9b446db144e20acd32f575a3155fc",
            "46ae615eb3464ea49ac3a23664434827",
            "f37bb93d4f8e432aa0fc069c35225aba",
            "44419ca01093414791e4853cd733e1ae",
            "ae6d9d83b345414798c14dbec584648e",
            "797d8a62f4ed4122b34985b8e5a91516",
            "4074636f6ea84a00896aa7346e353274",
            "eb5401021d124ceab5411d7aef6aba8b",
            "9c83a604e576451d8b27957436fbdb40"
          ]
        },
        "id": "83iMiWRuTWJk",
        "outputId": "3e41fc78-c7d1-4fd2-8fa8-7b8d298c930d"
      },
      "outputs": [
        {
          "output_type": "display_data",
          "data": {
            "text/plain": [
              "HBox(children=(Button(button_style='primary', description='Envoyer au correcteur', layout=Layout(width='150px'…"
            ],
            "application/vnd.jupyter.widget-view+json": {
              "version_major": 2,
              "version_minor": 0,
              "model_id": "e8a1b78c75a74c39a1b0d3b89d5b9d58"
            }
          },
          "metadata": {}
        },
        {
          "output_type": "display_data",
          "data": {
            "text/plain": [
              "Output()"
            ],
            "application/vnd.jupyter.widget-view+json": {
              "version_major": 2,
              "version_minor": 0,
              "model_id": "ae6d9d83b345414798c14dbec584648e"
            }
          },
          "metadata": {}
        }
      ],
      "source": [
        "%%evaluation_cell_id -i my_first_exercice\n",
        "import numpy as np\n",
        "\n",
        "def sigmoid(z):\n",
        "  s = 1 / (1 + np.exp(-z))\n",
        "  return s\n",
        "\n",
        "for z in [1, 3, 7]:\n",
        "  print(f\"sigmoid({z})={sigmoid(z)}\")\n",
        "\n",
        "def student_evaluation_function():\n",
        "    score = 0\n",
        "    score += bulkhours.is_equal(student.sigmoid(np.array([1, 3, 7])), max_score=5)\n",
        "    score += 2.5 * (student.sigmoid(3) == teacher.sigmoid(3))\n",
        "    score += bulkhours.is_equal(student.sigmoid(4), teacher.sigmoid(4), max_score=2.5)\n",
        "    return score"
      ]
    },
    {
      "cell_type": "markdown",
      "metadata": {
        "id": "ljm0Y0bD4dn3"
      },
      "source": [
        "\n",
        "Executing the previous cell, **as a teacher, you have 4 available buttons:**\n",
        "* One to submit the cell content as an answer (student mode),\n",
        "* Another one to get the solution when it is available (student mode),\n",
        "* One to publush the current cell as the answer (student_evaluation_function is ignored) (teacher mode),\n",
        "* Another to evaluate all students who have submitted answers (teacher mode).\n",
        "\n",
        "**Methods used:**\n",
        "* `student_evaluation_function`\n",
        "> When found in a cell, the `student_evaluation_function` is used to perform the automatic evaluation. It returns the student's 'score'.\n",
        ">\n",
        ">[💡Documentation: ❓**`student_evaluation_function`**](https://github.com/guydegnol/bulkhours/wiki/student_evaluation_function)\n",
        "\n",
        "\n",
        "* `bulkhours.is_equal`\n",
        "> This method compares the students results data with reference data (by default, the teacher's data).\n",
        ">\n",
        ">[💡Documentation: 💻**`bulkhours.is_equal`**](https://github.com/guydegnol/bulkhours/wiki/is_equal)\n"
      ]
    }
  ],
  "metadata": {
    "colab": {
      "provenance": [],
      "toc_visible": true
    },
    "gpuClass": "standard",
    "kernelspec": {
      "display_name": "bulkhours_py3.10",
      "language": "python",
      "name": "bulkhours_py3.10"
    },
    "language_info": {
      "name": "python",
      "version": "3.10.9"
    },
    "widgets": {
      "application/vnd.jupyter.widget-state+json": {
        "0f835c9875874a58b7eadb652f09438b": {
          "model_module": "@jupyter-widgets/base",
          "model_module_version": "1.2.0",
          "model_name": "LayoutModel",
          "state": {
            "_model_module": "@jupyter-widgets/base",
            "_model_module_version": "1.2.0",
            "_model_name": "LayoutModel",
            "_view_count": null,
            "_view_module": "@jupyter-widgets/base",
            "_view_module_version": "1.2.0",
            "_view_name": "LayoutView",
            "align_content": null,
            "align_items": null,
            "align_self": null,
            "border": null,
            "bottom": null,
            "display": null,
            "flex": null,
            "flex_flow": null,
            "grid_area": null,
            "grid_auto_columns": null,
            "grid_auto_flow": null,
            "grid_auto_rows": null,
            "grid_column": null,
            "grid_gap": null,
            "grid_row": null,
            "grid_template_areas": null,
            "grid_template_columns": null,
            "grid_template_rows": null,
            "height": "auto",
            "justify_content": null,
            "justify_items": null,
            "left": null,
            "margin": null,
            "max_height": null,
            "max_width": null,
            "min_height": null,
            "min_width": null,
            "object_fit": null,
            "object_position": null,
            "order": null,
            "overflow": null,
            "overflow_x": null,
            "overflow_y": null,
            "padding": null,
            "right": null,
            "top": null,
            "visibility": null,
            "width": "auto"
          }
        },
        "195bbb08129c47fe8d5821e327ada9af": {
          "model_module": "@jupyter-widgets/base",
          "model_module_version": "1.2.0",
          "model_name": "LayoutModel",
          "state": {
            "_model_module": "@jupyter-widgets/base",
            "_model_module_version": "1.2.0",
            "_model_name": "LayoutModel",
            "_view_count": null,
            "_view_module": "@jupyter-widgets/base",
            "_view_module_version": "1.2.0",
            "_view_name": "LayoutView",
            "align_content": null,
            "align_items": null,
            "align_self": null,
            "border": null,
            "bottom": null,
            "display": null,
            "flex": null,
            "flex_flow": null,
            "grid_area": null,
            "grid_auto_columns": null,
            "grid_auto_flow": null,
            "grid_auto_rows": null,
            "grid_column": null,
            "grid_gap": null,
            "grid_row": null,
            "grid_template_areas": null,
            "grid_template_columns": null,
            "grid_template_rows": null,
            "height": null,
            "justify_content": null,
            "justify_items": null,
            "left": null,
            "margin": null,
            "max_height": null,
            "max_width": null,
            "min_height": null,
            "min_width": null,
            "object_fit": null,
            "object_position": null,
            "order": null,
            "overflow": null,
            "overflow_x": null,
            "overflow_y": null,
            "padding": null,
            "right": null,
            "top": null,
            "visibility": null,
            "width": null
          }
        },
        "1bb4e6c8d6ec45949bd7e8d6dcf106e4": {
          "model_module": "@jupyter-widgets/base",
          "model_module_version": "1.2.0",
          "model_name": "LayoutModel",
          "state": {
            "_model_module": "@jupyter-widgets/base",
            "_model_module_version": "1.2.0",
            "_model_name": "LayoutModel",
            "_view_count": null,
            "_view_module": "@jupyter-widgets/base",
            "_view_module_version": "1.2.0",
            "_view_name": "LayoutView",
            "align_content": null,
            "align_items": null,
            "align_self": null,
            "border": null,
            "bottom": null,
            "display": null,
            "flex": null,
            "flex_flow": null,
            "grid_area": null,
            "grid_auto_columns": null,
            "grid_auto_flow": null,
            "grid_auto_rows": null,
            "grid_column": null,
            "grid_gap": null,
            "grid_row": null,
            "grid_template_areas": null,
            "grid_template_columns": null,
            "grid_template_rows": null,
            "height": "auto",
            "justify_content": null,
            "justify_items": null,
            "left": null,
            "margin": null,
            "max_height": null,
            "max_width": null,
            "min_height": null,
            "min_width": null,
            "object_fit": null,
            "object_position": null,
            "order": null,
            "overflow": null,
            "overflow_x": null,
            "overflow_y": null,
            "padding": null,
            "right": null,
            "top": null,
            "visibility": null,
            "width": "auto"
          }
        },
        "3b8742099fdf41c3b88436159ae36944": {
          "model_module": "@jupyter-widgets/output",
          "model_module_version": "1.0.0",
          "model_name": "OutputModel",
          "state": {
            "_dom_classes": [],
            "_model_module": "@jupyter-widgets/output",
            "_model_module_version": "1.0.0",
            "_model_name": "OutputModel",
            "_view_count": null,
            "_view_module": "@jupyter-widgets/output",
            "_view_module_version": "1.0.0",
            "_view_name": "OutputView",
            "layout": "IPY_MODEL_a16eb1f9c3f0475bb5bff225460e467c",
            "msg_id": "",
            "outputs": []
          }
        },
        "511f52746d044c88862ca0f8312f809f": {
          "model_module": "@jupyter-widgets/controls",
          "model_module_version": "1.5.0",
          "model_name": "HTMLModel",
          "state": {
            "_dom_classes": [],
            "_model_module": "@jupyter-widgets/controls",
            "_model_module_version": "1.5.0",
            "_model_name": "HTMLModel",
            "_view_count": null,
            "_view_module": "@jupyter-widgets/controls",
            "_view_module_version": "1.5.0",
            "_view_name": "HTMLView",
            "description": "",
            "description_tooltip": null,
            "layout": "IPY_MODEL_f97fad6813904263a7ba8ed7c6a8de4c",
            "placeholder": "​",
            "style": "IPY_MODEL_c4209f76d08c4806a7c54a7533024704",
            "value": "<b><font face='FiraCode Nerd Font' size=6 color='#4F4F4F'>Luke.s<font></b>"
          }
        },
        "5ba14035d61646098185986fa1d1b0a4": {
          "model_module": "@jupyter-widgets/controls",
          "model_module_version": "1.5.0",
          "model_name": "ButtonModel",
          "state": {
            "_dom_classes": [],
            "_model_module": "@jupyter-widgets/controls",
            "_model_module_version": "1.5.0",
            "_model_name": "ButtonModel",
            "_view_count": null,
            "_view_module": "@jupyter-widgets/controls",
            "_view_module_version": "1.5.0",
            "_view_name": "ButtonView",
            "button_style": "info",
            "description": "Sauvegarder la note",
            "disabled": false,
            "icon": "",
            "layout": "IPY_MODEL_afc18ad5ba90412c92c9fe97052723c2",
            "style": "IPY_MODEL_b73bf27c0ef84eb7946d80e1e6b85662",
            "tooltip": "Sauvegarder la note"
          }
        },
        "6a58a4d9588a454996c388dbff79d79d": {
          "model_module": "@jupyter-widgets/controls",
          "model_module_version": "1.5.0",
          "model_name": "DescriptionStyleModel",
          "state": {
            "_model_module": "@jupyter-widgets/controls",
            "_model_module_version": "1.5.0",
            "_model_name": "DescriptionStyleModel",
            "_view_count": null,
            "_view_module": "@jupyter-widgets/base",
            "_view_module_version": "1.2.0",
            "_view_name": "StyleView",
            "description_width": ""
          }
        },
        "8c841ad633a74348bfd808a6ed88fbe5": {
          "model_module": "@jupyter-widgets/controls",
          "model_module_version": "1.5.0",
          "model_name": "HBoxModel",
          "state": {
            "_dom_classes": [],
            "_model_module": "@jupyter-widgets/controls",
            "_model_module_version": "1.5.0",
            "_model_name": "HBoxModel",
            "_view_count": null,
            "_view_module": "@jupyter-widgets/controls",
            "_view_module_version": "1.5.0",
            "_view_name": "HBoxView",
            "box_style": "",
            "children": [
              "IPY_MODEL_511f52746d044c88862ca0f8312f809f",
              "IPY_MODEL_af2b12b069ec46d99d8702ba303fd222",
              "IPY_MODEL_5ba14035d61646098185986fa1d1b0a4"
            ],
            "layout": "IPY_MODEL_195bbb08129c47fe8d5821e327ada9af"
          }
        },
        "a16eb1f9c3f0475bb5bff225460e467c": {
          "model_module": "@jupyter-widgets/base",
          "model_module_version": "1.2.0",
          "model_name": "LayoutModel",
          "state": {
            "_model_module": "@jupyter-widgets/base",
            "_model_module_version": "1.2.0",
            "_model_name": "LayoutModel",
            "_view_count": null,
            "_view_module": "@jupyter-widgets/base",
            "_view_module_version": "1.2.0",
            "_view_name": "LayoutView",
            "align_content": null,
            "align_items": null,
            "align_self": null,
            "border": null,
            "bottom": null,
            "display": null,
            "flex": null,
            "flex_flow": null,
            "grid_area": null,
            "grid_auto_columns": null,
            "grid_auto_flow": null,
            "grid_auto_rows": null,
            "grid_column": null,
            "grid_gap": null,
            "grid_row": null,
            "grid_template_areas": null,
            "grid_template_columns": null,
            "grid_template_rows": null,
            "height": null,
            "justify_content": null,
            "justify_items": null,
            "left": null,
            "margin": null,
            "max_height": null,
            "max_width": null,
            "min_height": null,
            "min_width": null,
            "object_fit": null,
            "object_position": null,
            "order": null,
            "overflow": null,
            "overflow_x": null,
            "overflow_y": null,
            "padding": null,
            "right": null,
            "top": null,
            "visibility": null,
            "width": null
          }
        },
        "af2b12b069ec46d99d8702ba303fd222": {
          "model_module": "@jupyter-widgets/controls",
          "model_module_version": "1.5.0",
          "model_name": "FloatSliderModel",
          "state": {
            "_dom_classes": [],
            "_model_module": "@jupyter-widgets/controls",
            "_model_module_version": "1.5.0",
            "_model_name": "FloatSliderModel",
            "_view_count": null,
            "_view_module": "@jupyter-widgets/controls",
            "_view_module_version": "1.5.0",
            "_view_name": "FloatSliderView",
            "continuous_update": true,
            "description": "",
            "description_tooltip": null,
            "disabled": false,
            "layout": "IPY_MODEL_b4149b2303d645959d5275186e001b85",
            "max": 10,
            "min": 0,
            "orientation": "horizontal",
            "readout": true,
            "readout_format": ".1f",
            "step": 0.5,
            "style": "IPY_MODEL_cad47516cb354ffc8a714db077e0f0be",
            "value": 0
          }
        },
        "afc18ad5ba90412c92c9fe97052723c2": {
          "model_module": "@jupyter-widgets/base",
          "model_module_version": "1.2.0",
          "model_name": "LayoutModel",
          "state": {
            "_model_module": "@jupyter-widgets/base",
            "_model_module_version": "1.2.0",
            "_model_name": "LayoutModel",
            "_view_count": null,
            "_view_module": "@jupyter-widgets/base",
            "_view_module_version": "1.2.0",
            "_view_name": "LayoutView",
            "align_content": null,
            "align_items": null,
            "align_self": null,
            "border": null,
            "bottom": null,
            "display": null,
            "flex": null,
            "flex_flow": null,
            "grid_area": null,
            "grid_auto_columns": null,
            "grid_auto_flow": null,
            "grid_auto_rows": null,
            "grid_column": null,
            "grid_gap": null,
            "grid_row": null,
            "grid_template_areas": null,
            "grid_template_columns": null,
            "grid_template_rows": null,
            "height": null,
            "justify_content": null,
            "justify_items": null,
            "left": null,
            "margin": null,
            "max_height": null,
            "max_width": null,
            "min_height": null,
            "min_width": null,
            "object_fit": null,
            "object_position": null,
            "order": null,
            "overflow": null,
            "overflow_x": null,
            "overflow_y": null,
            "padding": null,
            "right": null,
            "top": null,
            "visibility": null,
            "width": "150px"
          }
        },
        "b4149b2303d645959d5275186e001b85": {
          "model_module": "@jupyter-widgets/base",
          "model_module_version": "1.2.0",
          "model_name": "LayoutModel",
          "state": {
            "_model_module": "@jupyter-widgets/base",
            "_model_module_version": "1.2.0",
            "_model_name": "LayoutModel",
            "_view_count": null,
            "_view_module": "@jupyter-widgets/base",
            "_view_module_version": "1.2.0",
            "_view_name": "LayoutView",
            "align_content": null,
            "align_items": null,
            "align_self": null,
            "border": null,
            "bottom": null,
            "display": null,
            "flex": null,
            "flex_flow": null,
            "grid_area": null,
            "grid_auto_columns": null,
            "grid_auto_flow": null,
            "grid_auto_rows": null,
            "grid_column": null,
            "grid_gap": null,
            "grid_row": null,
            "grid_template_areas": null,
            "grid_template_columns": null,
            "grid_template_rows": null,
            "height": null,
            "justify_content": null,
            "justify_items": null,
            "left": null,
            "margin": null,
            "max_height": null,
            "max_width": null,
            "min_height": null,
            "min_width": null,
            "object_fit": null,
            "object_position": null,
            "order": null,
            "overflow": null,
            "overflow_x": null,
            "overflow_y": null,
            "padding": null,
            "right": null,
            "top": null,
            "visibility": null,
            "width": null
          }
        },
        "b73bf27c0ef84eb7946d80e1e6b85662": {
          "model_module": "@jupyter-widgets/controls",
          "model_module_version": "1.5.0",
          "model_name": "ButtonStyleModel",
          "state": {
            "_model_module": "@jupyter-widgets/controls",
            "_model_module_version": "1.5.0",
            "_model_name": "ButtonStyleModel",
            "_view_count": null,
            "_view_module": "@jupyter-widgets/base",
            "_view_module_version": "1.2.0",
            "_view_name": "StyleView",
            "button_color": null,
            "font_weight": ""
          }
        },
        "c14424129790473ea621910ea6e9c33a": {
          "model_module": "@jupyter-widgets/controls",
          "model_module_version": "1.5.0",
          "model_name": "HTMLModel",
          "state": {
            "_dom_classes": [],
            "_model_module": "@jupyter-widgets/controls",
            "_model_module_version": "1.5.0",
            "_model_name": "HTMLModel",
            "_view_count": null,
            "_view_module": "@jupyter-widgets/controls",
            "_view_module_version": "1.5.0",
            "_view_name": "HTMLView",
            "description": "",
            "description_tooltip": null,
            "layout": "IPY_MODEL_1bb4e6c8d6ec45949bd7e8d6dcf106e4",
            "placeholder": "​",
            "style": "IPY_MODEL_6a58a4d9588a454996c388dbff79d79d",
            "value": "<b><font face='FiraCode Nerd Font' size=4 color='red'>Execution (Luke.s)💻<font></b>"
          }
        },
        "c4209f76d08c4806a7c54a7533024704": {
          "model_module": "@jupyter-widgets/controls",
          "model_module_version": "1.5.0",
          "model_name": "DescriptionStyleModel",
          "state": {
            "_model_module": "@jupyter-widgets/controls",
            "_model_module_version": "1.5.0",
            "_model_name": "DescriptionStyleModel",
            "_view_count": null,
            "_view_module": "@jupyter-widgets/base",
            "_view_module_version": "1.2.0",
            "_view_name": "StyleView",
            "description_width": ""
          }
        },
        "c844ae88d56f4fe38599bf2b26863f0f": {
          "model_module": "@jupyter-widgets/controls",
          "model_module_version": "1.5.0",
          "model_name": "HTMLModel",
          "state": {
            "_dom_classes": [],
            "_model_module": "@jupyter-widgets/controls",
            "_model_module_version": "1.5.0",
            "_model_name": "HTMLModel",
            "_view_count": null,
            "_view_module": "@jupyter-widgets/controls",
            "_view_module_version": "1.5.0",
            "_view_name": "HTMLView",
            "description": "",
            "description_tooltip": null,
            "layout": "IPY_MODEL_0f835c9875874a58b7eadb652f09438b",
            "placeholder": "​",
            "style": "IPY_MODEL_c87621be71ee4a35863038ff1cca325e",
            "value": "<b><font face='FiraCode Nerd Font' size=4 color='red'>Code (Luke.s)📚<font></b>"
          }
        },
        "c87621be71ee4a35863038ff1cca325e": {
          "model_module": "@jupyter-widgets/controls",
          "model_module_version": "1.5.0",
          "model_name": "DescriptionStyleModel",
          "state": {
            "_model_module": "@jupyter-widgets/controls",
            "_model_module_version": "1.5.0",
            "_model_name": "DescriptionStyleModel",
            "_view_count": null,
            "_view_module": "@jupyter-widgets/base",
            "_view_module_version": "1.2.0",
            "_view_name": "StyleView",
            "description_width": ""
          }
        },
        "cad47516cb354ffc8a714db077e0f0be": {
          "model_module": "@jupyter-widgets/controls",
          "model_module_version": "1.5.0",
          "model_name": "SliderStyleModel",
          "state": {
            "_model_module": "@jupyter-widgets/controls",
            "_model_module_version": "1.5.0",
            "_model_name": "SliderStyleModel",
            "_view_count": null,
            "_view_module": "@jupyter-widgets/base",
            "_view_module_version": "1.2.0",
            "_view_name": "StyleView",
            "description_width": "",
            "handle_color": "lightblue"
          }
        },
        "f97fad6813904263a7ba8ed7c6a8de4c": {
          "model_module": "@jupyter-widgets/base",
          "model_module_version": "1.2.0",
          "model_name": "LayoutModel",
          "state": {
            "_model_module": "@jupyter-widgets/base",
            "_model_module_version": "1.2.0",
            "_model_name": "LayoutModel",
            "_view_count": null,
            "_view_module": "@jupyter-widgets/base",
            "_view_module_version": "1.2.0",
            "_view_name": "LayoutView",
            "align_content": null,
            "align_items": null,
            "align_self": null,
            "border": null,
            "bottom": null,
            "display": null,
            "flex": null,
            "flex_flow": null,
            "grid_area": null,
            "grid_auto_columns": null,
            "grid_auto_flow": null,
            "grid_auto_rows": null,
            "grid_column": null,
            "grid_gap": null,
            "grid_row": null,
            "grid_template_areas": null,
            "grid_template_columns": null,
            "grid_template_rows": null,
            "height": "auto",
            "justify_content": null,
            "justify_items": null,
            "left": null,
            "margin": null,
            "max_height": null,
            "max_width": null,
            "min_height": null,
            "min_width": null,
            "object_fit": null,
            "object_position": null,
            "order": null,
            "overflow": null,
            "overflow_x": null,
            "overflow_y": null,
            "padding": null,
            "right": null,
            "top": null,
            "visibility": null,
            "width": "auto"
          }
        },
        "e488e69403b5495d9adae56b352681e4": {
          "model_module": "@jupyter-widgets/controls",
          "model_name": "HBoxModel",
          "model_module_version": "1.5.0",
          "state": {
            "_dom_classes": [],
            "_model_module": "@jupyter-widgets/controls",
            "_model_module_version": "1.5.0",
            "_model_name": "HBoxModel",
            "_view_count": null,
            "_view_module": "@jupyter-widgets/controls",
            "_view_module_version": "1.5.0",
            "_view_name": "HBoxView",
            "box_style": "",
            "children": [
              "IPY_MODEL_2b0c19b83cf14e6696b97c2ff7e2a531",
              "IPY_MODEL_c859a2dc765343a390de27578a25ba09"
            ],
            "layout": "IPY_MODEL_7e39ad0a2cc741ee9e7deca202a20196"
          }
        },
        "2b0c19b83cf14e6696b97c2ff7e2a531": {
          "model_module": "@jupyter-widgets/controls",
          "model_name": "ButtonModel",
          "model_module_version": "1.5.0",
          "state": {
            "_dom_classes": [],
            "_model_module": "@jupyter-widgets/controls",
            "_model_module_version": "1.5.0",
            "_model_name": "ButtonModel",
            "_view_count": null,
            "_view_module": "@jupyter-widgets/controls",
            "_view_module_version": "1.5.0",
            "_view_name": "ButtonView",
            "button_style": "primary",
            "description": "Envoyer au correcteur",
            "disabled": false,
            "icon": "",
            "layout": "IPY_MODEL_5d543f3a10b047859fd2cfd616356387",
            "style": "IPY_MODEL_57ae6226543c4d7fac3b6997bb809a38",
            "tooltip": "Envoi de la réponse (contenu de la cellule actuelle) au correcteur.\nLa réponse pourra être utilisée pour évaluation\n"
          }
        },
        "c859a2dc765343a390de27578a25ba09": {
          "model_module": "@jupyter-widgets/controls",
          "model_name": "ButtonModel",
          "model_module_version": "1.5.0",
          "state": {
            "_dom_classes": [],
            "_model_module": "@jupyter-widgets/controls",
            "_model_module_version": "1.5.0",
            "_model_name": "ButtonModel",
            "_view_count": null,
            "_view_module": "@jupyter-widgets/controls",
            "_view_module_version": "1.5.0",
            "_view_name": "ButtonView",
            "button_style": "primary",
            "description": "Voir la correction",
            "disabled": false,
            "icon": "",
            "layout": "IPY_MODEL_d9e705842d954e058de169390af291cb",
            "style": "IPY_MODEL_7a55c0d03afc407a9ba4d746e1931404",
            "tooltip": "Récupération de la solution du correcteur. Si la solution est disponible, \n- Elle est affichée  \n- Elle peut-etre comparée avec le code de la cellule actuelle\n"
          }
        },
        "7e39ad0a2cc741ee9e7deca202a20196": {
          "model_module": "@jupyter-widgets/base",
          "model_name": "LayoutModel",
          "model_module_version": "1.2.0",
          "state": {
            "_model_module": "@jupyter-widgets/base",
            "_model_module_version": "1.2.0",
            "_model_name": "LayoutModel",
            "_view_count": null,
            "_view_module": "@jupyter-widgets/base",
            "_view_module_version": "1.2.0",
            "_view_name": "LayoutView",
            "align_content": null,
            "align_items": null,
            "align_self": null,
            "border": null,
            "bottom": null,
            "display": null,
            "flex": null,
            "flex_flow": null,
            "grid_area": null,
            "grid_auto_columns": null,
            "grid_auto_flow": null,
            "grid_auto_rows": null,
            "grid_column": null,
            "grid_gap": null,
            "grid_row": null,
            "grid_template_areas": null,
            "grid_template_columns": null,
            "grid_template_rows": null,
            "height": null,
            "justify_content": null,
            "justify_items": null,
            "left": null,
            "margin": null,
            "max_height": null,
            "max_width": null,
            "min_height": null,
            "min_width": null,
            "object_fit": null,
            "object_position": null,
            "order": null,
            "overflow": null,
            "overflow_x": null,
            "overflow_y": null,
            "padding": null,
            "right": null,
            "top": null,
            "visibility": null,
            "width": null
          }
        },
        "5d543f3a10b047859fd2cfd616356387": {
          "model_module": "@jupyter-widgets/base",
          "model_name": "LayoutModel",
          "model_module_version": "1.2.0",
          "state": {
            "_model_module": "@jupyter-widgets/base",
            "_model_module_version": "1.2.0",
            "_model_name": "LayoutModel",
            "_view_count": null,
            "_view_module": "@jupyter-widgets/base",
            "_view_module_version": "1.2.0",
            "_view_name": "LayoutView",
            "align_content": null,
            "align_items": null,
            "align_self": null,
            "border": null,
            "bottom": null,
            "display": null,
            "flex": null,
            "flex_flow": null,
            "grid_area": null,
            "grid_auto_columns": null,
            "grid_auto_flow": null,
            "grid_auto_rows": null,
            "grid_column": null,
            "grid_gap": null,
            "grid_row": null,
            "grid_template_areas": null,
            "grid_template_columns": null,
            "grid_template_rows": null,
            "height": null,
            "justify_content": null,
            "justify_items": null,
            "left": null,
            "margin": null,
            "max_height": null,
            "max_width": null,
            "min_height": null,
            "min_width": null,
            "object_fit": null,
            "object_position": null,
            "order": null,
            "overflow": null,
            "overflow_x": null,
            "overflow_y": null,
            "padding": null,
            "right": null,
            "top": null,
            "visibility": null,
            "width": "150px"
          }
        },
        "57ae6226543c4d7fac3b6997bb809a38": {
          "model_module": "@jupyter-widgets/controls",
          "model_name": "ButtonStyleModel",
          "model_module_version": "1.5.0",
          "state": {
            "_model_module": "@jupyter-widgets/controls",
            "_model_module_version": "1.5.0",
            "_model_name": "ButtonStyleModel",
            "_view_count": null,
            "_view_module": "@jupyter-widgets/base",
            "_view_module_version": "1.2.0",
            "_view_name": "StyleView",
            "button_color": null,
            "font_weight": ""
          }
        },
        "d9e705842d954e058de169390af291cb": {
          "model_module": "@jupyter-widgets/base",
          "model_name": "LayoutModel",
          "model_module_version": "1.2.0",
          "state": {
            "_model_module": "@jupyter-widgets/base",
            "_model_module_version": "1.2.0",
            "_model_name": "LayoutModel",
            "_view_count": null,
            "_view_module": "@jupyter-widgets/base",
            "_view_module_version": "1.2.0",
            "_view_name": "LayoutView",
            "align_content": null,
            "align_items": null,
            "align_self": null,
            "border": null,
            "bottom": null,
            "display": null,
            "flex": null,
            "flex_flow": null,
            "grid_area": null,
            "grid_auto_columns": null,
            "grid_auto_flow": null,
            "grid_auto_rows": null,
            "grid_column": null,
            "grid_gap": null,
            "grid_row": null,
            "grid_template_areas": null,
            "grid_template_columns": null,
            "grid_template_rows": null,
            "height": null,
            "justify_content": null,
            "justify_items": null,
            "left": null,
            "margin": null,
            "max_height": null,
            "max_width": null,
            "min_height": null,
            "min_width": null,
            "object_fit": null,
            "object_position": null,
            "order": null,
            "overflow": null,
            "overflow_x": null,
            "overflow_y": null,
            "padding": null,
            "right": null,
            "top": null,
            "visibility": null,
            "width": "150px"
          }
        },
        "7a55c0d03afc407a9ba4d746e1931404": {
          "model_module": "@jupyter-widgets/controls",
          "model_name": "ButtonStyleModel",
          "model_module_version": "1.5.0",
          "state": {
            "_model_module": "@jupyter-widgets/controls",
            "_model_module_version": "1.5.0",
            "_model_name": "ButtonStyleModel",
            "_view_count": null,
            "_view_module": "@jupyter-widgets/base",
            "_view_module_version": "1.2.0",
            "_view_name": "StyleView",
            "button_color": null,
            "font_weight": ""
          }
        },
        "228567a65d2749409d967f9dce4b5ac0": {
          "model_module": "@jupyter-widgets/output",
          "model_name": "OutputModel",
          "model_module_version": "1.0.0",
          "state": {
            "_dom_classes": [],
            "_model_module": "@jupyter-widgets/output",
            "_model_module_version": "1.0.0",
            "_model_name": "OutputModel",
            "_view_count": null,
            "_view_module": "@jupyter-widgets/output",
            "_view_module_version": "1.0.0",
            "_view_name": "OutputView",
            "layout": "IPY_MODEL_4e864aa4ef7049ec9d29538ea7ff9d61",
            "msg_id": "",
            "outputs": [
              {
                "output_type": "stream",
                "name": "stdout",
                "text": [
                  "sigmoid(1)=1\n",
                  "sigmoid(3)=3\n",
                  "sigmoid(7)=7\n"
                ]
              }
            ]
          }
        },
        "4e864aa4ef7049ec9d29538ea7ff9d61": {
          "model_module": "@jupyter-widgets/base",
          "model_name": "LayoutModel",
          "model_module_version": "1.2.0",
          "state": {
            "_model_module": "@jupyter-widgets/base",
            "_model_module_version": "1.2.0",
            "_model_name": "LayoutModel",
            "_view_count": null,
            "_view_module": "@jupyter-widgets/base",
            "_view_module_version": "1.2.0",
            "_view_name": "LayoutView",
            "align_content": null,
            "align_items": null,
            "align_self": null,
            "border": null,
            "bottom": null,
            "display": null,
            "flex": null,
            "flex_flow": null,
            "grid_area": null,
            "grid_auto_columns": null,
            "grid_auto_flow": null,
            "grid_auto_rows": null,
            "grid_column": null,
            "grid_gap": null,
            "grid_row": null,
            "grid_template_areas": null,
            "grid_template_columns": null,
            "grid_template_rows": null,
            "height": null,
            "justify_content": null,
            "justify_items": null,
            "left": null,
            "margin": null,
            "max_height": null,
            "max_width": null,
            "min_height": null,
            "min_width": null,
            "object_fit": null,
            "object_position": null,
            "order": null,
            "overflow": null,
            "overflow_x": null,
            "overflow_y": null,
            "padding": null,
            "right": null,
            "top": null,
            "visibility": null,
            "width": null
          }
        },
        "e8a1b78c75a74c39a1b0d3b89d5b9d58": {
          "model_module": "@jupyter-widgets/controls",
          "model_name": "HBoxModel",
          "model_module_version": "1.5.0",
          "state": {
            "_dom_classes": [],
            "_model_module": "@jupyter-widgets/controls",
            "_model_module_version": "1.5.0",
            "_model_name": "HBoxModel",
            "_view_count": null,
            "_view_module": "@jupyter-widgets/controls",
            "_view_module_version": "1.5.0",
            "_view_name": "HBoxView",
            "box_style": "",
            "children": [
              "IPY_MODEL_ada80186c34746c5b8c71431ed209cd4",
              "IPY_MODEL_279d4ae5fadc49ceba554e9717ae84de",
              "IPY_MODEL_a09ba1eaefb14743843280eebcc4aa13",
              "IPY_MODEL_1ba90101989a46b8ac39a8f6f8e23c95"
            ],
            "layout": "IPY_MODEL_e27ea7bda66c4a859173909f6ffd3606"
          }
        },
        "ada80186c34746c5b8c71431ed209cd4": {
          "model_module": "@jupyter-widgets/controls",
          "model_name": "ButtonModel",
          "model_module_version": "1.5.0",
          "state": {
            "_dom_classes": [],
            "_model_module": "@jupyter-widgets/controls",
            "_model_module_version": "1.5.0",
            "_model_name": "ButtonModel",
            "_view_count": null,
            "_view_module": "@jupyter-widgets/controls",
            "_view_module_version": "1.5.0",
            "_view_name": "ButtonView",
            "button_style": "primary",
            "description": "Envoyer au correcteur",
            "disabled": false,
            "icon": "",
            "layout": "IPY_MODEL_f77de02b1d5b492b9ab13b7bdb5c0494",
            "style": "IPY_MODEL_183d488846e54153bd5d823193d3632f",
            "tooltip": "Envoi de la réponse (contenu de la cellule actuelle) au correcteur.\nLa réponse pourra être utilisée pour évaluation\n"
          }
        },
        "279d4ae5fadc49ceba554e9717ae84de": {
          "model_module": "@jupyter-widgets/controls",
          "model_name": "ButtonModel",
          "model_module_version": "1.5.0",
          "state": {
            "_dom_classes": [],
            "_model_module": "@jupyter-widgets/controls",
            "_model_module_version": "1.5.0",
            "_model_name": "ButtonModel",
            "_view_count": null,
            "_view_module": "@jupyter-widgets/controls",
            "_view_module_version": "1.5.0",
            "_view_name": "ButtonView",
            "button_style": "primary",
            "description": "Voir la correction",
            "disabled": false,
            "icon": "",
            "layout": "IPY_MODEL_ce56d4d56ceb49e8bd850d2bdc7b31d4",
            "style": "IPY_MODEL_75aad14a5acf4a739861e998d4e8ed4e",
            "tooltip": "Récupération de la solution du correcteur. Si la solution est disponible, \n- Elle est affichée  \n- Elle peut-etre comparée avec le code de la cellule actuelle\n"
          }
        },
        "a09ba1eaefb14743843280eebcc4aa13": {
          "model_module": "@jupyter-widgets/controls",
          "model_name": "ButtonModel",
          "model_module_version": "1.5.0",
          "state": {
            "_dom_classes": [],
            "_model_module": "@jupyter-widgets/controls",
            "_model_module_version": "1.5.0",
            "_model_name": "ButtonModel",
            "_view_count": null,
            "_view_module": "@jupyter-widgets/controls",
            "_view_module_version": "1.5.0",
            "_view_name": "ButtonView",
            "button_style": "warning",
            "description": "Publier la solution ",
            "disabled": false,
            "icon": "",
            "layout": "IPY_MODEL_f6f9b446db144e20acd32f575a3155fc",
            "style": "IPY_MODEL_46ae615eb3464ea49ac3a23664434827",
            "tooltip": "⚠️Seulement disponible à l'évaluateur⚠️.\nEnvoi de la réponse (contenu de la cellule actuelle) comme solution officielle.\nSi la fonction 'student_evaluation_function' est diponible, elle pourra être utilisée pour évaluer les étudiants.\n"
          }
        },
        "1ba90101989a46b8ac39a8f6f8e23c95": {
          "model_module": "@jupyter-widgets/controls",
          "model_name": "ButtonModel",
          "model_module_version": "1.5.0",
          "state": {
            "_dom_classes": [],
            "_model_module": "@jupyter-widgets/controls",
            "_model_module_version": "1.5.0",
            "_model_name": "ButtonModel",
            "_view_count": null,
            "_view_module": "@jupyter-widgets/controls",
            "_view_module_version": "1.5.0",
            "_view_name": "ButtonView",
            "button_style": "danger",
            "description": "Corriger les étudiants ",
            "disabled": false,
            "icon": "",
            "layout": "IPY_MODEL_f37bb93d4f8e432aa0fc069c35225aba",
            "style": "IPY_MODEL_44419ca01093414791e4853cd733e1ae",
            "tooltip": "⚠️Seulement disponible à l'évaluateur⚠️.\nUtilise le code de la fonction 'student_evaluation_function' pour évaluer tous les étudiants de la classe virtuelle.\n"
          }
        },
        "e27ea7bda66c4a859173909f6ffd3606": {
          "model_module": "@jupyter-widgets/base",
          "model_name": "LayoutModel",
          "model_module_version": "1.2.0",
          "state": {
            "_model_module": "@jupyter-widgets/base",
            "_model_module_version": "1.2.0",
            "_model_name": "LayoutModel",
            "_view_count": null,
            "_view_module": "@jupyter-widgets/base",
            "_view_module_version": "1.2.0",
            "_view_name": "LayoutView",
            "align_content": null,
            "align_items": null,
            "align_self": null,
            "border": null,
            "bottom": null,
            "display": null,
            "flex": null,
            "flex_flow": null,
            "grid_area": null,
            "grid_auto_columns": null,
            "grid_auto_flow": null,
            "grid_auto_rows": null,
            "grid_column": null,
            "grid_gap": null,
            "grid_row": null,
            "grid_template_areas": null,
            "grid_template_columns": null,
            "grid_template_rows": null,
            "height": null,
            "justify_content": null,
            "justify_items": null,
            "left": null,
            "margin": null,
            "max_height": null,
            "max_width": null,
            "min_height": null,
            "min_width": null,
            "object_fit": null,
            "object_position": null,
            "order": null,
            "overflow": null,
            "overflow_x": null,
            "overflow_y": null,
            "padding": null,
            "right": null,
            "top": null,
            "visibility": null,
            "width": null
          }
        },
        "f77de02b1d5b492b9ab13b7bdb5c0494": {
          "model_module": "@jupyter-widgets/base",
          "model_name": "LayoutModel",
          "model_module_version": "1.2.0",
          "state": {
            "_model_module": "@jupyter-widgets/base",
            "_model_module_version": "1.2.0",
            "_model_name": "LayoutModel",
            "_view_count": null,
            "_view_module": "@jupyter-widgets/base",
            "_view_module_version": "1.2.0",
            "_view_name": "LayoutView",
            "align_content": null,
            "align_items": null,
            "align_self": null,
            "border": null,
            "bottom": null,
            "display": null,
            "flex": null,
            "flex_flow": null,
            "grid_area": null,
            "grid_auto_columns": null,
            "grid_auto_flow": null,
            "grid_auto_rows": null,
            "grid_column": null,
            "grid_gap": null,
            "grid_row": null,
            "grid_template_areas": null,
            "grid_template_columns": null,
            "grid_template_rows": null,
            "height": null,
            "justify_content": null,
            "justify_items": null,
            "left": null,
            "margin": null,
            "max_height": null,
            "max_width": null,
            "min_height": null,
            "min_width": null,
            "object_fit": null,
            "object_position": null,
            "order": null,
            "overflow": null,
            "overflow_x": null,
            "overflow_y": null,
            "padding": null,
            "right": null,
            "top": null,
            "visibility": null,
            "width": "150px"
          }
        },
        "183d488846e54153bd5d823193d3632f": {
          "model_module": "@jupyter-widgets/controls",
          "model_name": "ButtonStyleModel",
          "model_module_version": "1.5.0",
          "state": {
            "_model_module": "@jupyter-widgets/controls",
            "_model_module_version": "1.5.0",
            "_model_name": "ButtonStyleModel",
            "_view_count": null,
            "_view_module": "@jupyter-widgets/base",
            "_view_module_version": "1.2.0",
            "_view_name": "StyleView",
            "button_color": null,
            "font_weight": ""
          }
        },
        "ce56d4d56ceb49e8bd850d2bdc7b31d4": {
          "model_module": "@jupyter-widgets/base",
          "model_name": "LayoutModel",
          "model_module_version": "1.2.0",
          "state": {
            "_model_module": "@jupyter-widgets/base",
            "_model_module_version": "1.2.0",
            "_model_name": "LayoutModel",
            "_view_count": null,
            "_view_module": "@jupyter-widgets/base",
            "_view_module_version": "1.2.0",
            "_view_name": "LayoutView",
            "align_content": null,
            "align_items": null,
            "align_self": null,
            "border": null,
            "bottom": null,
            "display": null,
            "flex": null,
            "flex_flow": null,
            "grid_area": null,
            "grid_auto_columns": null,
            "grid_auto_flow": null,
            "grid_auto_rows": null,
            "grid_column": null,
            "grid_gap": null,
            "grid_row": null,
            "grid_template_areas": null,
            "grid_template_columns": null,
            "grid_template_rows": null,
            "height": null,
            "justify_content": null,
            "justify_items": null,
            "left": null,
            "margin": null,
            "max_height": null,
            "max_width": null,
            "min_height": null,
            "min_width": null,
            "object_fit": null,
            "object_position": null,
            "order": null,
            "overflow": null,
            "overflow_x": null,
            "overflow_y": null,
            "padding": null,
            "right": null,
            "top": null,
            "visibility": null,
            "width": "150px"
          }
        },
        "75aad14a5acf4a739861e998d4e8ed4e": {
          "model_module": "@jupyter-widgets/controls",
          "model_name": "ButtonStyleModel",
          "model_module_version": "1.5.0",
          "state": {
            "_model_module": "@jupyter-widgets/controls",
            "_model_module_version": "1.5.0",
            "_model_name": "ButtonStyleModel",
            "_view_count": null,
            "_view_module": "@jupyter-widgets/base",
            "_view_module_version": "1.2.0",
            "_view_name": "StyleView",
            "button_color": null,
            "font_weight": ""
          }
        },
        "f6f9b446db144e20acd32f575a3155fc": {
          "model_module": "@jupyter-widgets/base",
          "model_name": "LayoutModel",
          "model_module_version": "1.2.0",
          "state": {
            "_model_module": "@jupyter-widgets/base",
            "_model_module_version": "1.2.0",
            "_model_name": "LayoutModel",
            "_view_count": null,
            "_view_module": "@jupyter-widgets/base",
            "_view_module_version": "1.2.0",
            "_view_name": "LayoutView",
            "align_content": null,
            "align_items": null,
            "align_self": null,
            "border": null,
            "bottom": null,
            "display": null,
            "flex": null,
            "flex_flow": null,
            "grid_area": null,
            "grid_auto_columns": null,
            "grid_auto_flow": null,
            "grid_auto_rows": null,
            "grid_column": null,
            "grid_gap": null,
            "grid_row": null,
            "grid_template_areas": null,
            "grid_template_columns": null,
            "grid_template_rows": null,
            "height": null,
            "justify_content": null,
            "justify_items": null,
            "left": null,
            "margin": null,
            "max_height": null,
            "max_width": null,
            "min_height": null,
            "min_width": null,
            "object_fit": null,
            "object_position": null,
            "order": null,
            "overflow": null,
            "overflow_x": null,
            "overflow_y": null,
            "padding": null,
            "right": null,
            "top": null,
            "visibility": null,
            "width": "150px"
          }
        },
        "46ae615eb3464ea49ac3a23664434827": {
          "model_module": "@jupyter-widgets/controls",
          "model_name": "ButtonStyleModel",
          "model_module_version": "1.5.0",
          "state": {
            "_model_module": "@jupyter-widgets/controls",
            "_model_module_version": "1.5.0",
            "_model_name": "ButtonStyleModel",
            "_view_count": null,
            "_view_module": "@jupyter-widgets/base",
            "_view_module_version": "1.2.0",
            "_view_name": "StyleView",
            "button_color": null,
            "font_weight": ""
          }
        },
        "f37bb93d4f8e432aa0fc069c35225aba": {
          "model_module": "@jupyter-widgets/base",
          "model_name": "LayoutModel",
          "model_module_version": "1.2.0",
          "state": {
            "_model_module": "@jupyter-widgets/base",
            "_model_module_version": "1.2.0",
            "_model_name": "LayoutModel",
            "_view_count": null,
            "_view_module": "@jupyter-widgets/base",
            "_view_module_version": "1.2.0",
            "_view_name": "LayoutView",
            "align_content": null,
            "align_items": null,
            "align_self": null,
            "border": null,
            "bottom": null,
            "display": null,
            "flex": null,
            "flex_flow": null,
            "grid_area": null,
            "grid_auto_columns": null,
            "grid_auto_flow": null,
            "grid_auto_rows": null,
            "grid_column": null,
            "grid_gap": null,
            "grid_row": null,
            "grid_template_areas": null,
            "grid_template_columns": null,
            "grid_template_rows": null,
            "height": null,
            "justify_content": null,
            "justify_items": null,
            "left": null,
            "margin": null,
            "max_height": null,
            "max_width": null,
            "min_height": null,
            "min_width": null,
            "object_fit": null,
            "object_position": null,
            "order": null,
            "overflow": null,
            "overflow_x": null,
            "overflow_y": null,
            "padding": null,
            "right": null,
            "top": null,
            "visibility": null,
            "width": "150px"
          }
        },
        "44419ca01093414791e4853cd733e1ae": {
          "model_module": "@jupyter-widgets/controls",
          "model_name": "ButtonStyleModel",
          "model_module_version": "1.5.0",
          "state": {
            "_model_module": "@jupyter-widgets/controls",
            "_model_module_version": "1.5.0",
            "_model_name": "ButtonStyleModel",
            "_view_count": null,
            "_view_module": "@jupyter-widgets/base",
            "_view_module_version": "1.2.0",
            "_view_name": "StyleView",
            "button_color": null,
            "font_weight": ""
          }
        },
        "ae6d9d83b345414798c14dbec584648e": {
          "model_module": "@jupyter-widgets/output",
          "model_name": "OutputModel",
          "model_module_version": "1.0.0",
          "state": {
            "_dom_classes": [
              "<style>\n            .sol_background {background-color:#f7d1d1}\n            .cell_background {background-color:#F7F7F7}\n            .cell_border {background-color:#CFCFCF}\n\nbuttonb {\n   border: none;\n   color: red;\n   font-weight: bolder;\n   padding: 20px;\n   font-size: 18px;\n   cursor: pointer;\n   border-radius: 6px;\n}\n.button3 {background-color:#eaeaea}\n.button1 {background-color:#eaeaea ; color:red ; font-size:100% ; border: 1px solid #eaeaea}\n.button2 {background-color:#eaeaea ; color:red}\n        </style>\n    "
            ],
            "_model_module": "@jupyter-widgets/output",
            "_model_module_version": "1.0.0",
            "_model_name": "OutputModel",
            "_view_count": null,
            "_view_module": "@jupyter-widgets/output",
            "_view_module_version": "1.0.0",
            "_view_name": "OutputView",
            "layout": "IPY_MODEL_797d8a62f4ed4122b34985b8e5a91516",
            "msg_id": "",
            "outputs": [
              {
                "output_type": "display_data",
                "data": {
                  "text/plain": "HTML(value='<style>\\n            .sol_background {background-color:#f7d1d1}\\n            .cell_background {bac…",
                  "application/vnd.jupyter.widget-view+json": {
                    "version_major": 2,
                    "version_minor": 0,
                    "model_id": "4074636f6ea84a00896aa7346e353274"
                  }
                },
                "metadata": {}
              },
              {
                "output_type": "stream",
                "name": "stdout",
                "text": [
                  "\u001b[35m\u001b[1mPour my_first_exercice/luke.skywalker@jedi.com, mise à jour de la note de 0.0 à 0.0 (2023-07-06 16:43:36)\u001b[m"
                ]
              },
              {
                "output_type": "stream",
                "name": "stdout",
                "text": [
                  "\n"
                ]
              },
              {
                "output_type": "stream",
                "name": "stdout",
                "text": [
                  "\u001b[35m\u001b[1mPour my_first_exercice/solution, mise à jour de la note de 10.0 à 10.0 (2023-07-06 16:43:36)\u001b[m"
                ]
              },
              {
                "output_type": "stream",
                "name": "stdout",
                "text": [
                  "\n"
                ]
              },
              {
                "output_type": "stream",
                "name": "stdout",
                "text": [
                  "\u001b[35m\u001b[1mPour my_first_exercice/yoda@jedi.com, mise à jour de la note de 10.0 à 10.0 (2023-07-06 16:43:37)\u001b[m"
                ]
              },
              {
                "output_type": "stream",
                "name": "stdout",
                "text": [
                  "\n"
                ]
              },
              {
                "output_type": "display_data",
                "data": {
                  "text/plain": "<pandas.io.formats.style.Styler at 0x7f20dd735510>",
                  "text/html": "<style type=\"text/css\">\n#T_9b816_row0_col2 {\n  background-color: #000000;\n  color: #f1f1f1;\n  color: #FF3B52;\n  background-color: #FF3B52;\n  opacity: 20%;\n  opacity: 70%;\n}\n#T_9b816_row1_col2 {\n  background-color: #67001f;\n  color: #f1f1f1;\n  opacity: 70%;\n}\n#T_9b816_row2_col2, #T_9b816_row3_col2 {\n  background-color: #053061;\n  color: #f1f1f1;\n  opacity: 70%;\n}\n</style>\n<table id=\"T_9b816\" class=\"dataframe\">\n  <thead>\n    <tr>\n      <th id=\"T_9b816_level0_col0\" class=\"col_heading level0 col0\" >nom</th>\n      <th id=\"T_9b816_level0_col1\" class=\"col_heading level0 col1\" >prenom</th>\n      <th id=\"T_9b816_level0_col2\" class=\"col_heading level0 col2\" >my_first_exercice</th>\n    </tr>\n  </thead>\n  <tbody>\n    <tr>\n      <td id=\"T_9b816_row0_col0\" class=\"data row0 col0\" >Kenobi</td>\n      <td id=\"T_9b816_row0_col1\" class=\"data row0 col1\" >Obiwan</td>\n      <td id=\"T_9b816_row0_col2\" class=\"data row0 col2\" >nan</td>\n    </tr>\n    <tr>\n      <td id=\"T_9b816_row1_col0\" class=\"data row1 col0\" >Skywalker</td>\n      <td id=\"T_9b816_row1_col1\" class=\"data row1 col1\" >Luke</td>\n      <td id=\"T_9b816_row1_col2\" class=\"data row1 col2\" >0.0</td>\n    </tr>\n    <tr>\n      <td id=\"T_9b816_row2_col0\" class=\"data row2 col0\" >Ution</td>\n      <td id=\"T_9b816_row2_col1\" class=\"data row2 col1\" >Sol</td>\n      <td id=\"T_9b816_row2_col2\" class=\"data row2 col2\" >10.0</td>\n    </tr>\n    <tr>\n      <td id=\"T_9b816_row3_col0\" class=\"data row3 col0\" >None</td>\n      <td id=\"T_9b816_row3_col1\" class=\"data row3 col1\" >Yoda</td>\n      <td id=\"T_9b816_row3_col2\" class=\"data row3 col2\" >10.0</td>\n    </tr>\n  </tbody>\n</table>\n"
                },
                "metadata": {}
              }
            ]
          }
        },
        "797d8a62f4ed4122b34985b8e5a91516": {
          "model_module": "@jupyter-widgets/base",
          "model_name": "LayoutModel",
          "model_module_version": "1.2.0",
          "state": {
            "_model_module": "@jupyter-widgets/base",
            "_model_module_version": "1.2.0",
            "_model_name": "LayoutModel",
            "_view_count": null,
            "_view_module": "@jupyter-widgets/base",
            "_view_module_version": "1.2.0",
            "_view_name": "LayoutView",
            "align_content": null,
            "align_items": null,
            "align_self": null,
            "border": null,
            "bottom": null,
            "display": null,
            "flex": null,
            "flex_flow": null,
            "grid_area": null,
            "grid_auto_columns": null,
            "grid_auto_flow": null,
            "grid_auto_rows": null,
            "grid_column": null,
            "grid_gap": null,
            "grid_row": null,
            "grid_template_areas": null,
            "grid_template_columns": null,
            "grid_template_rows": null,
            "height": null,
            "justify_content": null,
            "justify_items": null,
            "left": null,
            "margin": null,
            "max_height": null,
            "max_width": null,
            "min_height": null,
            "min_width": null,
            "object_fit": null,
            "object_position": null,
            "order": null,
            "overflow": null,
            "overflow_x": null,
            "overflow_y": null,
            "padding": null,
            "right": null,
            "top": null,
            "visibility": null,
            "width": null
          }
        },
        "4074636f6ea84a00896aa7346e353274": {
          "model_module": "@jupyter-widgets/controls",
          "model_name": "HTMLModel",
          "model_module_version": "1.5.0",
          "state": {
            "_dom_classes": [],
            "_model_module": "@jupyter-widgets/controls",
            "_model_module_version": "1.5.0",
            "_model_name": "HTMLModel",
            "_view_count": null,
            "_view_module": "@jupyter-widgets/controls",
            "_view_module_version": "1.5.0",
            "_view_name": "HTMLView",
            "description": "",
            "description_tooltip": null,
            "layout": "IPY_MODEL_eb5401021d124ceab5411d7aef6aba8b",
            "placeholder": "​",
            "style": "IPY_MODEL_9c83a604e576451d8b27957436fbdb40",
            "value": "<style>\n            .sol_background {background-color:#f7d1d1}\n            .cell_background {background-color:#F7F7F7}\n            .cell_border {background-color:#CFCFCF}\n\nbuttonb {\n   border: none;\n   color: red;\n   font-weight: bolder;\n   padding: 20px;\n   font-size: 18px;\n   cursor: pointer;\n   border-radius: 6px;\n}\n.button3 {background-color:#eaeaea}\n.button1 {background-color:#eaeaea ; color:red ; font-size:100% ; border: 1px solid #eaeaea}\n.button2 {background-color:#eaeaea ; color:red}\n        </style>\n    "
          }
        },
        "eb5401021d124ceab5411d7aef6aba8b": {
          "model_module": "@jupyter-widgets/base",
          "model_name": "LayoutModel",
          "model_module_version": "1.2.0",
          "state": {
            "_model_module": "@jupyter-widgets/base",
            "_model_module_version": "1.2.0",
            "_model_name": "LayoutModel",
            "_view_count": null,
            "_view_module": "@jupyter-widgets/base",
            "_view_module_version": "1.2.0",
            "_view_name": "LayoutView",
            "align_content": null,
            "align_items": null,
            "align_self": null,
            "border": null,
            "bottom": null,
            "display": null,
            "flex": null,
            "flex_flow": null,
            "grid_area": null,
            "grid_auto_columns": null,
            "grid_auto_flow": null,
            "grid_auto_rows": null,
            "grid_column": null,
            "grid_gap": null,
            "grid_row": null,
            "grid_template_areas": null,
            "grid_template_columns": null,
            "grid_template_rows": null,
            "height": null,
            "justify_content": null,
            "justify_items": null,
            "left": null,
            "margin": null,
            "max_height": null,
            "max_width": null,
            "min_height": null,
            "min_width": null,
            "object_fit": null,
            "object_position": null,
            "order": null,
            "overflow": null,
            "overflow_x": null,
            "overflow_y": null,
            "padding": null,
            "right": null,
            "top": null,
            "visibility": null,
            "width": null
          }
        },
        "9c83a604e576451d8b27957436fbdb40": {
          "model_module": "@jupyter-widgets/controls",
          "model_name": "DescriptionStyleModel",
          "model_module_version": "1.5.0",
          "state": {
            "_model_module": "@jupyter-widgets/controls",
            "_model_module_version": "1.5.0",
            "_model_name": "DescriptionStyleModel",
            "_view_count": null,
            "_view_module": "@jupyter-widgets/base",
            "_view_module_version": "1.2.0",
            "_view_name": "StyleView",
            "description_width": ""
          }
        }
      }
    }
  },
  "nbformat": 4,
  "nbformat_minor": 0
}