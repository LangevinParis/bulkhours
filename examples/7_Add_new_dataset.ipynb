{
  "nbformat": 4,
  "nbformat_minor": 0,
  "metadata": {
    "colab": {
      "provenance": [],
      "toc_visible": true
    },
    "kernelspec": {
      "name": "python3",
      "display_name": "Python 3"
    },
    "gpuClass": "standard",
    "widgets": {
      "application/vnd.jupyter.widget-state+json": {
        "25c67cf945d34326b0bfea48bc532e0c": {
          "model_module": "@jupyter-widgets/controls",
          "model_name": "HBoxModel",
          "model_module_version": "1.5.0",
          "state": {
            "_dom_classes": [],
            "_model_module": "@jupyter-widgets/controls",
            "_model_module_version": "1.5.0",
            "_model_name": "HBoxModel",
            "_view_count": null,
            "_view_module": "@jupyter-widgets/controls",
            "_view_module_version": "1.5.0",
            "_view_name": "HBoxView",
            "box_style": "",
            "children": [
              "IPY_MODEL_12e3e803df0447559e567708dcfa9a75",
              "IPY_MODEL_40b17c06e0704abea67898f0616e0795",
              "IPY_MODEL_10c8b756e4d146258ee06a728abe0d1e",
              "IPY_MODEL_b43cc54aae5245089bf64b94f3a9c908"
            ],
            "layout": "IPY_MODEL_41bbd3ce5f3b461c90e2b5c5c49300e1"
          }
        },
        "12e3e803df0447559e567708dcfa9a75": {
          "model_module": "@jupyter-widgets/controls",
          "model_name": "ButtonModel",
          "model_module_version": "1.5.0",
          "state": {
            "_dom_classes": [],
            "_model_module": "@jupyter-widgets/controls",
            "_model_module_version": "1.5.0",
            "_model_name": "ButtonModel",
            "_view_count": null,
            "_view_module": "@jupyter-widgets/controls",
            "_view_module_version": "1.5.0",
            "_view_name": "ButtonView",
            "button_style": "primary",
            "description": "Envoyer au correcteur",
            "disabled": false,
            "icon": "",
            "layout": "IPY_MODEL_4c65573b6fa2414aaaaa6488592b2301",
            "style": "IPY_MODEL_eadcfc23e3fc49a28eab0579dae20572",
            "tooltip": "Envoi de la réponse (contenu de la cellule actuelle) au correcteur.\nLa réponse pourra être utilisée pour évaluation\n"
          }
        },
        "40b17c06e0704abea67898f0616e0795": {
          "model_module": "@jupyter-widgets/controls",
          "model_name": "ButtonModel",
          "model_module_version": "1.5.0",
          "state": {
            "_dom_classes": [],
            "_model_module": "@jupyter-widgets/controls",
            "_model_module_version": "1.5.0",
            "_model_name": "ButtonModel",
            "_view_count": null,
            "_view_module": "@jupyter-widgets/controls",
            "_view_module_version": "1.5.0",
            "_view_name": "ButtonView",
            "button_style": "primary",
            "description": "Voir la correction",
            "disabled": false,
            "icon": "",
            "layout": "IPY_MODEL_ca8ccc156b264b22b5fc1f902177055d",
            "style": "IPY_MODEL_e51e5e36d7094071ba6b4fb0e8de0738",
            "tooltip": "Récupération de la solution du correcteur. Si la solution est disponible, \n- Elle est affichée  \n- Elle peut-etre comparée avec le code de la cellule actuelle\n"
          }
        },
        "10c8b756e4d146258ee06a728abe0d1e": {
          "model_module": "@jupyter-widgets/controls",
          "model_name": "ButtonModel",
          "model_module_version": "1.5.0",
          "state": {
            "_dom_classes": [],
            "_model_module": "@jupyter-widgets/controls",
            "_model_module_version": "1.5.0",
            "_model_name": "ButtonModel",
            "_view_count": null,
            "_view_module": "@jupyter-widgets/controls",
            "_view_module_version": "1.5.0",
            "_view_name": "ButtonView",
            "button_style": "warning",
            "description": "Publier la solution ",
            "disabled": false,
            "icon": "",
            "layout": "IPY_MODEL_c9c32dbfa55c4b79ae4291fb02b82721",
            "style": "IPY_MODEL_6cc07558dabe4e378c0652fbebfde702",
            "tooltip": "⚠️Seulement disponible à l'évaluateur⚠️.\nEnvoi de la réponse (contenu de la cellule actuelle) comme solution officielle.\nSi la fonction 'student_evaluation_function' est diponible, elle pourra être utilisée pour évaluer les étudiants.\n"
          }
        },
        "b43cc54aae5245089bf64b94f3a9c908": {
          "model_module": "@jupyter-widgets/controls",
          "model_name": "ButtonModel",
          "model_module_version": "1.5.0",
          "state": {
            "_dom_classes": [],
            "_model_module": "@jupyter-widgets/controls",
            "_model_module_version": "1.5.0",
            "_model_name": "ButtonModel",
            "_view_count": null,
            "_view_module": "@jupyter-widgets/controls",
            "_view_module_version": "1.5.0",
            "_view_name": "ButtonView",
            "button_style": "danger",
            "description": "Corriger les étudiants ",
            "disabled": false,
            "icon": "",
            "layout": "IPY_MODEL_064506822f724a5c878e1e92ffee63fb",
            "style": "IPY_MODEL_a5293894d3f043bbbf4182c44b910958",
            "tooltip": "⚠️Seulement disponible à l'évaluateur⚠️.\nUtilise le code de la fonction 'student_evaluation_function' pour évaluer tous les étudiants de la classe virtuelle.\n"
          }
        },
        "41bbd3ce5f3b461c90e2b5c5c49300e1": {
          "model_module": "@jupyter-widgets/base",
          "model_name": "LayoutModel",
          "model_module_version": "1.2.0",
          "state": {
            "_model_module": "@jupyter-widgets/base",
            "_model_module_version": "1.2.0",
            "_model_name": "LayoutModel",
            "_view_count": null,
            "_view_module": "@jupyter-widgets/base",
            "_view_module_version": "1.2.0",
            "_view_name": "LayoutView",
            "align_content": null,
            "align_items": null,
            "align_self": null,
            "border": null,
            "bottom": null,
            "display": null,
            "flex": null,
            "flex_flow": null,
            "grid_area": null,
            "grid_auto_columns": null,
            "grid_auto_flow": null,
            "grid_auto_rows": null,
            "grid_column": null,
            "grid_gap": null,
            "grid_row": null,
            "grid_template_areas": null,
            "grid_template_columns": null,
            "grid_template_rows": null,
            "height": null,
            "justify_content": null,
            "justify_items": null,
            "left": null,
            "margin": null,
            "max_height": null,
            "max_width": null,
            "min_height": null,
            "min_width": null,
            "object_fit": null,
            "object_position": null,
            "order": null,
            "overflow": null,
            "overflow_x": null,
            "overflow_y": null,
            "padding": null,
            "right": null,
            "top": null,
            "visibility": null,
            "width": null
          }
        },
        "4c65573b6fa2414aaaaa6488592b2301": {
          "model_module": "@jupyter-widgets/base",
          "model_name": "LayoutModel",
          "model_module_version": "1.2.0",
          "state": {
            "_model_module": "@jupyter-widgets/base",
            "_model_module_version": "1.2.0",
            "_model_name": "LayoutModel",
            "_view_count": null,
            "_view_module": "@jupyter-widgets/base",
            "_view_module_version": "1.2.0",
            "_view_name": "LayoutView",
            "align_content": null,
            "align_items": null,
            "align_self": null,
            "border": null,
            "bottom": null,
            "display": null,
            "flex": null,
            "flex_flow": null,
            "grid_area": null,
            "grid_auto_columns": null,
            "grid_auto_flow": null,
            "grid_auto_rows": null,
            "grid_column": null,
            "grid_gap": null,
            "grid_row": null,
            "grid_template_areas": null,
            "grid_template_columns": null,
            "grid_template_rows": null,
            "height": null,
            "justify_content": null,
            "justify_items": null,
            "left": null,
            "margin": null,
            "max_height": null,
            "max_width": null,
            "min_height": null,
            "min_width": null,
            "object_fit": null,
            "object_position": null,
            "order": null,
            "overflow": null,
            "overflow_x": null,
            "overflow_y": null,
            "padding": null,
            "right": null,
            "top": null,
            "visibility": null,
            "width": "150px"
          }
        },
        "eadcfc23e3fc49a28eab0579dae20572": {
          "model_module": "@jupyter-widgets/controls",
          "model_name": "ButtonStyleModel",
          "model_module_version": "1.5.0",
          "state": {
            "_model_module": "@jupyter-widgets/controls",
            "_model_module_version": "1.5.0",
            "_model_name": "ButtonStyleModel",
            "_view_count": null,
            "_view_module": "@jupyter-widgets/base",
            "_view_module_version": "1.2.0",
            "_view_name": "StyleView",
            "button_color": null,
            "font_weight": ""
          }
        },
        "ca8ccc156b264b22b5fc1f902177055d": {
          "model_module": "@jupyter-widgets/base",
          "model_name": "LayoutModel",
          "model_module_version": "1.2.0",
          "state": {
            "_model_module": "@jupyter-widgets/base",
            "_model_module_version": "1.2.0",
            "_model_name": "LayoutModel",
            "_view_count": null,
            "_view_module": "@jupyter-widgets/base",
            "_view_module_version": "1.2.0",
            "_view_name": "LayoutView",
            "align_content": null,
            "align_items": null,
            "align_self": null,
            "border": null,
            "bottom": null,
            "display": null,
            "flex": null,
            "flex_flow": null,
            "grid_area": null,
            "grid_auto_columns": null,
            "grid_auto_flow": null,
            "grid_auto_rows": null,
            "grid_column": null,
            "grid_gap": null,
            "grid_row": null,
            "grid_template_areas": null,
            "grid_template_columns": null,
            "grid_template_rows": null,
            "height": null,
            "justify_content": null,
            "justify_items": null,
            "left": null,
            "margin": null,
            "max_height": null,
            "max_width": null,
            "min_height": null,
            "min_width": null,
            "object_fit": null,
            "object_position": null,
            "order": null,
            "overflow": null,
            "overflow_x": null,
            "overflow_y": null,
            "padding": null,
            "right": null,
            "top": null,
            "visibility": null,
            "width": "150px"
          }
        },
        "e51e5e36d7094071ba6b4fb0e8de0738": {
          "model_module": "@jupyter-widgets/controls",
          "model_name": "ButtonStyleModel",
          "model_module_version": "1.5.0",
          "state": {
            "_model_module": "@jupyter-widgets/controls",
            "_model_module_version": "1.5.0",
            "_model_name": "ButtonStyleModel",
            "_view_count": null,
            "_view_module": "@jupyter-widgets/base",
            "_view_module_version": "1.2.0",
            "_view_name": "StyleView",
            "button_color": null,
            "font_weight": ""
          }
        },
        "c9c32dbfa55c4b79ae4291fb02b82721": {
          "model_module": "@jupyter-widgets/base",
          "model_name": "LayoutModel",
          "model_module_version": "1.2.0",
          "state": {
            "_model_module": "@jupyter-widgets/base",
            "_model_module_version": "1.2.0",
            "_model_name": "LayoutModel",
            "_view_count": null,
            "_view_module": "@jupyter-widgets/base",
            "_view_module_version": "1.2.0",
            "_view_name": "LayoutView",
            "align_content": null,
            "align_items": null,
            "align_self": null,
            "border": null,
            "bottom": null,
            "display": null,
            "flex": null,
            "flex_flow": null,
            "grid_area": null,
            "grid_auto_columns": null,
            "grid_auto_flow": null,
            "grid_auto_rows": null,
            "grid_column": null,
            "grid_gap": null,
            "grid_row": null,
            "grid_template_areas": null,
            "grid_template_columns": null,
            "grid_template_rows": null,
            "height": null,
            "justify_content": null,
            "justify_items": null,
            "left": null,
            "margin": null,
            "max_height": null,
            "max_width": null,
            "min_height": null,
            "min_width": null,
            "object_fit": null,
            "object_position": null,
            "order": null,
            "overflow": null,
            "overflow_x": null,
            "overflow_y": null,
            "padding": null,
            "right": null,
            "top": null,
            "visibility": null,
            "width": "150px"
          }
        },
        "6cc07558dabe4e378c0652fbebfde702": {
          "model_module": "@jupyter-widgets/controls",
          "model_name": "ButtonStyleModel",
          "model_module_version": "1.5.0",
          "state": {
            "_model_module": "@jupyter-widgets/controls",
            "_model_module_version": "1.5.0",
            "_model_name": "ButtonStyleModel",
            "_view_count": null,
            "_view_module": "@jupyter-widgets/base",
            "_view_module_version": "1.2.0",
            "_view_name": "StyleView",
            "button_color": null,
            "font_weight": ""
          }
        },
        "064506822f724a5c878e1e92ffee63fb": {
          "model_module": "@jupyter-widgets/base",
          "model_name": "LayoutModel",
          "model_module_version": "1.2.0",
          "state": {
            "_model_module": "@jupyter-widgets/base",
            "_model_module_version": "1.2.0",
            "_model_name": "LayoutModel",
            "_view_count": null,
            "_view_module": "@jupyter-widgets/base",
            "_view_module_version": "1.2.0",
            "_view_name": "LayoutView",
            "align_content": null,
            "align_items": null,
            "align_self": null,
            "border": null,
            "bottom": null,
            "display": null,
            "flex": null,
            "flex_flow": null,
            "grid_area": null,
            "grid_auto_columns": null,
            "grid_auto_flow": null,
            "grid_auto_rows": null,
            "grid_column": null,
            "grid_gap": null,
            "grid_row": null,
            "grid_template_areas": null,
            "grid_template_columns": null,
            "grid_template_rows": null,
            "height": null,
            "justify_content": null,
            "justify_items": null,
            "left": null,
            "margin": null,
            "max_height": null,
            "max_width": null,
            "min_height": null,
            "min_width": null,
            "object_fit": null,
            "object_position": null,
            "order": null,
            "overflow": null,
            "overflow_x": null,
            "overflow_y": null,
            "padding": null,
            "right": null,
            "top": null,
            "visibility": null,
            "width": "150px"
          }
        },
        "a5293894d3f043bbbf4182c44b910958": {
          "model_module": "@jupyter-widgets/controls",
          "model_name": "ButtonStyleModel",
          "model_module_version": "1.5.0",
          "state": {
            "_model_module": "@jupyter-widgets/controls",
            "_model_module_version": "1.5.0",
            "_model_name": "ButtonStyleModel",
            "_view_count": null,
            "_view_module": "@jupyter-widgets/base",
            "_view_module_version": "1.2.0",
            "_view_name": "StyleView",
            "button_color": null,
            "font_weight": ""
          }
        },
        "20c1ff0e95d943919f4ce7d6e7e7ddef": {
          "model_module": "@jupyter-widgets/output",
          "model_name": "OutputModel",
          "model_module_version": "1.0.0",
          "state": {
            "_dom_classes": [],
            "_model_module": "@jupyter-widgets/output",
            "_model_module_version": "1.0.0",
            "_model_name": "OutputModel",
            "_view_count": null,
            "_view_module": "@jupyter-widgets/output",
            "_view_module_version": "1.0.0",
            "_view_name": "OutputView",
            "layout": "IPY_MODEL_138de3b8fc7849f7b27cc2bdd0293cae",
            "msg_id": "",
            "outputs": [
              {
                "output_type": "display_data",
                "data": {
                  "text/plain": "<IPython.core.display.Markdown object>",
                  "text/markdown": "<font size='+1'>Equilibre thermique: $(1-A)\\frac{ L_\\odot R^2}{4 d^2} \\equiv (1-S) 4 \\pi R^2 \\sigma T^4$</font>"
                },
                "metadata": {}
              },
              {
                "output_type": "display_data",
                "data": {
                  "text/plain": "<IPython.core.display.Markdown object>",
                  "text/markdown": "<font size='+1'>Forcage radiatif: $F = S\\cdot \\sigma \\cdot T^4$</font>"
                },
                "metadata": {}
              },
              {
                "output_type": "display_data",
                "data": {
                  "text/plain": "         Albedo   d_ua    T_C  T_C/no atmo.  Effet de serre  \\\nmercure   0.088  0.381  167.0         167.0           0.000   \nvenus     0.770  0.720  464.0         -46.0           0.991   \nterre     0.300  1.000   15.0         -19.0           0.394   \nmars      0.250  1.520  -62.8         -63.0           0.010   \n\n         Forcage radiatif (W/m2)  \nmercure                    0.000  \nvenus                  16592.387  \nterre                    154.022  \nmars                       1.110  ",
                  "text/html": "\n  <div id=\"df-57f29ae1-6645-44fa-9031-f5c78716c460\">\n    <div class=\"colab-df-container\">\n      <div>\n<style scoped>\n    .dataframe tbody tr th:only-of-type {\n        vertical-align: middle;\n    }\n\n    .dataframe tbody tr th {\n        vertical-align: top;\n    }\n\n    .dataframe thead th {\n        text-align: right;\n    }\n</style>\n<table border=\"1\" class=\"dataframe\">\n  <thead>\n    <tr style=\"text-align: right;\">\n      <th></th>\n      <th>Albedo</th>\n      <th>d_ua</th>\n      <th>T_C</th>\n      <th>T_C/no atmo.</th>\n      <th>Effet de serre</th>\n      <th>Forcage radiatif (W/m2)</th>\n    </tr>\n  </thead>\n  <tbody>\n    <tr>\n      <th>mercure</th>\n      <td>0.088</td>\n      <td>0.381</td>\n      <td>167.0</td>\n      <td>167.0</td>\n      <td>0.000</td>\n      <td>0.000</td>\n    </tr>\n    <tr>\n      <th>venus</th>\n      <td>0.770</td>\n      <td>0.720</td>\n      <td>464.0</td>\n      <td>-46.0</td>\n      <td>0.991</td>\n      <td>16592.387</td>\n    </tr>\n    <tr>\n      <th>terre</th>\n      <td>0.300</td>\n      <td>1.000</td>\n      <td>15.0</td>\n      <td>-19.0</td>\n      <td>0.394</td>\n      <td>154.022</td>\n    </tr>\n    <tr>\n      <th>mars</th>\n      <td>0.250</td>\n      <td>1.520</td>\n      <td>-62.8</td>\n      <td>-63.0</td>\n      <td>0.010</td>\n      <td>1.110</td>\n    </tr>\n  </tbody>\n</table>\n</div>\n      <button class=\"colab-df-convert\" onclick=\"convertToInteractive('df-57f29ae1-6645-44fa-9031-f5c78716c460')\"\n              title=\"Convert this dataframe to an interactive table.\"\n              style=\"display:none;\">\n        \n  <svg xmlns=\"http://www.w3.org/2000/svg\" height=\"24px\"viewBox=\"0 0 24 24\"\n       width=\"24px\">\n    <path d=\"M0 0h24v24H0V0z\" fill=\"none\"/>\n    <path d=\"M18.56 5.44l.94 2.06.94-2.06 2.06-.94-2.06-.94-.94-2.06-.94 2.06-2.06.94zm-11 1L8.5 8.5l.94-2.06 2.06-.94-2.06-.94L8.5 2.5l-.94 2.06-2.06.94zm10 10l.94 2.06.94-2.06 2.06-.94-2.06-.94-.94-2.06-.94 2.06-2.06.94z\"/><path d=\"M17.41 7.96l-1.37-1.37c-.4-.4-.92-.59-1.43-.59-.52 0-1.04.2-1.43.59L10.3 9.45l-7.72 7.72c-.78.78-.78 2.05 0 2.83L4 21.41c.39.39.9.59 1.41.59.51 0 1.02-.2 1.41-.59l7.78-7.78 2.81-2.81c.8-.78.8-2.07 0-2.86zM5.41 20L4 18.59l7.72-7.72 1.47 1.35L5.41 20z\"/>\n  </svg>\n      </button>\n      \n  <style>\n    .colab-df-container {\n      display:flex;\n      flex-wrap:wrap;\n      gap: 12px;\n    }\n\n    .colab-df-convert {\n      background-color: #E8F0FE;\n      border: none;\n      border-radius: 50%;\n      cursor: pointer;\n      display: none;\n      fill: #1967D2;\n      height: 32px;\n      padding: 0 0 0 0;\n      width: 32px;\n    }\n\n    .colab-df-convert:hover {\n      background-color: #E2EBFA;\n      box-shadow: 0px 1px 2px rgba(60, 64, 67, 0.3), 0px 1px 3px 1px rgba(60, 64, 67, 0.15);\n      fill: #174EA6;\n    }\n\n    [theme=dark] .colab-df-convert {\n      background-color: #3B4455;\n      fill: #D2E3FC;\n    }\n\n    [theme=dark] .colab-df-convert:hover {\n      background-color: #434B5C;\n      box-shadow: 0px 1px 3px 1px rgba(0, 0, 0, 0.15);\n      filter: drop-shadow(0px 1px 2px rgba(0, 0, 0, 0.3));\n      fill: #FFFFFF;\n    }\n  </style>\n\n      <script>\n        const buttonEl =\n          document.querySelector('#df-57f29ae1-6645-44fa-9031-f5c78716c460 button.colab-df-convert');\n        buttonEl.style.display =\n          google.colab.kernel.accessAllowed ? 'block' : 'none';\n\n        async function convertToInteractive(key) {\n          const element = document.querySelector('#df-57f29ae1-6645-44fa-9031-f5c78716c460');\n          const dataTable =\n            await google.colab.kernel.invokeFunction('convertToInteractive',\n                                                     [key], {});\n          if (!dataTable) return;\n\n          const docLinkHtml = 'Like what you see? Visit the ' +\n            '<a target=\"_blank\" href=https://colab.research.google.com/notebooks/data_table.ipynb>data table notebook</a>'\n            + ' to learn more about interactive tables.';\n          element.innerHTML = '';\n          dataTable['output_type'] = 'display_data';\n          await google.colab.output.renderOutput(dataTable, element);\n          const docLink = document.createElement('div');\n          docLink.innerHTML = docLinkHtml;\n          element.appendChild(docLink);\n        }\n      </script>\n    </div>\n  </div>\n  "
                },
                "metadata": {}
              }
            ]
          }
        },
        "138de3b8fc7849f7b27cc2bdd0293cae": {
          "model_module": "@jupyter-widgets/base",
          "model_name": "LayoutModel",
          "model_module_version": "1.2.0",
          "state": {
            "_model_module": "@jupyter-widgets/base",
            "_model_module_version": "1.2.0",
            "_model_name": "LayoutModel",
            "_view_count": null,
            "_view_module": "@jupyter-widgets/base",
            "_view_module_version": "1.2.0",
            "_view_name": "LayoutView",
            "align_content": null,
            "align_items": null,
            "align_self": null,
            "border": null,
            "bottom": null,
            "display": null,
            "flex": null,
            "flex_flow": null,
            "grid_area": null,
            "grid_auto_columns": null,
            "grid_auto_flow": null,
            "grid_auto_rows": null,
            "grid_column": null,
            "grid_gap": null,
            "grid_row": null,
            "grid_template_areas": null,
            "grid_template_columns": null,
            "grid_template_rows": null,
            "height": null,
            "justify_content": null,
            "justify_items": null,
            "left": null,
            "margin": null,
            "max_height": null,
            "max_width": null,
            "min_height": null,
            "min_width": null,
            "object_fit": null,
            "object_position": null,
            "order": null,
            "overflow": null,
            "overflow_x": null,
            "overflow_y": null,
            "padding": null,
            "right": null,
            "top": null,
            "visibility": null,
            "width": null
          }
        },
        "8f74b8a34b2a4768bc128975604b75fe": {
          "model_module": "@jupyter-widgets/controls",
          "model_name": "HBoxModel",
          "model_module_version": "1.5.0",
          "state": {
            "_dom_classes": [],
            "_model_module": "@jupyter-widgets/controls",
            "_model_module_version": "1.5.0",
            "_model_name": "HBoxModel",
            "_view_count": null,
            "_view_module": "@jupyter-widgets/controls",
            "_view_module_version": "1.5.0",
            "_view_name": "HBoxView",
            "box_style": "",
            "children": [
              "IPY_MODEL_8bde0fe401ea4b519b99a39ab2bb8ea9",
              "IPY_MODEL_baabec1610d940df9c155db49040a474",
              "IPY_MODEL_3d278ccaeaf14641b82c3b15487d0721"
            ],
            "layout": "IPY_MODEL_4c42ccb3f40d422b8d29ab988a5a535c"
          }
        },
        "8bde0fe401ea4b519b99a39ab2bb8ea9": {
          "model_module": "@jupyter-widgets/controls",
          "model_name": "ButtonModel",
          "model_module_version": "1.5.0",
          "state": {
            "_dom_classes": [],
            "_model_module": "@jupyter-widgets/controls",
            "_model_module_version": "1.5.0",
            "_model_name": "ButtonModel",
            "_view_count": null,
            "_view_module": "@jupyter-widgets/controls",
            "_view_module_version": "1.5.0",
            "_view_name": "ButtonView",
            "button_style": "primary",
            "description": "Envoyer au correcteur",
            "disabled": false,
            "icon": "",
            "layout": "IPY_MODEL_1a13bdc394d046bd8ffc71451077e6d4",
            "style": "IPY_MODEL_0d082df395c64b798f7da5e4421687c5",
            "tooltip": "Envoi de la réponse (contenu de la cellule actuelle) au correcteur.\nLa réponse pourra être utilisée pour évaluation\n"
          }
        },
        "baabec1610d940df9c155db49040a474": {
          "model_module": "@jupyter-widgets/controls",
          "model_name": "ButtonModel",
          "model_module_version": "1.5.0",
          "state": {
            "_dom_classes": [],
            "_model_module": "@jupyter-widgets/controls",
            "_model_module_version": "1.5.0",
            "_model_name": "ButtonModel",
            "_view_count": null,
            "_view_module": "@jupyter-widgets/controls",
            "_view_module_version": "1.5.0",
            "_view_name": "ButtonView",
            "button_style": "primary",
            "description": "Voir la correction",
            "disabled": false,
            "icon": "",
            "layout": "IPY_MODEL_168460c615674eff8ea0b95538c4e719",
            "style": "IPY_MODEL_d510e44a1c6d49f2807a3d8cd833c775",
            "tooltip": "Récupération de la solution du correcteur. Si la solution est disponible, \n- Elle est affichée  \n- Elle peut-etre comparée avec le code de la cellule actuelle\n"
          }
        },
        "3d278ccaeaf14641b82c3b15487d0721": {
          "model_module": "@jupyter-widgets/controls",
          "model_name": "ButtonModel",
          "model_module_version": "1.5.0",
          "state": {
            "_dom_classes": [],
            "_model_module": "@jupyter-widgets/controls",
            "_model_module_version": "1.5.0",
            "_model_name": "ButtonModel",
            "_view_count": null,
            "_view_module": "@jupyter-widgets/controls",
            "_view_module_version": "1.5.0",
            "_view_name": "ButtonView",
            "button_style": "warning",
            "description": "Publier la solution ",
            "disabled": false,
            "icon": "",
            "layout": "IPY_MODEL_13eb0895038c4589bb7adf3833250073",
            "style": "IPY_MODEL_0c0f34555d0e44ccb536b9207123eb93",
            "tooltip": "⚠️Seulement disponible à l'évaluateur⚠️.\nEnvoi de la réponse (contenu de la cellule actuelle) comme solution officielle.\nSi la fonction 'student_evaluation_function' est diponible, elle pourra être utilisée pour évaluer les étudiants.\n"
          }
        },
        "4c42ccb3f40d422b8d29ab988a5a535c": {
          "model_module": "@jupyter-widgets/base",
          "model_name": "LayoutModel",
          "model_module_version": "1.2.0",
          "state": {
            "_model_module": "@jupyter-widgets/base",
            "_model_module_version": "1.2.0",
            "_model_name": "LayoutModel",
            "_view_count": null,
            "_view_module": "@jupyter-widgets/base",
            "_view_module_version": "1.2.0",
            "_view_name": "LayoutView",
            "align_content": null,
            "align_items": null,
            "align_self": null,
            "border": null,
            "bottom": null,
            "display": null,
            "flex": null,
            "flex_flow": null,
            "grid_area": null,
            "grid_auto_columns": null,
            "grid_auto_flow": null,
            "grid_auto_rows": null,
            "grid_column": null,
            "grid_gap": null,
            "grid_row": null,
            "grid_template_areas": null,
            "grid_template_columns": null,
            "grid_template_rows": null,
            "height": null,
            "justify_content": null,
            "justify_items": null,
            "left": null,
            "margin": null,
            "max_height": null,
            "max_width": null,
            "min_height": null,
            "min_width": null,
            "object_fit": null,
            "object_position": null,
            "order": null,
            "overflow": null,
            "overflow_x": null,
            "overflow_y": null,
            "padding": null,
            "right": null,
            "top": null,
            "visibility": null,
            "width": null
          }
        },
        "1a13bdc394d046bd8ffc71451077e6d4": {
          "model_module": "@jupyter-widgets/base",
          "model_name": "LayoutModel",
          "model_module_version": "1.2.0",
          "state": {
            "_model_module": "@jupyter-widgets/base",
            "_model_module_version": "1.2.0",
            "_model_name": "LayoutModel",
            "_view_count": null,
            "_view_module": "@jupyter-widgets/base",
            "_view_module_version": "1.2.0",
            "_view_name": "LayoutView",
            "align_content": null,
            "align_items": null,
            "align_self": null,
            "border": null,
            "bottom": null,
            "display": null,
            "flex": null,
            "flex_flow": null,
            "grid_area": null,
            "grid_auto_columns": null,
            "grid_auto_flow": null,
            "grid_auto_rows": null,
            "grid_column": null,
            "grid_gap": null,
            "grid_row": null,
            "grid_template_areas": null,
            "grid_template_columns": null,
            "grid_template_rows": null,
            "height": null,
            "justify_content": null,
            "justify_items": null,
            "left": null,
            "margin": null,
            "max_height": null,
            "max_width": null,
            "min_height": null,
            "min_width": null,
            "object_fit": null,
            "object_position": null,
            "order": null,
            "overflow": null,
            "overflow_x": null,
            "overflow_y": null,
            "padding": null,
            "right": null,
            "top": null,
            "visibility": null,
            "width": "150px"
          }
        },
        "0d082df395c64b798f7da5e4421687c5": {
          "model_module": "@jupyter-widgets/controls",
          "model_name": "ButtonStyleModel",
          "model_module_version": "1.5.0",
          "state": {
            "_model_module": "@jupyter-widgets/controls",
            "_model_module_version": "1.5.0",
            "_model_name": "ButtonStyleModel",
            "_view_count": null,
            "_view_module": "@jupyter-widgets/base",
            "_view_module_version": "1.2.0",
            "_view_name": "StyleView",
            "button_color": null,
            "font_weight": ""
          }
        },
        "168460c615674eff8ea0b95538c4e719": {
          "model_module": "@jupyter-widgets/base",
          "model_name": "LayoutModel",
          "model_module_version": "1.2.0",
          "state": {
            "_model_module": "@jupyter-widgets/base",
            "_model_module_version": "1.2.0",
            "_model_name": "LayoutModel",
            "_view_count": null,
            "_view_module": "@jupyter-widgets/base",
            "_view_module_version": "1.2.0",
            "_view_name": "LayoutView",
            "align_content": null,
            "align_items": null,
            "align_self": null,
            "border": null,
            "bottom": null,
            "display": null,
            "flex": null,
            "flex_flow": null,
            "grid_area": null,
            "grid_auto_columns": null,
            "grid_auto_flow": null,
            "grid_auto_rows": null,
            "grid_column": null,
            "grid_gap": null,
            "grid_row": null,
            "grid_template_areas": null,
            "grid_template_columns": null,
            "grid_template_rows": null,
            "height": null,
            "justify_content": null,
            "justify_items": null,
            "left": null,
            "margin": null,
            "max_height": null,
            "max_width": null,
            "min_height": null,
            "min_width": null,
            "object_fit": null,
            "object_position": null,
            "order": null,
            "overflow": null,
            "overflow_x": null,
            "overflow_y": null,
            "padding": null,
            "right": null,
            "top": null,
            "visibility": null,
            "width": "150px"
          }
        },
        "d510e44a1c6d49f2807a3d8cd833c775": {
          "model_module": "@jupyter-widgets/controls",
          "model_name": "ButtonStyleModel",
          "model_module_version": "1.5.0",
          "state": {
            "_model_module": "@jupyter-widgets/controls",
            "_model_module_version": "1.5.0",
            "_model_name": "ButtonStyleModel",
            "_view_count": null,
            "_view_module": "@jupyter-widgets/base",
            "_view_module_version": "1.2.0",
            "_view_name": "StyleView",
            "button_color": null,
            "font_weight": ""
          }
        },
        "13eb0895038c4589bb7adf3833250073": {
          "model_module": "@jupyter-widgets/base",
          "model_name": "LayoutModel",
          "model_module_version": "1.2.0",
          "state": {
            "_model_module": "@jupyter-widgets/base",
            "_model_module_version": "1.2.0",
            "_model_name": "LayoutModel",
            "_view_count": null,
            "_view_module": "@jupyter-widgets/base",
            "_view_module_version": "1.2.0",
            "_view_name": "LayoutView",
            "align_content": null,
            "align_items": null,
            "align_self": null,
            "border": null,
            "bottom": null,
            "display": null,
            "flex": null,
            "flex_flow": null,
            "grid_area": null,
            "grid_auto_columns": null,
            "grid_auto_flow": null,
            "grid_auto_rows": null,
            "grid_column": null,
            "grid_gap": null,
            "grid_row": null,
            "grid_template_areas": null,
            "grid_template_columns": null,
            "grid_template_rows": null,
            "height": null,
            "justify_content": null,
            "justify_items": null,
            "left": null,
            "margin": null,
            "max_height": null,
            "max_width": null,
            "min_height": null,
            "min_width": null,
            "object_fit": null,
            "object_position": null,
            "order": null,
            "overflow": null,
            "overflow_x": null,
            "overflow_y": null,
            "padding": null,
            "right": null,
            "top": null,
            "visibility": null,
            "width": "150px"
          }
        },
        "0c0f34555d0e44ccb536b9207123eb93": {
          "model_module": "@jupyter-widgets/controls",
          "model_name": "ButtonStyleModel",
          "model_module_version": "1.5.0",
          "state": {
            "_model_module": "@jupyter-widgets/controls",
            "_model_module_version": "1.5.0",
            "_model_name": "ButtonStyleModel",
            "_view_count": null,
            "_view_module": "@jupyter-widgets/base",
            "_view_module_version": "1.2.0",
            "_view_name": "StyleView",
            "button_color": null,
            "font_weight": ""
          }
        },
        "c2931a0211f3438ebac75c49431e2b15": {
          "model_module": "@jupyter-widgets/output",
          "model_name": "OutputModel",
          "model_module_version": "1.0.0",
          "state": {
            "_dom_classes": [],
            "_model_module": "@jupyter-widgets/output",
            "_model_module_version": "1.0.0",
            "_model_name": "OutputModel",
            "_view_count": null,
            "_view_module": "@jupyter-widgets/output",
            "_view_module_version": "1.0.0",
            "_view_name": "OutputView",
            "layout": "IPY_MODEL_d162e2a72203413c979de02f6f484f79",
            "msg_id": "",
            "outputs": [
              {
                "output_type": "display_data",
                "data": {
                  "text/plain": "<IPython.core.display.Markdown object>",
                  "text/markdown": "#### Greenhouse effect gaz concentrations\n- Raw data: [climate-change.csv](https://github.com/guydegnol/bulkhours/blob/main/data/climate-change.csv)\n- Enrich data: [world.py](https://github.com/guydegnol/bulkhours/blob/main/bulkhours/data/world.py)  ([raw](https://raw.githubusercontent.com/guydegnol/bulkhours/main/bulkhours/data/world.py))\n- Direct source: https://ourworldindata.org/atmospheric-concentrations\n\n<details>\n<summary>Show columns info</summary>\n\n| Column   |      Info |\n|-----------|:-----------|\n| country |  |\n| CO2 concentrations |  |\n| CH4 concentrations |  |\n| N2O concentrations |  |\n| February |  |\n| September |  |\n| Mass U.S. glaciers |  |\n| CSIRO |  |\n| IAP |  |\n| MRIJMA |  |\n| NOAA |  |\n| Snow cover |  |\n| Sea surface temp |  |\n| Sea surface temp (lower-bound) |  |\n| Sea surface temp (upper-bound) |  |\n| IAP.1 |  |\n| NOAA.1 |  |\n| MRIJMA.1 |  |\n| February.1 |  |\n| September.1 |  |\n\n</details>\n\n\n<details>\n<summary>Show code</summary>\n<code>\ndef get_concentrations(self, zone=\"World\", **data_info):\n    df = self.read_raw_data(self.raw_data)\n\n    df = df.rename(columns={\"Entity\": \"country\", \"Year\": \"year\"})\n\n    if zone is not None:\n        df = df.query(f\"country == '{zone}'\")\n    return df\n</code>\n</details>\n\n"
                },
                "metadata": {}
              },
              {
                "output_type": "stream",
                "name": "stdout",
                "text": [
                  "\u001b[31mBulkHours database info:\u001b[0m https://github.com/guydegnol/bulkhours/blob/main/data/README.md\n",
                  "bulkhours.get_data(\"co2.concentrations\", credit=\u001b[1mFalse\u001b[0m)  # To stop showing this text\n"
                ]
              },
              {
                "output_type": "display_data",
                "data": {
                  "text/plain": "<Figure size 1200x400 with 2 Axes>",
                  "image/png": "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\n"
                },
                "metadata": {
                  "needs_background": "light"
                }
              }
            ]
          }
        },
        "d162e2a72203413c979de02f6f484f79": {
          "model_module": "@jupyter-widgets/base",
          "model_name": "LayoutModel",
          "model_module_version": "1.2.0",
          "state": {
            "_model_module": "@jupyter-widgets/base",
            "_model_module_version": "1.2.0",
            "_model_name": "LayoutModel",
            "_view_count": null,
            "_view_module": "@jupyter-widgets/base",
            "_view_module_version": "1.2.0",
            "_view_name": "LayoutView",
            "align_content": null,
            "align_items": null,
            "align_self": null,
            "border": null,
            "bottom": null,
            "display": null,
            "flex": null,
            "flex_flow": null,
            "grid_area": null,
            "grid_auto_columns": null,
            "grid_auto_flow": null,
            "grid_auto_rows": null,
            "grid_column": null,
            "grid_gap": null,
            "grid_row": null,
            "grid_template_areas": null,
            "grid_template_columns": null,
            "grid_template_rows": null,
            "height": null,
            "justify_content": null,
            "justify_items": null,
            "left": null,
            "margin": null,
            "max_height": null,
            "max_width": null,
            "min_height": null,
            "min_width": null,
            "object_fit": null,
            "object_position": null,
            "order": null,
            "overflow": null,
            "overflow_x": null,
            "overflow_y": null,
            "padding": null,
            "right": null,
            "top": null,
            "visibility": null,
            "width": null
          }
        }
      }
    }
  },
  "cells": [
    {
      "cell_type": "code",
      "source": [
        "#@title # Initialisation of the notebook\n",
        "# Install the bulkhours package, redirecting stdout and stderr to a null output\n",
        "!rm -rf bulkhours && git clone https://github.com/guydegnol/bulkhours.git > /dev/null 2>&1\n",
        "\n",
        "# Import the bulkhours package and configure it\n",
        "import bulkhours\n",
        "bulkhours.init_env(email=\"yoda@jedi.com\", notebook_id=\"data\")\n",
        "\n",
        "# Import other packages\n",
        "from io import StringIO\n",
        "import pandas as pd\n",
        "import matplotlib.pyplot as plt\n",
        "import numpy as np\n",
        "import statsmodels.tsa.api as smtsa\n",
        "\n",
        "# Generate header links\n",
        "bulkhours.generate_header_links(\"examples/7_Add_new_dataset.ipynb\")"
      ],
      "metadata": {
        "id": "rSpNjxbXy0TB",
        "colab": {
          "base_uri": "https://localhost:8080/",
          "height": 105
        },
        "outputId": "3387a46e-71cb-4365-c409-df2802e46f8f"
      },
      "execution_count": 5,
      "outputs": [
        {
          "output_type": "stream",
          "name": "stdout",
          "text": [
            "Import BULK Helper cOURSe (\u001b[0m\u001b[36mversion='5.2.24'\u001b[0m🚀', ⚠️\u001b[31m\u001b[41m\u001b[37m in admin/teacher🎓 mode\u001b[0m⚠️):\n",
            "(db, subject, virtual_room, nb_id, user) = (bkloud@, s, winterfell, data, yoda@jedi.com🎓)\n",
            "LOG import of openai failed 💥\n"
          ]
        },
        {
          "output_type": "display_data",
          "data": {
            "text/plain": [
              "<IPython.core.display.Markdown object>"
            ],
            "text/markdown": "[![Open In Colab](https://colab.research.google.com/assets/colab-badge.svg)](https://colab.research.google.com/github/guydegnol/bulkhours/blob/main/examples/7_Add_new_dataset.ipynb) [![Open In Kaggle](https://kaggle.com/static/images/open-in-kaggle.svg)](https://kaggle.com/kernels/welcome?src=https://github.com/guydegnol/bulkhours/blob/main/examples/7_Add_new_dataset.ipynb) [![GitHub](https://badgen.net/badge/icon/Open%20in%20Github?icon=github&label)](https://github.com/guydegnol/bulkhours/blob/main/examples/7_Add_new_dataset.ipynb) [![Open in Visual Studio Code](https://img.shields.io/static/v1?logo=visualstudiocode&label=&message=Open%20in%20Visual%20Studio&labelColor=2c2c32&color=007acc&logoColor=007acc)](https://vscode.dev/github/guydegnol/bulkhours/blob/main/examples/7_Add_new_dataset.ipynb) [![CC-by-nc-sa license](https://badgen.net/badge/icon/CC%20by-nc-sa?label=Licence)](https://creativecommons.org/licenses/by-nc-sa/4.0)\n"
          },
          "metadata": {}
        }
      ]
    },
    {
      "cell_type": "markdown",
      "source": [
        "# Explore datasets"
      ],
      "metadata": {
        "id": "5ZDeRE88FySu"
      }
    },
    {
      "cell_type": "code",
      "source": [
        "#@title ## List categories\n",
        "bulkhours.data.help(show_categories=True)"
      ],
      "metadata": {
        "id": "BBTV38HPS2K2",
        "outputId": "cdb9ced7-4ad6-45e6-870c-365aff726173",
        "colab": {
          "base_uri": "https://localhost:8080/",
          "height": 269
        }
      },
      "execution_count": 2,
      "outputs": [
        {
          "output_type": "display_data",
          "data": {
            "text/plain": [
              "                    label                     tag\n",
              "0               Economics               Economics\n",
              "1  Predictive maintenance  Predictive_Maintenance\n",
              "2               Computing               Computing\n",
              "3                 Physics                 Physics\n",
              "4                  Health                  Health\n",
              "5       Climate Evolution       Climate_Evolution\n",
              "6   Machine learning data        Machine_learning"
            ],
            "text/html": [
              "\n",
              "  <div id=\"df-fe1f9788-4f97-4888-b125-ab9673fe248d\">\n",
              "    <div class=\"colab-df-container\">\n",
              "      <div>\n",
              "<style scoped>\n",
              "    .dataframe tbody tr th:only-of-type {\n",
              "        vertical-align: middle;\n",
              "    }\n",
              "\n",
              "    .dataframe tbody tr th {\n",
              "        vertical-align: top;\n",
              "    }\n",
              "\n",
              "    .dataframe thead th {\n",
              "        text-align: right;\n",
              "    }\n",
              "</style>\n",
              "<table border=\"1\" class=\"dataframe\">\n",
              "  <thead>\n",
              "    <tr style=\"text-align: right;\">\n",
              "      <th></th>\n",
              "      <th>label</th>\n",
              "      <th>tag</th>\n",
              "    </tr>\n",
              "  </thead>\n",
              "  <tbody>\n",
              "    <tr>\n",
              "      <th>0</th>\n",
              "      <td>Economics</td>\n",
              "      <td>Economics</td>\n",
              "    </tr>\n",
              "    <tr>\n",
              "      <th>1</th>\n",
              "      <td>Predictive maintenance</td>\n",
              "      <td>Predictive_Maintenance</td>\n",
              "    </tr>\n",
              "    <tr>\n",
              "      <th>2</th>\n",
              "      <td>Computing</td>\n",
              "      <td>Computing</td>\n",
              "    </tr>\n",
              "    <tr>\n",
              "      <th>3</th>\n",
              "      <td>Physics</td>\n",
              "      <td>Physics</td>\n",
              "    </tr>\n",
              "    <tr>\n",
              "      <th>4</th>\n",
              "      <td>Health</td>\n",
              "      <td>Health</td>\n",
              "    </tr>\n",
              "    <tr>\n",
              "      <th>5</th>\n",
              "      <td>Climate Evolution</td>\n",
              "      <td>Climate_Evolution</td>\n",
              "    </tr>\n",
              "    <tr>\n",
              "      <th>6</th>\n",
              "      <td>Machine learning data</td>\n",
              "      <td>Machine_learning</td>\n",
              "    </tr>\n",
              "  </tbody>\n",
              "</table>\n",
              "</div>\n",
              "      <button class=\"colab-df-convert\" onclick=\"convertToInteractive('df-fe1f9788-4f97-4888-b125-ab9673fe248d')\"\n",
              "              title=\"Convert this dataframe to an interactive table.\"\n",
              "              style=\"display:none;\">\n",
              "        \n",
              "  <svg xmlns=\"http://www.w3.org/2000/svg\" height=\"24px\"viewBox=\"0 0 24 24\"\n",
              "       width=\"24px\">\n",
              "    <path d=\"M0 0h24v24H0V0z\" fill=\"none\"/>\n",
              "    <path d=\"M18.56 5.44l.94 2.06.94-2.06 2.06-.94-2.06-.94-.94-2.06-.94 2.06-2.06.94zm-11 1L8.5 8.5l.94-2.06 2.06-.94-2.06-.94L8.5 2.5l-.94 2.06-2.06.94zm10 10l.94 2.06.94-2.06 2.06-.94-2.06-.94-.94-2.06-.94 2.06-2.06.94z\"/><path d=\"M17.41 7.96l-1.37-1.37c-.4-.4-.92-.59-1.43-.59-.52 0-1.04.2-1.43.59L10.3 9.45l-7.72 7.72c-.78.78-.78 2.05 0 2.83L4 21.41c.39.39.9.59 1.41.59.51 0 1.02-.2 1.41-.59l7.78-7.78 2.81-2.81c.8-.78.8-2.07 0-2.86zM5.41 20L4 18.59l7.72-7.72 1.47 1.35L5.41 20z\"/>\n",
              "  </svg>\n",
              "      </button>\n",
              "      \n",
              "  <style>\n",
              "    .colab-df-container {\n",
              "      display:flex;\n",
              "      flex-wrap:wrap;\n",
              "      gap: 12px;\n",
              "    }\n",
              "\n",
              "    .colab-df-convert {\n",
              "      background-color: #E8F0FE;\n",
              "      border: none;\n",
              "      border-radius: 50%;\n",
              "      cursor: pointer;\n",
              "      display: none;\n",
              "      fill: #1967D2;\n",
              "      height: 32px;\n",
              "      padding: 0 0 0 0;\n",
              "      width: 32px;\n",
              "    }\n",
              "\n",
              "    .colab-df-convert:hover {\n",
              "      background-color: #E2EBFA;\n",
              "      box-shadow: 0px 1px 2px rgba(60, 64, 67, 0.3), 0px 1px 3px 1px rgba(60, 64, 67, 0.15);\n",
              "      fill: #174EA6;\n",
              "    }\n",
              "\n",
              "    [theme=dark] .colab-df-convert {\n",
              "      background-color: #3B4455;\n",
              "      fill: #D2E3FC;\n",
              "    }\n",
              "\n",
              "    [theme=dark] .colab-df-convert:hover {\n",
              "      background-color: #434B5C;\n",
              "      box-shadow: 0px 1px 3px 1px rgba(0, 0, 0, 0.15);\n",
              "      filter: drop-shadow(0px 1px 2px rgba(0, 0, 0, 0.3));\n",
              "      fill: #FFFFFF;\n",
              "    }\n",
              "  </style>\n",
              "\n",
              "      <script>\n",
              "        const buttonEl =\n",
              "          document.querySelector('#df-fe1f9788-4f97-4888-b125-ab9673fe248d button.colab-df-convert');\n",
              "        buttonEl.style.display =\n",
              "          google.colab.kernel.accessAllowed ? 'block' : 'none';\n",
              "\n",
              "        async function convertToInteractive(key) {\n",
              "          const element = document.querySelector('#df-fe1f9788-4f97-4888-b125-ab9673fe248d');\n",
              "          const dataTable =\n",
              "            await google.colab.kernel.invokeFunction('convertToInteractive',\n",
              "                                                     [key], {});\n",
              "          if (!dataTable) return;\n",
              "\n",
              "          const docLinkHtml = 'Like what you see? Visit the ' +\n",
              "            '<a target=\"_blank\" href=https://colab.research.google.com/notebooks/data_table.ipynb>data table notebook</a>'\n",
              "            + ' to learn more about interactive tables.';\n",
              "          element.innerHTML = '';\n",
              "          dataTable['output_type'] = 'display_data';\n",
              "          await google.colab.output.renderOutput(dataTable, element);\n",
              "          const docLink = document.createElement('div');\n",
              "          docLink.innerHTML = docLinkHtml;\n",
              "          element.appendChild(docLink);\n",
              "        }\n",
              "      </script>\n",
              "    </div>\n",
              "  </div>\n",
              "  "
            ]
          },
          "metadata": {}
        }
      ]
    },
    {
      "cell_type": "code",
      "source": [
        "#@title ## Explore data in a category\n",
        "bulkhours.data.help(category=\"Climate_Evolution\")"
      ],
      "metadata": {
        "id": "MWelSzgPaFKq",
        "outputId": "fb9d6efc-87ad-4960-872c-65e4a2729b1c",
        "colab": {
          "base_uri": "https://localhost:8080/",
          "height": 830
        }
      },
      "execution_count": null,
      "outputs": [
        {
          "output_type": "stream",
          "name": "stderr",
          "text": [
            "/content/bulkhours/bulkhours/data/world.py:12: FutureWarning: The geopandas.dataset module is deprecated and will be removed in GeoPandas 1.0. You can get the original 'naturalearth_lowres' data from https://www.naturalearthdata.com/downloads/110m-cultural-vectors/.\n",
            "  filepath = gpd.datasets.get_path(\"naturalearth_lowres\")\n"
          ]
        },
        {
          "output_type": "display_data",
          "data": {
            "text/plain": [
              "<IPython.core.display.Markdown object>"
            ],
            "text/markdown": "\n\n## Climate_Evolution \n\n#### Greenhouse effect gaz concentrations\n#### `bulkhours.get_data(\"co2.concentrations\")`\n- Raw data: [climate-change.csv](https://github.com/guydegnol/bulkhours/blob/main/data/climate-change.csv)\n- Enrich data: [world.py](https://github.com/guydegnol/bulkhours/blob/main/bulkhours/data/world.py)  ([raw](https://raw.githubusercontent.com/guydegnol/bulkhours/main/bulkhours/data/world.py))\n- Direct source: https://ourworldindata.org/atmospheric-concentrations\n\n<details>\n  <summary>Show columns info</summary>\n\n| Column   |      Info |\n|-----------|:-----------|\n| country |  |\n| year |  |\n| CO2 concentrations |  |\n| CH4 concentrations |  |\n| N2O concentrations |  |\n| February |  |\n| September |  |\n| Mass U.S. glaciers |  |\n| CSIRO |  |\n| IAP |  |\n| MRIJMA |  |\n| NOAA |  |\n| Snow cover |  |\n| Sea surface temp |  |\n| Sea surface temp (lower-bound) |  |\n| Sea surface temp (upper-bound) |  |\n| IAP.1 |  |\n| NOAA.1 |  |\n| MRIJMA.1 |  |\n| February.1 |  |\n| September.1 |  |\n\n</details>\n         \n#### Greenhouse effect gaz concentrations\n#### `bulkhours.get_data(\"co2.mapconcentrations\")`\n- Raw data: [climate-change.csv](https://github.com/guydegnol/bulkhours/blob/main/data/climate-change.csv)\n- Enrich data: [world.py](https://github.com/guydegnol/bulkhours/blob/main/bulkhours/data/world.py)  ([raw](https://raw.githubusercontent.com/guydegnol/bulkhours/main/bulkhours/data/world.py))\n- Direct source: https://ourworldindata.org/atmospheric-concentrations\n\n<details>\n  <summary>Show columns info</summary>\n\n| Column   |      Info |\n|-----------|:-----------|\n| pop_est |  |\n| continent |  |\n| name |  |\n| iso_a3 |  |\n| gdp_md_est |  |\n| geometry |  |\n| year |  |\n| CO2 concentrations |  |\n| CH4 concentrations |  |\n| N2O concentrations |  |\n| February |  |\n| September |  |\n| Mass U.S. glaciers |  |\n| CSIRO |  |\n| IAP |  |\n| MRIJMA |  |\n| NOAA |  |\n| Snow cover |  |\n| Sea surface temp |  |\n| Sea surface temp (lower-bound) |  |\n| Sea surface temp (upper-bound) |  |\n| IAP.1 |  |\n| NOAA.1 |  |\n| MRIJMA.1 |  |\n| February.1 |  |\n| September.1 |  |\n\n</details>\n         \n#### Data on CO2 and Greenhouse Gas Emissions by Our World in Data\n#### `bulkhours.get_data(\"co2.main\")`\n- Raw data: [owid-co2-data.csv](https://github.com/owid/co2-data/master/owid-co2-data.csv)  ([raw](https://raw.githubusercontent.com/owid/co2-data/master/owid-co2-data.csv))\n- Enrich data: [world.py](https://github.com/guydegnol/bulkhours/blob/main/bulkhours/data/world.py)  ([raw](https://raw.githubusercontent.com/guydegnol/bulkhours/main/bulkhours/data/world.py))\n\n<details>\n  <summary>Show columns info</summary>\n> https://github.com/owid/co2-data/blob/master/owid-co2-codebook.csv\n\n| Column   |      Info |\n|-----------|:-----------|\n| country |  |\n| year |  |\n| iso_code |  |\n| population |  |\n| gdp |  |\n| cement_co2 |  |\n| cement_co2_per_capita |  |\n| co2 |  |\n| co2_growth_abs |  |\n| co2_growth_prct |  |\n| co2_including_luc |  |\n| co2_including_luc_growth_abs |  |\n| co2_including_luc_growth_prct |  |\n| co2_including_luc_per_capita |  |\n| co2_including_luc_per_gdp |  |\n| co2_including_luc_per_unit_energy |  |\n| co2_per_capita |  |\n| co2_per_gdp |  |\n| co2_per_unit_energy |  |\n| coal_co2 |  |\n| coal_co2_per_capita |  |\n| consumption_co2 |  |\n| consumption_co2_per_capita |  |\n| consumption_co2_per_gdp |  |\n| cumulative_cement_co2 |  |\n| cumulative_co2 |  |\n| cumulative_co2_including_luc |  |\n| cumulative_coal_co2 |  |\n| cumulative_flaring_co2 |  |\n| cumulative_gas_co2 |  |\n| cumulative_luc_co2 |  |\n| cumulative_oil_co2 |  |\n| cumulative_other_co2 |  |\n| energy_per_capita |  |\n| energy_per_gdp |  |\n| flaring_co2 |  |\n| flaring_co2_per_capita |  |\n| gas_co2 |  |\n| gas_co2_per_capita |  |\n| ghg_excluding_lucf_per_capita |  |\n| ghg_per_capita |  |\n| land_use_change_co2 |  |\n| land_use_change_co2_per_capita |  |\n| methane |  |\n| methane_per_capita |  |\n| nitrous_oxide |  |\n| nitrous_oxide_per_capita |  |\n| oil_co2 |  |\n| oil_co2_per_capita |  |\n| other_co2_per_capita |  |\n| other_industry_co2 |  |\n| primary_energy_consumption |  |\n| share_global_cement_co2 |  |\n| share_global_co2 |  |\n| share_global_co2_including_luc |  |\n| share_global_coal_co2 |  |\n| share_global_cumulative_cement_co2 |  |\n| share_global_cumulative_co2 |  |\n| share_global_cumulative_co2_including_luc |  |\n| share_global_cumulative_coal_co2 |  |\n| share_global_cumulative_flaring_co2 |  |\n| share_global_cumulative_gas_co2 |  |\n| share_global_cumulative_luc_co2 |  |\n| share_global_cumulative_oil_co2 |  |\n| share_global_cumulative_other_co2 |  |\n| share_global_flaring_co2 |  |\n| share_global_gas_co2 |  |\n| share_global_luc_co2 |  |\n| share_global_oil_co2 |  |\n| share_global_other_co2 |  |\n| share_of_temperature_change_from_ghg |  |\n| temperature_change_from_ch4 |  |\n| temperature_change_from_co2 |  |\n| temperature_change_from_ghg |  |\n| temperature_change_from_n2o |  |\n| total_ghg |  |\n| total_ghg_excluding_lucf |  |\n| trade_co2 |  |\n| trade_co2_share |  |\n\n</details>\n         \n#### Data on CO2 and Greenhouse Gas Emissions by Our World in Data (with extra gpx data)\n#### `bulkhours.get_data(\"co2.mapmain\")`\n- Raw data: [owid-co2-data.csv](https://github.com/owid/co2-data/master/owid-co2-data.csv)  ([raw](https://raw.githubusercontent.com/owid/co2-data/master/owid-co2-data.csv))\n- Enrich data: [world.py](https://github.com/guydegnol/bulkhours/blob/main/bulkhours/data/world.py)  ([raw](https://raw.githubusercontent.com/guydegnol/bulkhours/main/bulkhours/data/world.py))\n\n<details>\n  <summary>Show columns info</summary>\n> https://github.com/owid/co2-data/blob/master/owid-co2-codebook.csv\n\n| Column   |      Info |\n|-----------|:-----------|\n| country |  |\n| year |  |\n| iso_code |  |\n| population |  |\n| gdp |  |\n| cement_co2 |  |\n| cement_co2_per_capita |  |\n| co2 |  |\n| co2_growth_abs |  |\n| co2_growth_prct |  |\n| co2_including_luc |  |\n| co2_including_luc_growth_abs |  |\n| co2_including_luc_growth_prct |  |\n| co2_including_luc_per_capita |  |\n| co2_including_luc_per_gdp |  |\n| co2_including_luc_per_unit_energy |  |\n| co2_per_capita |  |\n| co2_per_gdp |  |\n| co2_per_unit_energy |  |\n| coal_co2 |  |\n| coal_co2_per_capita |  |\n| consumption_co2 |  |\n| consumption_co2_per_capita |  |\n| consumption_co2_per_gdp |  |\n| cumulative_cement_co2 |  |\n| cumulative_co2 |  |\n| cumulative_co2_including_luc |  |\n| cumulative_coal_co2 |  |\n| cumulative_flaring_co2 |  |\n| cumulative_gas_co2 |  |\n| cumulative_luc_co2 |  |\n| cumulative_oil_co2 |  |\n| cumulative_other_co2 |  |\n| energy_per_capita |  |\n| energy_per_gdp |  |\n| flaring_co2 |  |\n| flaring_co2_per_capita |  |\n| gas_co2 |  |\n| gas_co2_per_capita |  |\n| ghg_excluding_lucf_per_capita |  |\n| ghg_per_capita |  |\n| land_use_change_co2 |  |\n| land_use_change_co2_per_capita |  |\n| methane |  |\n| methane_per_capita |  |\n| nitrous_oxide |  |\n| nitrous_oxide_per_capita |  |\n| oil_co2 |  |\n| oil_co2_per_capita |  |\n| other_co2_per_capita |  |\n| other_industry_co2 |  |\n| primary_energy_consumption |  |\n| share_global_cement_co2 |  |\n| share_global_co2 |  |\n| share_global_co2_including_luc |  |\n| share_global_coal_co2 |  |\n| share_global_cumulative_cement_co2 |  |\n| share_global_cumulative_co2 |  |\n| share_global_cumulative_co2_including_luc |  |\n| share_global_cumulative_coal_co2 |  |\n| share_global_cumulative_flaring_co2 |  |\n| share_global_cumulative_gas_co2 |  |\n| share_global_cumulative_luc_co2 |  |\n| share_global_cumulative_oil_co2 |  |\n| share_global_cumulative_other_co2 |  |\n| share_global_flaring_co2 |  |\n| share_global_gas_co2 |  |\n| share_global_luc_co2 |  |\n| share_global_oil_co2 |  |\n| share_global_other_co2 |  |\n| share_of_temperature_change_from_ghg |  |\n| temperature_change_from_ch4 |  |\n| temperature_change_from_co2 |  |\n| temperature_change_from_ghg |  |\n| temperature_change_from_n2o |  |\n| total_ghg |  |\n| total_ghg_excluding_lucf |  |\n| trade_co2 |  |\n| trade_co2_share |  |\n\n</details>\n         \n#### CO2 transportation info\n#### `bulkhours.get_data(\"co2.travel_mode\")`\n- Raw data: [carbon-footprint-travel-mode.csv](https://github.com/guydegnol/bulkhours/blob/main/data/carbon-footprint-travel-mode.csv)\n- Direct source: https://ourworldindata.org/grapher/carbon-footprint-travel-mode\n\n<details>\n  <summary>Show columns info</summary>\n\n| Column   |      Info |\n|-----------|:-----------|\n| Entity |  |\n| Code |  |\n| Year |  |\n| GHG emissions (gCO2e/km) |  |\n\n</details>\n         \n"
          },
          "metadata": {}
        }
      ]
    },
    {
      "cell_type": "code",
      "source": [
        "#@title ## Show physics constraints\n",
        "bulkhours.data.help(category=\"Physics\")"
      ],
      "metadata": {
        "id": "2Kh4YAQFaFcB",
        "outputId": "7573f47e-d616-418b-ae44-01eb97107216",
        "colab": {
          "base_uri": "https://localhost:8080/",
          "height": 1000
        }
      },
      "execution_count": null,
      "outputs": [
        {
          "output_type": "display_data",
          "data": {
            "text/plain": [
              "<IPython.core.display.Markdown object>"
            ],
            "text/markdown": "\n\n## Physics \n\n\n* <font size='+1'>Celsius en Kelvin: $273.15°K=0°C$</font><br/>\n```python\nfrom bulkhours import constants as bkc\nbkc.c2k := 273.15  # K.C-1\nbkc.kelvin := 273.15  # K.C-1\n```\n\n* <font size='+1'>Celerité de la lumière: $c = 3 \\cdot 10^{5}m\\cdot s^{-1}$</font><br/>\n```python\nfrom bulkhours import constants as bkc\nbkc.c := 3e+05  # m.s-1\nbkc.vitesse_lumiere := 3e+05  # m.s-1\n```\n\n* <font size='+1'>Distance parcourue par la lumière en 1an: $al = 9.461 \\cdot 10^{15}m$</font><br/>\n```python\nfrom bulkhours import constants as bkc\nbkc.al := 9.461e+15  # m\nbkc.annee_lumiere := 9.461e+15  # m\n```\n\n* <font size='+1'>Une Unité astrononique faisant un angle d'une seconde d'arc (ancienne déf.): $1pc \\equiv \\frac{180\\cdot60\\cdot60}{\\pi} = 3.086 \\cdot 10^{16}m = 3.26al$</font><br/>\n```python\nfrom bulkhours import constants as bkc\nbkc.parsec := 3.086e+16  # m.pc-1\n```\n\n* <font size='+1'>Une Unité astrononique faisant un angle d'une seconde d'arc (ancienne déf.): $1kpc \\equiv \\frac{1000\\cdot180\\cdot60\\cdot60}{\\pi}$</font><br/>\n```python\nfrom bulkhours import constants as bkc\nbkc.kparsec := 3.086e+19  # m.kpc-1\n```\n\n* <font size='+1'>Constante de la gravitation: $G = 6.67 \\cdot 10^{-11}N\\cdot m^2\\cdot kg^{-2}$   [6.6743e-11N.m2.kg-2]</font><br/>\n```python\nfrom bulkhours import constants as bkc\nbkc.G := 6.67e-11  # N.m2.kg-2\n```\n\n* <font size='+1'>Acceleration standard de la gravitation: $g = 9.8m\\cdot s^{-2}$   [9.80665m.s-2]</font><br/>\n```python\nfrom bulkhours import constants as bkc\nbkc.g := 9.8  # m.s-2\n```\n\n* <font size='+1'>Constante de Planck: $h = 6.626 \\cdot 10^{-34}J\\cdot s$   [6.62607015e-34J.s]</font><br/>\n```python\nfrom bulkhours import constants as bkc\nbkc.h := 6.626e-34  # J.s\n```\n\n* <font size='+1'>Constante de Planck réduite: $\\bar{h} = \\frac{h}{2\\pi}$</font><br/>\n```python\nfrom bulkhours import constants as bkc\nbkc.hbar := 1.055e-34  # J.s\n```\n\n* <font size='+1'>Nombre d'Avogadro: $N_\\mathcal{A} = 6.02 \\cdot 10^{23}mol-1$ (Carbone: $12g\\Leftrightarrow 1mol$)</font><br/>\n```python\nfrom bulkhours import constants as bkc\nbkc.N_A := 6.02e+23  # mol-1\nbkc.A := 6.02e+23  # mol-1\n```\n\n* <font size='+1'>Constante de Stefan-Boltzmann: $\\sigma = 5.67 \\cdot 10^{-8} W\\cdot m^{-2}\\cdot K^{-4}$</font><br/>\n```python\nfrom bulkhours import constants as bkc\nbkc.sigma := 5.67e-08  # W.m-2.K-4\nbkc.stefan := 5.67e-08  # W.m-2.K-4\n```\n\n* <font size='+1'>Constante de Wien: $\\lambda_{\\text{max}} \\cdot T = 0.003m\\cdot K$   [0.002897771955m.K]</font><br/>\n```python\nfrom bulkhours import constants as bkc\nbkc.Wien := 0.003  # m.K\nbkc.wien := 0.003  # m.K\nbkc.lambda_max := 0.003  # m.K\n```\n\n* <font size='+1'>Constante de Rydberg: $R_H({\\text{Hydrogene}}) = 1.1 \\cdot 10^{7}m-1$</font><br/>\n```python\nfrom bulkhours import constants as bkc\nbkc.Rydberg := 1.1e+07  # m-1\nbkc.rydberg := 1.1e+07  # m-1\nbkc.R_H := 1.1e+07  # m-1\n```\n\n* <font size='+1'>Energie cinetique e sous 1Volt: $\\mathrm{eV} = 1.6 \\cdot 10^{-19}J\\cdot eV^{-1}$   [1.602176634e-19J.eV-1]</font><br/>\n```python\nfrom bulkhours import constants as bkc\nbkc.eV := 1.6e-19  # J.eV-1\nbkc.ev := 1.6e-19  # J.eV-1\n```\n\n* <font size='+1'>Masse electron: $m_e = 9.109 \\cdot 10^{-31}kg$   [9.1093837015e-31kg]</font><br/>\n```python\nfrom bulkhours import constants as bkc\nbkc.m_e := 9.109e-31  # kg\n```\n\n* <font size='+1'>Rayon de Bohr: $a = 5.3 \\cdot 10^{-11} m$</font><br/>\n```python\nfrom bulkhours import constants as bkc\nbkc.r_bohr := 5.300e-11  # m\nbkc.a := 5.300e-11  # m\n```\n\n* <font size='+1'>Masse proton: $m_p = 1.673 \\cdot 10^{-27}kg$   [1.67262192369e-27kg]</font><br/>\n```python\nfrom bulkhours import constants as bkc\nbkc.m_p := 1.673e-27  # kg\n```\n\n* <font size='+1'>Masse proton: $m_p = 1.007276uma$ ($1uma \\equiv \\frac{M(^{12}C)}{12}$)   [1.007276466621uma]</font><br/>\n```python\nfrom bulkhours import constants as bkc\nbkc.m_puma := 1.007276  # uma\n```\n\n* <font size='+1'>Masse neutron: $m_n = 1.008663uma$ ($1uma \\equiv \\frac{M(^{12}C)}{12}$)   [1.00866491595uma]</font><br/>\n```python\nfrom bulkhours import constants as bkc\nbkc.m_numa := 1.008663  # uma\n```\n\n* <font size='+1'>Unité de Masse Atomique: $m_{nuc} = 1.660 \\cdot 10^{-27}kg\\cdot uma^{-1}$ ($1uma \\equiv \\frac{M(^{12}C)}{12}$)   [1.6605390666e-27kg.uma-1]</font><br/>\n```python\nfrom bulkhours import constants as bkc\nbkc.uma := 1.660e-27  # kg.uma-1\n```\n\n* <font size='+1'>Unité de Masse Atomique (MeV): $m_{nuc} = 931.500MeV\\cdot uma^{-1}$ ($1uma \\equiv \\frac{M(^{12}C)}{12}$)</font><br/>\n```python\nfrom bulkhours import constants as bkc\nbkc.uma_mev := 931.500  # MeV.uma-1\n```\n\n* <font size='+1'>Masse: $M_{\\mathrm{mercure}} = 3.301 \\cdot 10^{23}kg$</font><br/>\n```python\nfrom bulkhours import constants as bkc\nbkc.M_mercure := 3.301e+23  # kg\n```\n\n* <font size='+1'>Distance au soleil: $d_{\\odot \\mathrm{mercure}} = 0.38ua$</font><br/>\n```python\nfrom bulkhours import constants as bkc\nbkc.d_mercure := 0.38  # ua\n```\n\n* <font size='+1'>Rayon: $R_{\\mathrm{mercure}} = 2439km$</font><br/>\n```python\nfrom bulkhours import constants as bkc\nbkc.R_mercure := 2439  # km\n```\n\n* <font size='+1'>Albedo: $A_{\\mathrm{mercure}} = 0.09$</font><br/>\n```python\nfrom bulkhours import constants as bkc\nbkc.A_mercure := 0.09  # Sans unité (entre 0 et 1)\n```\n\n* <font size='+1'>Effet de serre: $S_{\\mathrm{mercure}} = 0$</font><br/>\n```python\nfrom bulkhours import constants as bkc\nbkc.S_mercure := 0  # Sans unité (entre 0 et 1)\n```\n\n* <font size='+1'>Temperature moyenne: $T_{\\mathrm{mercure}} = 167.0°C$</font><br/>\n```python\nfrom bulkhours import constants as bkc\nbkc.T_mercure := 167.0  # °C\n```\n\n* <font size='+1'>Masse: $M_{\\mathrm{venus}} = 4.867 \\cdot 10^{24}kg$</font><br/>\n```python\nfrom bulkhours import constants as bkc\nbkc.M_venus := 4.867e+24  # kg\n```\n\n* <font size='+1'>Distance au soleil: $d_{\\odot \\mathrm{venus}} = 0.72ua$</font><br/>\n```python\nfrom bulkhours import constants as bkc\nbkc.d_venus := 0.72  # ua\n```\n\n* <font size='+1'>Rayon: $R_{\\mathrm{venus}} = 3390km$</font><br/>\n```python\nfrom bulkhours import constants as bkc\nbkc.R_venus := 3390  # km\n```\n\n* <font size='+1'>Albedo: $A_{\\mathrm{venus}} = 0.77$</font><br/>\n```python\nfrom bulkhours import constants as bkc\nbkc.A_venus := 0.77  # Sans unité (entre 0 et 1)\n```\n\n* <font size='+1'>Effet de serre: $S_{\\mathrm{venus}} = 0.991$</font><br/>\n```python\nfrom bulkhours import constants as bkc\nbkc.S_venus := 0.991  # Sans unité (entre 0 et 1)\n```\n\n* <font size='+1'>Temperature moyenne: $T_{\\mathrm{venus}} = 464.0°C$</font><br/>\n```python\nfrom bulkhours import constants as bkc\nbkc.T_venus := 464.0  # °C\n```\n\n* <font size='+1'>Masse: $M_{\\mathrm{terre}} = 5.972 \\cdot 10^{24}kg$</font><br/>\n```python\nfrom bulkhours import constants as bkc\nbkc.M_terre := 5.972e+24  # kg\n```\n\n* <font size='+1'>Distance au soleil: $d_{\\odot \\mathrm{terre}} = 1.00ua$</font><br/>\n```python\nfrom bulkhours import constants as bkc\nbkc.d_terre := 1.00  # ua\n```\n\n* <font size='+1'>Rayon: $R_{\\mathrm{terre}} = 6371km$</font><br/>\n```python\nfrom bulkhours import constants as bkc\nbkc.R_terre := 6371  # km\n```\n\n* <font size='+1'>Albedo: $A_{\\mathrm{terre}} = 0.30$</font><br/>\n```python\nfrom bulkhours import constants as bkc\nbkc.A_terre := 0.30  # Sans unité (entre 0 et 1)\n```\n\n* <font size='+1'>Effet de serre: $S_{\\mathrm{terre}} = 0.394$</font><br/>\n```python\nfrom bulkhours import constants as bkc\nbkc.S_terre := 0.394  # Sans unité (entre 0 et 1)\n```\n\n* <font size='+1'>Temperature moyenne: $T_{\\mathrm{terre}} = 15.0°C$</font><br/>\n```python\nfrom bulkhours import constants as bkc\nbkc.T_terre := 15.0  # °C\n```\n\n* <font size='+1'>Distance au soleil: $d_{\\odot \\mathrm{terre}} = 1ua = 1.500 \\cdot 10^{11}m$   [149597870700.0m]</font><br/>\n```python\nfrom bulkhours import constants as bkc\nbkc.d_terre_solm := 1.500e+11  # m\nbkc.d_terresoleil := 1.500e+11  # m\n```\n\n* <font size='+1'>Masse: $M_{\\mathrm{mars}} = 6.417 \\cdot 10^{23}kg$</font><br/>\n```python\nfrom bulkhours import constants as bkc\nbkc.M_mars := 6.417e+23  # kg\n```\n\n* <font size='+1'>Distance au soleil: $d_{\\odot \\mathrm{mars}} = 1.52ua$</font><br/>\n```python\nfrom bulkhours import constants as bkc\nbkc.d_mars := 1.52  # ua\n```\n\n* <font size='+1'>Rayon: $R_{\\mathrm{mars}} = 3390km$</font><br/>\n```python\nfrom bulkhours import constants as bkc\nbkc.R_mars := 3390  # km\n```\n\n* <font size='+1'>Albedo: $A_{\\mathrm{mars}} = 0.25$</font><br/>\n```python\nfrom bulkhours import constants as bkc\nbkc.A_mars := 0.25  # Sans unité (entre 0 et 1)\n```\n\n* <font size='+1'>Effet de serre: $S_{\\mathrm{mars}} = 0.010$</font><br/>\n```python\nfrom bulkhours import constants as bkc\nbkc.S_mars := 0.010  # Sans unité (entre 0 et 1)\n```\n\n* <font size='+1'>Temperature moyenne: $T_{\\mathrm{mars}} = -62.8°C$</font><br/>\n```python\nfrom bulkhours import constants as bkc\nbkc.T_mars := -62.8  # °C\n```\n\n* <font size='+1'>Masse: $M_{\\odot} = 1.988 \\cdot 10^{30}kg$</font><br/>\n```python\nfrom bulkhours import constants as bkc\nbkc.M_soleil := 1.988e+30  # kg\n```\n\n* <font size='+1'>Rayon: $R_{\\odot} = 7 \\cdot 10^{5}km$</font><br/>\n```python\nfrom bulkhours import constants as bkc\nbkc.R_soleil := 7e+05  # km\n```\n\n* <font size='+1'>Luminosité: $L_{\\odot} = 3.83 \\cdot 10^{26}W$</font><br/>\n```python\nfrom bulkhours import constants as bkc\nbkc.L_soleil := 3.83e+26  # W\nbkc.L_sol := 3.83e+26  # W\nbkc.L_sun := 3.83e+26  # W\n```\n\n* <font size='+1'>Temperature moyenne: $T_{\\odot} = 5800.0°C$</font><br/>\n```python\nfrom bulkhours import constants as bkc\nbkc.T_soleil := 5800.0  # °C\n```\n\n* <font size='+1'>Masse: $M_{\\mathrm{lune}} = 7.350 \\cdot 10^{22}kg$</font><br/>\n```python\nfrom bulkhours import constants as bkc\nbkc.M_lune := 7.350e+22  # kg\n```\n\n* <font size='+1'>Distance au soleil: $d_{\\odot \\mathrm{lune}} = 1.00ua$</font><br/>\n```python\nfrom bulkhours import constants as bkc\nbkc.d_lune := 1.00  # ua\n```\n\n* <font size='+1'>Rayon: $R_{\\mathrm{lune}} = 6371km$</font><br/>\n```python\nfrom bulkhours import constants as bkc\nbkc.R_lune := 6371  # km\n```\n\n* <font size='+1'>Albedo: $A_{\\mathrm{lune}} = 0.11$</font><br/>\n```python\nfrom bulkhours import constants as bkc\nbkc.A_lune := 0.11  # Sans unité (entre 0 et 1)\n```\n\n* <font size='+1'>Distance à la lune: $d_{\\mathrm{terre} \\mathrm{lune}} = 3.844 \\cdot 10^{8}m$</font><br/>\n```python\nfrom bulkhours import constants as bkc\nbkc.d_terre_lune := 3.844e+08  # m\n```\n\n* <font size='+1'>Perimètre d'un cercle de rayon 1/2🙂: $pi = 3.141593$</font><br/>\n```python\nfrom bulkhours import constants as bkc\nbkc.pi := 3.141593  # \n```\n\n#### Quarterly sunspots activity (ssn)\n#### `bulkhours.get_data(\"statsdata.sunspots\")`\n- Raw data: [observed-solar-cycle-indices.json](https://services.swpc.noaa.gov/json/solar-cycle/observed-solar-cycle-indices.json)  ([raw](https://services.swpc.noaa.gov/json/solar-cycle/observed-solar-cycle-indices.json))\n- Enrich data: [statsdata.py](https://github.com/guydegnol/bulkhours/blob/main/bulkhours/data/statsdata.py)  ([raw](https://raw.githubusercontent.com/guydegnol/bulkhours/main/bulkhours/data/statsdata.py))\n- Direct source: https://www.swpc.noaa.gov/products/solar-cycle-progression\n- Reference site: https://services.swpc.noaa.gov/json/solar-cycle/observed-solar-cycle-indices.json\n\n<details>\n  <summary>Show columns info</summary>\n> https://en.wikipedia.org/wiki/Wolf_number\n\n| Column   |      Info |\n|-----------|:-----------|\n| ssn |  |\n| smoothed_ssn |  |\n| observed_swpc_ssn |  |\n| smoothed_swpc_ssn |  |\n| f10.7 |  |\n| smoothed_f10.7 |  |\n\n</details>\n         \n"
          },
          "metadata": {}
        }
      ]
    },
    {
      "cell_type": "markdown",
      "source": [
        "# Calcul des effets de serre des planetes telluriques\n",
        "\n",
        "*Exercice: suivre les instructions de la cellules suivantes*"
      ],
      "metadata": {
        "id": "5P_iP0nKZ2bo"
      }
    },
    {
      "cell_type": "code",
      "source": [
        "%%evaluation_cell_id -i serre\n",
        "from bulkhours import constants as bkc\n",
        "\n",
        "planetes = bkc.DataFrame(index=[\"mercure\", \"venus\", \"terre\", \"mars\"], columns=[\"Albedo\", \"d_ua\", \"T_C\"])\n",
        "bkc.print(r\"Equilibre thermique: $(1-A)\\frac{ L_\\odot R^2}{4 d^2} \\equiv (1-S) 4 \\pi R^2 \\sigma T^4$\", size=\"+1\")\n",
        "\n",
        "# Calcul de la temperature d'equilibre attendues d'une planete en cas d'absence d'atmosphere:\n",
        "planetes[\"T_C/no atmo.\"] = (((1-planetes.Albedo) * bkc.L_soleil / (16 * np.pi * (planetes.d_ua * bkc.d_terresoleil)**2 * bkc.sigma))**0.25-bkc.c2k).round()\n",
        "\n",
        "# Calcul de la temperature d'equilibre attendues d'une planete en cas d'absence d'atmosphere:\n",
        "planetes[\"Effet de serre\"] = (1-( (1 - planetes.Albedo) * bkc.L_soleil / (planetes.T_C + bkc.c2k)**4 / (16 * bkc.pi * (planetes.d_ua * bkc.d_terresoleil)**2 * bkc.sigma))).round(3)\n",
        "\n",
        "bkc.print(r\"Forcage radiatif: $F = S\\cdot \\sigma \\cdot T^4$\", size=\"+1\")\n",
        "planetes[\"Forcage radiatif (W/m2)\"] = (planetes[\"Effet de serre\"] * bkc.sigma * (planetes.T_C + bkc.c2k)**4).round(3)\n",
        "display(planetes)\n",
        "\n",
        "\n",
        "def student_evaluation_function():\n",
        "    return bulkhours.is_equal(student.planetes)"
      ],
      "metadata": {
        "id": "bLywK-AsZ2jQ",
        "outputId": "9117e44e-52a4-4784-fadd-b0078d21d804",
        "colab": {
          "base_uri": "https://localhost:8080/",
          "height": 269,
          "referenced_widgets": [
            "25c67cf945d34326b0bfea48bc532e0c",
            "12e3e803df0447559e567708dcfa9a75",
            "40b17c06e0704abea67898f0616e0795",
            "10c8b756e4d146258ee06a728abe0d1e",
            "b43cc54aae5245089bf64b94f3a9c908",
            "41bbd3ce5f3b461c90e2b5c5c49300e1",
            "4c65573b6fa2414aaaaa6488592b2301",
            "eadcfc23e3fc49a28eab0579dae20572",
            "ca8ccc156b264b22b5fc1f902177055d",
            "e51e5e36d7094071ba6b4fb0e8de0738",
            "c9c32dbfa55c4b79ae4291fb02b82721",
            "6cc07558dabe4e378c0652fbebfde702",
            "064506822f724a5c878e1e92ffee63fb",
            "a5293894d3f043bbbf4182c44b910958",
            "20c1ff0e95d943919f4ce7d6e7e7ddef",
            "138de3b8fc7849f7b27cc2bdd0293cae"
          ]
        }
      },
      "execution_count": 7,
      "outputs": [
        {
          "output_type": "display_data",
          "data": {
            "text/plain": [
              "HBox(children=(Button(button_style='primary', description='Envoyer au correcteur', layout=Layout(width='150px'…"
            ],
            "application/vnd.jupyter.widget-view+json": {
              "version_major": 2,
              "version_minor": 0,
              "model_id": "25c67cf945d34326b0bfea48bc532e0c"
            }
          },
          "metadata": {}
        },
        {
          "output_type": "display_data",
          "data": {
            "text/plain": [
              "Output()"
            ],
            "application/vnd.jupyter.widget-view+json": {
              "version_major": 2,
              "version_minor": 0,
              "model_id": "20c1ff0e95d943919f4ce7d6e7e7ddef"
            }
          },
          "metadata": {}
        }
      ]
    },
    {
      "cell_type": "markdown",
      "source": [
        "# Evolution de la temperature de la terre\n",
        "\n",
        "En utilisant comme référence, la concentration de CO2 de l'ère preindustrielle (cc(CO2)=280ppm), faire differents scenarios pour l'evolution du climat d'ici à 2100:\n"
      ],
      "metadata": {
        "id": "HM6H129vak59"
      }
    },
    {
      "cell_type": "code",
      "source": [
        "%%evaluation_cell_id -i global_warming\n",
        "# Affichage de quelques scenarios\n",
        "fig, ax = plt.subplots(1, ncols=2, figsize=(12, 4))\n",
        "def calculate_T(ppm):\n",
        "    F = bkc.sigma * bkc.S_terre *(bkc.T_terre + bkc.c2k)**4\n",
        "    F_prime = F * np.log(ppm) / np.log(280)\n",
        "    T_prime = ( (1-bkc.S_terre) * (bkc.T_terre + bkc.c2k)**4 + F_prime / bkc.sigma)**0.25 - bkc.c2k\n",
        "    return T_prime-15\n",
        "\n",
        "co2 = bulkhours.get_data(\"co2.concentrations\", index=\"year\").loc[1900:].ffill()[\"CO2 concentrations\"]\n",
        "co2.plot(legend=True, ax=ax[0])\n",
        "calculate_T(co2).plot(legend=True, ax=ax[1], label=\"Anomalie de Temperature °C (Holocène)\")\n",
        "def scenario(label, damping_trend):\n",
        "    with ipywidgets.Output():\n",
        "        y_pred = smtsa.ExponentialSmoothing(co2, initialization_method='legacy-heuristic', damped_trend=True,\n",
        "                                            trend=\"mul\").fit(smoothing_trend=30, damping_trend=damping_trend).forecast(77); y_pred.index += 1900\n",
        "    y_pred.plot(legend=True, ax=ax[0], label=label)\n",
        "    calculate_T(y_pred).plot(legend=True, ax=ax[1], label=label)\n",
        "\n",
        "scenario(\"Scenario 1\", 0.987)\n",
        "scenario(\"Scenario 2\", 0.97)\n",
        "scenario(\"Scenario 3\", 0.95)"
      ],
      "metadata": {
        "id": "Th-zRrUsalDE",
        "outputId": "1e38e18d-aa5b-4d63-fad0-ff67f886c258",
        "colab": {
          "base_uri": "https://localhost:8080/",
          "height": 599,
          "referenced_widgets": [
            "8f74b8a34b2a4768bc128975604b75fe",
            "8bde0fe401ea4b519b99a39ab2bb8ea9",
            "baabec1610d940df9c155db49040a474",
            "3d278ccaeaf14641b82c3b15487d0721",
            "4c42ccb3f40d422b8d29ab988a5a535c",
            "1a13bdc394d046bd8ffc71451077e6d4",
            "0d082df395c64b798f7da5e4421687c5",
            "168460c615674eff8ea0b95538c4e719",
            "d510e44a1c6d49f2807a3d8cd833c775",
            "13eb0895038c4589bb7adf3833250073",
            "0c0f34555d0e44ccb536b9207123eb93",
            "c2931a0211f3438ebac75c49431e2b15",
            "d162e2a72203413c979de02f6f484f79"
          ]
        }
      },
      "execution_count": 8,
      "outputs": [
        {
          "output_type": "display_data",
          "data": {
            "text/plain": [
              "HBox(children=(Button(button_style='primary', description='Envoyer au correcteur', layout=Layout(width='150px'…"
            ],
            "application/vnd.jupyter.widget-view+json": {
              "version_major": 2,
              "version_minor": 0,
              "model_id": "8f74b8a34b2a4768bc128975604b75fe"
            }
          },
          "metadata": {}
        },
        {
          "output_type": "display_data",
          "data": {
            "text/plain": [
              "Output()"
            ],
            "application/vnd.jupyter.widget-view+json": {
              "version_major": 2,
              "version_minor": 0,
              "model_id": "c2931a0211f3438ebac75c49431e2b15"
            }
          },
          "metadata": {}
        }
      ]
    },
    {
      "cell_type": "markdown",
      "source": [
        "#Save a new data set"
      ],
      "metadata": {
        "id": "i1zM0osiZYkH"
      }
    },
    {
      "cell_type": "code",
      "source": [
        "#@bulkhours.DataParser.save_dataset(filename=\"gmacro.py\")\n",
        "@bulkhours.DataParser.register_dataset(\n",
        "    label=\"my_data\",\n",
        "    summary=\"My info on the subject\",\n",
        "    category=\"Economics\",\n",
        ")\n",
        "def get_stats2(self):\n",
        "    return pd.read_csv(\n",
        "        StringIO(\n",
        "            \"\"\"Country Mean\n",
        "Austria 16.196\n",
        "Belgium 18.741\n",
        "Bulgaria 5.349\n",
        "Czech Republic 8.060\n",
        "Denmark 19.528\n",
        "\"\"\"\n",
        "        ),\n",
        "        sep=\" \",\n",
        "    ).set_index(\"Country\")\n"
      ],
      "metadata": {
        "id": "sCSunNmBMdmx"
      },
      "execution_count": null,
      "outputs": []
    },
    {
      "cell_type": "code",
      "source": [
        "#bulkhours.get_data(\"my_data\")\n"
      ],
      "metadata": {
        "id": "izgplkT0NUlW",
        "outputId": "b9d12874-200b-4ace-afbd-fa4f2d9d5d5c",
        "colab": {
          "base_uri": "https://localhost:8080/",
          "height": 328
        }
      },
      "execution_count": null,
      "outputs": [
        {
          "output_type": "stream",
          "name": "stdout",
          "text": [
            "No data available for my_data (/content/bulkhours/data/my_data*)\n"
          ]
        },
        {
          "output_type": "error",
          "ename": "TypeError",
          "evalue": "ignored",
          "traceback": [
            "\u001b[0;31m---------------------------------------------------------------------------\u001b[0m",
            "\u001b[0;31mTypeError\u001b[0m                                 Traceback (most recent call last)",
            "\u001b[0;32m<ipython-input-8-9ef9e084fa25>\u001b[0m in \u001b[0;36m<cell line: 1>\u001b[0;34m()\u001b[0m\n\u001b[0;32m----> 1\u001b[0;31m \u001b[0mbulkhours\u001b[0m\u001b[0;34m.\u001b[0m\u001b[0mget_data\u001b[0m\u001b[0;34m(\u001b[0m\u001b[0;34m\"my_data\"\u001b[0m\u001b[0;34m)\u001b[0m\u001b[0;34m\u001b[0m\u001b[0;34m\u001b[0m\u001b[0m\n\u001b[0m",
            "\u001b[0;32m/content/bulkhours/bulkhours/data/__init__.py\u001b[0m in \u001b[0;36mget_data\u001b[0;34m(label, **kwargs)\u001b[0m\n\u001b[1;32m     23\u001b[0m     )\n\u001b[1;32m     24\u001b[0m \u001b[0;34m\u001b[0m\u001b[0m\n\u001b[0;32m---> 25\u001b[0;31m     \u001b[0;32mreturn\u001b[0m \u001b[0mDataParser\u001b[0m\u001b[0;34m(\u001b[0m\u001b[0;34m**\u001b[0m\u001b[0mdata_info\u001b[0m\u001b[0;34m)\u001b[0m\u001b[0;34m.\u001b[0m\u001b[0mget_data\u001b[0m\u001b[0;34m(\u001b[0m\u001b[0;34m)\u001b[0m\u001b[0;34m\u001b[0m\u001b[0;34m\u001b[0m\u001b[0m\n\u001b[0m\u001b[1;32m     26\u001b[0m \u001b[0;34m\u001b[0m\u001b[0m\n\u001b[1;32m     27\u001b[0m \u001b[0;34m\u001b[0m\u001b[0m\n",
            "\u001b[0;32m/content/bulkhours/bulkhours/data/data_parser.py\u001b[0m in \u001b[0;36mget_data\u001b[0;34m(self, credit)\u001b[0m\n\u001b[1;32m    241\u001b[0m                 \u001b[0mprint\u001b[0m\u001b[0;34m(\u001b[0m\u001b[0;34mf'bulkhours.get_data(\"{self.label}\", credit=\\033[1mFalse\\033[0m)  # To stop showing this text'\u001b[0m\u001b[0;34m)\u001b[0m\u001b[0;34m\u001b[0m\u001b[0;34m\u001b[0m\u001b[0m\n\u001b[1;32m    242\u001b[0m \u001b[0;34m\u001b[0m\u001b[0m\n\u001b[0;32m--> 243\u001b[0;31m             \u001b[0;32melif\u001b[0m \u001b[0;32mnot\u001b[0m \u001b[0;34m(\u001b[0m\u001b[0;34m\".gif\"\u001b[0m \u001b[0;32min\u001b[0m \u001b[0mself\u001b[0m\u001b[0;34m.\u001b[0m\u001b[0mlabel\u001b[0m \u001b[0;32mor\u001b[0m \u001b[0;34m\".png\"\u001b[0m \u001b[0;32min\u001b[0m \u001b[0mself\u001b[0m\u001b[0;34m.\u001b[0m\u001b[0mlabel\u001b[0m\u001b[0;34m)\u001b[0m\u001b[0;34m:\u001b[0m\u001b[0;34m\u001b[0m\u001b[0;34m\u001b[0m\u001b[0m\n\u001b[0m\u001b[1;32m    244\u001b[0m                 \u001b[0mprint\u001b[0m\u001b[0;34m(\u001b[0m\u001b[0;34mf\"Data {self.label} is not referenced\"\u001b[0m\u001b[0;34m)\u001b[0m\u001b[0;34m\u001b[0m\u001b[0;34m\u001b[0m\u001b[0m\n\u001b[1;32m    245\u001b[0m \u001b[0;34m\u001b[0m\u001b[0m\n",
            "\u001b[0;31mTypeError\u001b[0m: argument of type 'NoneType' is not iterable"
          ]
        }
      ]
    },
    {
      "cell_type": "code",
      "source": [],
      "metadata": {
        "id": "rbc2glGQcxuo"
      },
      "execution_count": null,
      "outputs": []
    }
  ]
}