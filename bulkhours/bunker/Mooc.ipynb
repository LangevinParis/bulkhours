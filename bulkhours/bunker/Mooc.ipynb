{
 "cells": [
  {
   "cell_type": "code",
   "execution_count": 3,
   "metadata": {
    "tags": []
   },
   "outputs": [],
   "source": [
    "#%matplotlib widget"
   ]
  },
  {
   "cell_type": "code",
   "execution_count": 1,
   "metadata": {
    "slideshow": {
     "slide_type": "slide"
    },
    "tags": []
   },
   "outputs": [],
   "source": [
    "from datetime import datetime, timedelta\n",
    "import calendar\n",
    "from glob import glob\n",
    "import json\n",
    "import pathlib\n",
    "\n",
    "import numpy as np\n",
    "import pandas as pd\n",
    "\n",
    "import matplotlib.pyplot as plt\n",
    "import seaborn as sns\n",
    "\n",
    "from ipywidgets import Button, FileUpload, GridspecLayout"
   ]
  },
  {
   "cell_type": "markdown",
   "metadata": {},
   "source": [
    "$$\\sigma$$"
   ]
  },
  {
   "cell_type": "code",
   "execution_count": 2,
   "metadata": {
    "slideshow": {
     "slide_type": "slide"
    },
    "tags": []
   },
   "outputs": [],
   "source": [
    "plt.ioff()\n",
    "\n",
    "fig = plt.figure(figsize=(9, 3))\n",
    "fig.set_tight_layout(dict(pad=0))\n",
    "\n",
    "fig.canvas.toolbar_visible = False\n",
    "fig.canvas.header_visible = False\n",
    "fig.canvas.footer_visible = False\n",
    "\n",
    "fig.patch.set_facecolor('white')"
   ]
  },
  {
   "cell_type": "code",
   "execution_count": 50,
   "metadata": {},
   "outputs": [
    {
     "data": {
      "application/vnd.jupyter.widget-view+json": {
       "model_id": "1dd9757bfe6d48b2b49ee61c2b045770",
       "version_major": 2,
       "version_minor": 0
      },
      "text/plain": [
       "Button(button_style='info', description='Previous page', icon='check', style=ButtonStyle(), tooltip='Previous …"
      ]
     },
     "metadata": {},
     "output_type": "display_data"
    },
    {
     "data": {
      "application/vnd.jupyter.widget-view+json": {
       "model_id": "2ad3b7b0effc4730b40ef8ee0b007897",
       "version_major": 2,
       "version_minor": 0
      },
      "text/plain": [
       "Button(button_style='info', description='Show Random', icon='check', style=ButtonStyle(), tooltip='Click me')"
      ]
     },
     "metadata": {},
     "output_type": "display_data"
    },
    {
     "data": {
      "application/vnd.jupyter.widget-view+json": {
       "model_id": "8b821b60a33b4f2d826c25ed0c189c5d",
       "version_major": 2,
       "version_minor": 0
      },
      "text/plain": [
       "Output()"
      ]
     },
     "metadata": {},
     "output_type": "display_data"
    },
    {
     "data": {
      "application/vnd.jupyter.widget-view+json": {
       "model_id": "f632b65d41644d599255a83711636efc",
       "version_major": 2,
       "version_minor": 0
      },
      "text/plain": [
       "GridspecLayout(children=(Button(button_style='info', description='Previous page', icon='check', layout=Layout(…"
      ]
     },
     "metadata": {},
     "output_type": "display_data"
    }
   ],
   "source": [
    "from IPython.display import display, clear_output\n",
    "import ipywidgets as widgets\n",
    "import random\n",
    "\n",
    "\n",
    "layout = GridspecLayout(20, 3, height='600px')\n",
    "\n",
    "p = widgets.Button(description='Previous page', disabled=False, button_style='info', tooltip='Previous page', icon='check')\n",
    "display(p)\n",
    "\n",
    "b = widgets.Button(description='Show Random', disabled=False, button_style='info', tooltip='Click me', icon='check')\n",
    "display(b)\n",
    "\n",
    "\n",
    "out = widgets.Output()\n",
    "display(out)\n",
    "\n",
    "\n",
    "layout[0, 0] = p\n",
    "layout[1, 0] = b\n",
    "layout[1, 1] = out\n",
    "\n",
    "layout[3:, :] = out\n",
    "\n",
    "display(layout)\n",
    "\n",
    "class Counter:\n",
    "    counters = {}\n",
    "\n",
    "    @staticmethod\n",
    "    def get_id(obj):\n",
    "        return \"summ\"\n",
    "        return id(obj)\n",
    "    \n",
    "    @staticmethod\n",
    "    def update_click_num(obj, increment):\n",
    "        idx = Counter.get_id(obj)\n",
    "        if idx not in Counter.counters:\n",
    "            Counter.counters[idx] = 0\n",
    "        Counter.counters[idx] += increment\n",
    "\n",
    "    @staticmethod\n",
    "    def next_page(obj):\n",
    "        Counter.update_click_num(obj, 1)\n",
    "\n",
    "    @staticmethod\n",
    "    def previous_page(obj):\n",
    "        Counter.update_click_num(obj, -1)\n",
    "\n",
    "    @staticmethod\n",
    "    def get_click_num(obj):\n",
    "        return Counter.counters[Counter.get_id(obj)]\n",
    "\n",
    "    @staticmethod\n",
    "    def display_page(pages, obj):\n",
    "        idx = Counter.get_id(obj)        \n",
    "        Counter.counters[idx] = np.clip(Counter.counters[idx], 0, len(pages)-1)\n",
    "        pages[Counter.counters[idx]]()\n",
    "\n",
    "    \n",
    "def question1():\n",
    "    print(\"Question 1\")\n",
    "\n",
    "def question2():\n",
    "    print(\"Question 2\")\n",
    "\n",
    "def question3():\n",
    "    print(\"Question 3\")\n",
    "\n",
    "pages = [question1, question2, question3]\n",
    "\n",
    "def on_button_clicked(b):\n",
    "    with out:\n",
    "        clear_output()\n",
    "        Counter.next_page(b)\n",
    "        Counter.display_page(pages, b)\n",
    "        \n",
    "        print(\"New hello from each button click!. This hello from {}.\".format(random.choice(list(range(100)))))\n",
    "        print(Counter.get_click_num(b))\n",
    "\n",
    "def on_previous_clicked(p):\n",
    "    with out:\n",
    "        clear_output()\n",
    "        Counter.previous_page(p)\n",
    "        Counter.display_page(pages, p)\n",
    "        \n",
    "        print(\"New hello from each button click!. This hello from {}.\".format(random.choice(list(range(100)))))\n",
    "        print(Counter.get_click_num(p))\n",
    "        \n",
    "p.on_click(on_previous_clicked)\n",
    "b.on_click(on_button_clicked)\n"
   ]
  },
  {
   "cell_type": "code",
   "execution_count": 8,
   "metadata": {},
   "outputs": [
    {
     "ename": "AttributeError",
     "evalue": "'Figure' object has no attribute 'layout'",
     "output_type": "error",
     "traceback": [
      "\u001b[0;31m---------------------------------------------------------------------------\u001b[0m",
      "\u001b[0;31mAttributeError\u001b[0m                            Traceback (most recent call last)",
      "\u001b[0;32m<ipython-input-8-1114dffd4760>\u001b[0m in \u001b[0;36m<module>\u001b[0;34m\u001b[0m\n\u001b[1;32m     28\u001b[0m \u001b[0mlayout\u001b[0m\u001b[0;34m[\u001b[0m\u001b[0;36m1\u001b[0m\u001b[0;34m,\u001b[0m \u001b[0;36m1\u001b[0m\u001b[0;34m]\u001b[0m \u001b[0;34m=\u001b[0m \u001b[0mplot\u001b[0m\u001b[0;34m\u001b[0m\u001b[0;34m\u001b[0m\u001b[0m\n\u001b[1;32m     29\u001b[0m \u001b[0;34m\u001b[0m\u001b[0m\n\u001b[0;32m---> 30\u001b[0;31m \u001b[0mlayout\u001b[0m\u001b[0;34m[\u001b[0m\u001b[0;36m3\u001b[0m\u001b[0;34m:\u001b[0m\u001b[0;34m,\u001b[0m \u001b[0;34m:\u001b[0m\u001b[0;34m]\u001b[0m \u001b[0;34m=\u001b[0m \u001b[0mfig\u001b[0m\u001b[0;31m#.canvas\u001b[0m\u001b[0;34m\u001b[0m\u001b[0;34m\u001b[0m\u001b[0m\n\u001b[0m\u001b[1;32m     31\u001b[0m \u001b[0;34m\u001b[0m\u001b[0m\n\u001b[1;32m     32\u001b[0m \u001b[0mlayout\u001b[0m\u001b[0;34m\u001b[0m\u001b[0;34m\u001b[0m\u001b[0m\n",
      "\u001b[0;32m/opt/anaconda/2011/envs/gtwealth-env/lib/python3.8/site-packages/ipywidgets/widgets/widget_templates.py\u001b[0m in \u001b[0;36m__setitem__\u001b[0;34m(self, key, value)\u001b[0m\n\u001b[1;32m    316\u001b[0m         \u001b[0mself\u001b[0m\u001b[0;34m.\u001b[0m\u001b[0m_id_count\u001b[0m \u001b[0;34m+=\u001b[0m \u001b[0;36m1\u001b[0m\u001b[0;34m\u001b[0m\u001b[0;34m\u001b[0m\u001b[0m\n\u001b[1;32m    317\u001b[0m         \u001b[0mobj_id\u001b[0m \u001b[0;34m=\u001b[0m \u001b[0;34m'widget%03d'\u001b[0m \u001b[0;34m%\u001b[0m \u001b[0mself\u001b[0m\u001b[0;34m.\u001b[0m\u001b[0m_id_count\u001b[0m\u001b[0;34m\u001b[0m\u001b[0;34m\u001b[0m\u001b[0m\n\u001b[0;32m--> 318\u001b[0;31m         \u001b[0mvalue\u001b[0m\u001b[0;34m.\u001b[0m\u001b[0mlayout\u001b[0m\u001b[0;34m.\u001b[0m\u001b[0mgrid_area\u001b[0m \u001b[0;34m=\u001b[0m \u001b[0mobj_id\u001b[0m\u001b[0;34m\u001b[0m\u001b[0;34m\u001b[0m\u001b[0m\n\u001b[0m\u001b[1;32m    319\u001b[0m \u001b[0;34m\u001b[0m\u001b[0m\n\u001b[1;32m    320\u001b[0m         \u001b[0mrows\u001b[0m\u001b[0;34m,\u001b[0m \u001b[0mcolumns\u001b[0m \u001b[0;34m=\u001b[0m \u001b[0mself\u001b[0m\u001b[0;34m.\u001b[0m\u001b[0m_get_indices_from_slice\u001b[0m\u001b[0;34m(\u001b[0m\u001b[0mrow\u001b[0m\u001b[0;34m,\u001b[0m \u001b[0mcolumn\u001b[0m\u001b[0;34m)\u001b[0m\u001b[0;34m\u001b[0m\u001b[0;34m\u001b[0m\u001b[0m\n",
      "\u001b[0;31mAttributeError\u001b[0m: 'Figure' object has no attribute 'layout'"
     ]
    }
   ],
   "source": [
    "layout = GridspecLayout(20, 3, height='600px')\n",
    "\n",
    "def on_sample_data_click(event):\n",
    "    update_figure('sample_data')\n",
    "\n",
    "def on_upload(change):\n",
    "    value = change['new']\n",
    "\n",
    "    for filename in value:\n",
    "        with open(filename, 'wb') as outfile:\n",
    "            outfile.write(value[filename]['content'])\n",
    "\n",
    "def show(event):\n",
    "    update_figure('.')\n",
    "\n",
    "load_sample_data = Button(description='Show sample data', layout=dict(width='auto', height='auto'))\n",
    "load_sample_data.on_click(on_sample_data_click)\n",
    "\n",
    "upload_data = FileUpload(description='Upload your data:', layout=dict(width='auto', height='auto'))\n",
    "upload_data.observe(on_upload, 'value')\n",
    "\n",
    "plot = Button(description='Show', button_style='success', layout=dict(width='auto', height='auto'))\n",
    "plot.on_click(show)\n",
    "\n",
    "\n",
    "layout[0, 0] = load_sample_data\n",
    "layout[1, 0] = upload_data\n",
    "layout[1, 1] = plot\n",
    "\n",
    "layout[3:, :] = fig#.canvas\n",
    "\n",
    "layout"
   ]
  },
  {
   "cell_type": "code",
   "execution_count": null,
   "metadata": {},
   "outputs": [],
   "source": []
  }
 ],
 "metadata": {
  "kernelspec": {
   "display_name": "gtwealth-env",
   "language": "python",
   "name": "gtwealth-env"
  },
  "language_info": {
   "codemirror_mode": {
    "name": "ipython",
    "version": 3
   },
   "file_extension": ".py",
   "mimetype": "text/x-python",
   "name": "python",
   "nbconvert_exporter": "python",
   "pygments_lexer": "ipython3",
   "version": "3.8.5"
  }
 },
 "nbformat": 4,
 "nbformat_minor": 5
}
